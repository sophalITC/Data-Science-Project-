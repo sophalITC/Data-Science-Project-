{
 "cells": [
  {
   "cell_type": "markdown",
   "id": "4824ff5c",
   "metadata": {},
   "source": [
    "<body>\n",
    "    <div style=\"font-family:verdana; background-color:white; color:navy; padding:10px;\">\n",
    "        <h1><center> Programming for Data Science Final Project<br>\n",
    "            Condo Rental Price </center></h1>\n",
    "        </div>\n",
    "</body>"
   ]
  },
  {
   "cell_type": "markdown",
   "id": "660c127f",
   "metadata": {},
   "source": [
    "<span style=\"font-family:'Tw Cen MT'; font-size:30px; color:red\"> Introduction "
   ]
  },
  {
   "cell_type": "markdown",
   "id": "c9fd578a",
   "metadata": {},
   "source": [
    "<span style=\"font-family:'Tw Cen MT'; font-size:20px; color:blue\"> Living in condo units is a new trend in Cambodia compared to other countries in the world due to high price of houses in central Phnom Penh and the problem of traffic jam. This increases the demand in condo market, especially the rental one as young people cannot afford to buy a condominium for themselves. In this study, linear regression models are used to predict the price of a condo unit based on importance features. At the same time, the differences between three linear regression models which are sklearn.linear_model.LinearRegression, sklearn.linear_model.SGDRegressor, and the from-scratch programing model using gradient descent algorithm on squared error cost function are discussed."
   ]
  },
  {
   "cell_type": "markdown",
   "id": "9d15ae8f",
   "metadata": {},
   "source": [
    "<span style=\"font-family:'Tw Cen MT'; font-size:30px; color:red\"> Content\n",
    "    \n",
    "> <span style=\"font-family:'Tw Cen MT'; font-size:20px; color:blue\"> - 1. Data collection\n",
    "    \n",
    "> <span style=\"font-family:'Tw Cen MT'; font-size:20px; color:blue\">- 2. Data preprocessing \n",
    "    \n",
    "> <span style=\"font-family:'Tw Cen MT'; font-size:20px; color:blue\">- 3. Exploratory data analysis \n",
    "    \n",
    "> <span style=\"font-family:'Tw Cen MT'; font-size:20px; color:blue\">- 4. Modeling"
   ]
  },
  {
   "cell_type": "markdown",
   "id": "cb98bec0",
   "metadata": {},
   "source": [
    "<span style=\"font-family:'Tw Cen MT'; font-size:30px; color:red\"> 1. Data collection"
   ]
  },
  {
   "cell_type": "markdown",
   "id": "2c77c5bd",
   "metadata": {},
   "source": [
    "<span style=\"font-family:'Tw Cen MT'; font-size:20px; color:blue\"> Data about a condo unit consists of rental prices in USD/month, area of the unit in squared meter, number of bed rooms, and where it located (Khan). They are collected from 3 different websites which are ‘harbor-property.com’, ‘realestate.com.kh’, and ‘khmer24.com’. To make sure the data is up to date, only data posted within 6 months are collected. There totally 400 samples."
   ]
  },
  {
   "cell_type": "markdown",
   "id": "00622dab",
   "metadata": {},
   "source": [
    "<span style=\"font-family:'Tw Cen MT'; font-size:30px; color:red\"> 2. Data preprocessing"
   ]
  },
  {
   "cell_type": "code",
   "execution_count": 7,
   "id": "9897133f",
   "metadata": {},
   "outputs": [],
   "source": [
    "# import necessary packages\n",
    "import numpy as np\n",
    "import pandas as pd"
   ]
  },
  {
   "cell_type": "code",
   "execution_count": 8,
   "id": "1af48b9e",
   "metadata": {},
   "outputs": [
    {
     "name": "stderr",
     "output_type": "stream",
     "text": [
      "C:\\Users\\Touch Sopheak\\anaconda3\\lib\\site-packages\\openpyxl\\worksheet\\_reader.py:312: UserWarning: Data Validation extension is not supported and will be removed\n",
      "  warn(msg)\n"
     ]
    }
   ],
   "source": [
    "# load data\n",
    "df = pd.read_excel('Condo_rental_raw.xlsx')"
   ]
  },
  {
   "cell_type": "code",
   "execution_count": 10,
   "id": "40724ca2",
   "metadata": {},
   "outputs": [
    {
     "data": {
      "text/html": [
       "<div>\n",
       "<style scoped>\n",
       "    .dataframe tbody tr th:only-of-type {\n",
       "        vertical-align: middle;\n",
       "    }\n",
       "\n",
       "    .dataframe tbody tr th {\n",
       "        vertical-align: top;\n",
       "    }\n",
       "\n",
       "    .dataframe thead th {\n",
       "        text-align: right;\n",
       "    }\n",
       "</style>\n",
       "<table border=\"1\" class=\"dataframe\">\n",
       "  <thead>\n",
       "    <tr style=\"text-align: right;\">\n",
       "      <th></th>\n",
       "      <th>No.</th>\n",
       "      <th>Rental price (USD/month)</th>\n",
       "      <th>Area (m2)</th>\n",
       "      <th>No. bedroom</th>\n",
       "      <th>Khan</th>\n",
       "      <th>Sangkat</th>\n",
       "      <th>Data posted</th>\n",
       "    </tr>\n",
       "  </thead>\n",
       "  <tbody>\n",
       "    <tr>\n",
       "      <th>0</th>\n",
       "      <td>1</td>\n",
       "      <td>1200</td>\n",
       "      <td>130.0</td>\n",
       "      <td>3.0</td>\n",
       "      <td>Mean Chey</td>\n",
       "      <td>Chakto Mukh</td>\n",
       "      <td>2022-03-02</td>\n",
       "    </tr>\n",
       "    <tr>\n",
       "      <th>1</th>\n",
       "      <td>2</td>\n",
       "      <td>1100</td>\n",
       "      <td>135.0</td>\n",
       "      <td>3.0</td>\n",
       "      <td>Chamkar Mon</td>\n",
       "      <td>Tonle Basak</td>\n",
       "      <td>2022-10-26</td>\n",
       "    </tr>\n",
       "    <tr>\n",
       "      <th>2</th>\n",
       "      <td>3</td>\n",
       "      <td>900</td>\n",
       "      <td>63.0</td>\n",
       "      <td>2.0</td>\n",
       "      <td>Chamkar Mon</td>\n",
       "      <td>Tonle Basak</td>\n",
       "      <td>2023-01-07</td>\n",
       "    </tr>\n",
       "    <tr>\n",
       "      <th>3</th>\n",
       "      <td>4</td>\n",
       "      <td>800</td>\n",
       "      <td>107.0</td>\n",
       "      <td>2.0</td>\n",
       "      <td>Tuol Kouk</td>\n",
       "      <td>Boeng Kak Ti Muoy</td>\n",
       "      <td>2023-02-03</td>\n",
       "    </tr>\n",
       "    <tr>\n",
       "      <th>4</th>\n",
       "      <td>5</td>\n",
       "      <td>870</td>\n",
       "      <td>NaN</td>\n",
       "      <td>2.0</td>\n",
       "      <td>Chamkar Mon</td>\n",
       "      <td>Boeng Keng Kang Ti Bei</td>\n",
       "      <td>2023-02-03</td>\n",
       "    </tr>\n",
       "  </tbody>\n",
       "</table>\n",
       "</div>"
      ],
      "text/plain": [
       "   No.  Rental price (USD/month)  Area (m2)  No. bedroom         Khan  \\\n",
       "0    1                      1200      130.0          3.0    Mean Chey   \n",
       "1    2                      1100      135.0          3.0  Chamkar Mon   \n",
       "2    3                       900       63.0          2.0  Chamkar Mon   \n",
       "3    4                       800      107.0          2.0    Tuol Kouk   \n",
       "4    5                       870        NaN          2.0  Chamkar Mon   \n",
       "\n",
       "                  Sangkat Data posted  \n",
       "0             Chakto Mukh  2022-03-02  \n",
       "1             Tonle Basak  2022-10-26  \n",
       "2             Tonle Basak  2023-01-07  \n",
       "3       Boeng Kak Ti Muoy  2023-02-03  \n",
       "4  Boeng Keng Kang Ti Bei  2023-02-03  "
      ]
     },
     "execution_count": 10,
     "metadata": {},
     "output_type": "execute_result"
    }
   ],
   "source": [
    "# preview some rows of data\n",
    "df.head()"
   ]
  },
  {
   "cell_type": "code",
   "execution_count": 9,
   "id": "ecb95c58",
   "metadata": {},
   "outputs": [
    {
     "data": {
      "text/plain": [
       "Index(['No.', 'Rental price (USD/month)', 'Area (m2)', 'No. bedroom', 'Khan',\n",
       "       'Sangkat', 'Data posted'],\n",
       "      dtype='object')"
      ]
     },
     "execution_count": 9,
     "metadata": {},
     "output_type": "execute_result"
    }
   ],
   "source": [
    "# print columns of data frame\n",
    "df.columns"
   ]
  },
  {
   "cell_type": "code",
   "execution_count": 11,
   "id": "77e00f6d",
   "metadata": {},
   "outputs": [
    {
     "data": {
      "text/html": [
       "<div>\n",
       "<style scoped>\n",
       "    .dataframe tbody tr th:only-of-type {\n",
       "        vertical-align: middle;\n",
       "    }\n",
       "\n",
       "    .dataframe tbody tr th {\n",
       "        vertical-align: top;\n",
       "    }\n",
       "\n",
       "    .dataframe thead th {\n",
       "        text-align: right;\n",
       "    }\n",
       "</style>\n",
       "<table border=\"1\" class=\"dataframe\">\n",
       "  <thead>\n",
       "    <tr style=\"text-align: right;\">\n",
       "      <th></th>\n",
       "      <th>Rental price (USD/month)</th>\n",
       "      <th>Area (m2)</th>\n",
       "      <th>No. bedroom</th>\n",
       "      <th>Khan</th>\n",
       "    </tr>\n",
       "  </thead>\n",
       "  <tbody>\n",
       "    <tr>\n",
       "      <th>0</th>\n",
       "      <td>1200</td>\n",
       "      <td>130.0</td>\n",
       "      <td>3.0</td>\n",
       "      <td>Mean Chey</td>\n",
       "    </tr>\n",
       "    <tr>\n",
       "      <th>1</th>\n",
       "      <td>1100</td>\n",
       "      <td>135.0</td>\n",
       "      <td>3.0</td>\n",
       "      <td>Chamkar Mon</td>\n",
       "    </tr>\n",
       "    <tr>\n",
       "      <th>2</th>\n",
       "      <td>900</td>\n",
       "      <td>63.0</td>\n",
       "      <td>2.0</td>\n",
       "      <td>Chamkar Mon</td>\n",
       "    </tr>\n",
       "    <tr>\n",
       "      <th>3</th>\n",
       "      <td>800</td>\n",
       "      <td>107.0</td>\n",
       "      <td>2.0</td>\n",
       "      <td>Tuol Kouk</td>\n",
       "    </tr>\n",
       "    <tr>\n",
       "      <th>4</th>\n",
       "      <td>870</td>\n",
       "      <td>NaN</td>\n",
       "      <td>2.0</td>\n",
       "      <td>Chamkar Mon</td>\n",
       "    </tr>\n",
       "  </tbody>\n",
       "</table>\n",
       "</div>"
      ],
      "text/plain": [
       "   Rental price (USD/month)  Area (m2)  No. bedroom         Khan\n",
       "0                      1200      130.0          3.0    Mean Chey\n",
       "1                      1100      135.0          3.0  Chamkar Mon\n",
       "2                       900       63.0          2.0  Chamkar Mon\n",
       "3                       800      107.0          2.0    Tuol Kouk\n",
       "4                       870        NaN          2.0  Chamkar Mon"
      ]
     },
     "execution_count": 11,
     "metadata": {},
     "output_type": "execute_result"
    }
   ],
   "source": [
    "# for this study, we are interested in prediction rental price with three features, Area(m2), No. bedroom and Khan\n",
    "df = df[['Rental price (USD/month)', 'Area (m2)', 'No. bedroom', 'Khan']]\n",
    "df.head()"
   ]
  },
  {
   "cell_type": "code",
   "execution_count": 12,
   "id": "87b2bbcd",
   "metadata": {},
   "outputs": [
    {
     "data": {
      "text/plain": [
       "(400, 4)"
      ]
     },
     "execution_count": 12,
     "metadata": {},
     "output_type": "execute_result"
    }
   ],
   "source": [
    "# check size of data\n",
    "df.shape"
   ]
  },
  {
   "cell_type": "code",
   "execution_count": 13,
   "id": "d28cd792",
   "metadata": {},
   "outputs": [
    {
     "data": {
      "text/plain": [
       "Rental price (USD/month)     0\n",
       "Area (m2)                   23\n",
       "No. bedroom                  3\n",
       "Khan                         1\n",
       "dtype: int64"
      ]
     },
     "execution_count": 13,
     "metadata": {},
     "output_type": "execute_result"
    }
   ],
   "source": [
    "# check number of null values in each collumn\n",
    "df.isnull().sum()"
   ]
  },
  {
   "cell_type": "code",
   "execution_count": 14,
   "id": "9ff8485f",
   "metadata": {},
   "outputs": [
    {
     "data": {
      "text/html": [
       "<div>\n",
       "<style scoped>\n",
       "    .dataframe tbody tr th:only-of-type {\n",
       "        vertical-align: middle;\n",
       "    }\n",
       "\n",
       "    .dataframe tbody tr th {\n",
       "        vertical-align: top;\n",
       "    }\n",
       "\n",
       "    .dataframe thead th {\n",
       "        text-align: right;\n",
       "    }\n",
       "</style>\n",
       "<table border=\"1\" class=\"dataframe\">\n",
       "  <thead>\n",
       "    <tr style=\"text-align: right;\">\n",
       "      <th></th>\n",
       "      <th>Rental price (USD/month)</th>\n",
       "      <th>Area (m2)</th>\n",
       "      <th>No. bedroom</th>\n",
       "      <th>Khan</th>\n",
       "    </tr>\n",
       "  </thead>\n",
       "  <tbody>\n",
       "    <tr>\n",
       "      <th>0</th>\n",
       "      <td>1200</td>\n",
       "      <td>130.0</td>\n",
       "      <td>3.0</td>\n",
       "      <td>Mean Chey</td>\n",
       "    </tr>\n",
       "    <tr>\n",
       "      <th>1</th>\n",
       "      <td>1100</td>\n",
       "      <td>135.0</td>\n",
       "      <td>3.0</td>\n",
       "      <td>Chamkar Mon</td>\n",
       "    </tr>\n",
       "    <tr>\n",
       "      <th>2</th>\n",
       "      <td>900</td>\n",
       "      <td>63.0</td>\n",
       "      <td>2.0</td>\n",
       "      <td>Chamkar Mon</td>\n",
       "    </tr>\n",
       "    <tr>\n",
       "      <th>3</th>\n",
       "      <td>800</td>\n",
       "      <td>107.0</td>\n",
       "      <td>2.0</td>\n",
       "      <td>Tuol Kouk</td>\n",
       "    </tr>\n",
       "    <tr>\n",
       "      <th>4</th>\n",
       "      <td>2500</td>\n",
       "      <td>91.0</td>\n",
       "      <td>2.0</td>\n",
       "      <td>Chamkar Mon</td>\n",
       "    </tr>\n",
       "  </tbody>\n",
       "</table>\n",
       "</div>"
      ],
      "text/plain": [
       "   Rental price (USD/month)  Area (m2)  No. bedroom         Khan\n",
       "0                      1200      130.0          3.0    Mean Chey\n",
       "1                      1100      135.0          3.0  Chamkar Mon\n",
       "2                       900       63.0          2.0  Chamkar Mon\n",
       "3                       800      107.0          2.0    Tuol Kouk\n",
       "4                      2500       91.0          2.0  Chamkar Mon"
      ]
     },
     "execution_count": 14,
     "metadata": {},
     "output_type": "execute_result"
    }
   ],
   "source": [
    "# as null values represent less than 6% of the data, we decide to remove all rows containing them\n",
    "df = df.dropna()\n",
    "df = df.reset_index(drop=True)\n",
    "df.head()"
   ]
  },
  {
   "cell_type": "code",
   "execution_count": 15,
   "id": "41ea9e6a",
   "metadata": {},
   "outputs": [
    {
     "data": {
      "text/plain": [
       "Rental price (USD/month)    0\n",
       "Area (m2)                   0\n",
       "No. bedroom                 0\n",
       "Khan                        0\n",
       "dtype: int64"
      ]
     },
     "execution_count": 15,
     "metadata": {},
     "output_type": "execute_result"
    }
   ],
   "source": [
    "# check null values again\n",
    "df.isnull().sum()"
   ]
  },
  {
   "cell_type": "code",
   "execution_count": 16,
   "id": "4ca7fb14",
   "metadata": {},
   "outputs": [
    {
     "data": {
      "text/html": [
       "<div>\n",
       "<style scoped>\n",
       "    .dataframe tbody tr th:only-of-type {\n",
       "        vertical-align: middle;\n",
       "    }\n",
       "\n",
       "    .dataframe tbody tr th {\n",
       "        vertical-align: top;\n",
       "    }\n",
       "\n",
       "    .dataframe thead th {\n",
       "        text-align: right;\n",
       "    }\n",
       "</style>\n",
       "<table border=\"1\" class=\"dataframe\">\n",
       "  <thead>\n",
       "    <tr style=\"text-align: right;\">\n",
       "      <th></th>\n",
       "      <th>Khan</th>\n",
       "    </tr>\n",
       "  </thead>\n",
       "  <tbody>\n",
       "    <tr>\n",
       "      <th>count</th>\n",
       "      <td>374</td>\n",
       "    </tr>\n",
       "    <tr>\n",
       "      <th>unique</th>\n",
       "      <td>8</td>\n",
       "    </tr>\n",
       "    <tr>\n",
       "      <th>top</th>\n",
       "      <td>Chamkar Mon</td>\n",
       "    </tr>\n",
       "    <tr>\n",
       "      <th>freq</th>\n",
       "      <td>232</td>\n",
       "    </tr>\n",
       "  </tbody>\n",
       "</table>\n",
       "</div>"
      ],
      "text/plain": [
       "               Khan\n",
       "count           374\n",
       "unique            8\n",
       "top     Chamkar Mon\n",
       "freq            232"
      ]
     },
     "execution_count": 16,
     "metadata": {},
     "output_type": "execute_result"
    }
   ],
   "source": [
    "# summary statistic (cateogrical values)\n",
    "df.describe(include = 'object')"
   ]
  },
  {
   "cell_type": "code",
   "execution_count": 17,
   "id": "4269e8d3",
   "metadata": {},
   "outputs": [
    {
     "data": {
      "text/plain": [
       "['Chamkar Mon',\n",
       " 'Chbar Ampov',\n",
       " 'Doun Penh',\n",
       " 'Mean Chey',\n",
       " 'Prampir Meakkakra',\n",
       " 'Russey Keo',\n",
       " 'Saensokh',\n",
       " 'Tuol Kouk']"
      ]
     },
     "execution_count": 17,
     "metadata": {},
     "output_type": "execute_result"
    }
   ],
   "source": [
    "# check unique values of Khan\n",
    "sorted(df.Khan.unique())"
   ]
  },
  {
   "cell_type": "code",
   "execution_count": 18,
   "id": "d05bca83",
   "metadata": {},
   "outputs": [
    {
     "data": {
      "text/html": [
       "<div>\n",
       "<style scoped>\n",
       "    .dataframe tbody tr th:only-of-type {\n",
       "        vertical-align: middle;\n",
       "    }\n",
       "\n",
       "    .dataframe tbody tr th {\n",
       "        vertical-align: top;\n",
       "    }\n",
       "\n",
       "    .dataframe thead th {\n",
       "        text-align: right;\n",
       "    }\n",
       "</style>\n",
       "<table border=\"1\" class=\"dataframe\">\n",
       "  <thead>\n",
       "    <tr style=\"text-align: right;\">\n",
       "      <th></th>\n",
       "      <th>Rental price (USD/month)</th>\n",
       "      <th>Area (m2)</th>\n",
       "      <th>No. bedroom</th>\n",
       "      <th>Khan</th>\n",
       "      <th>Chamkar Mon</th>\n",
       "      <th>Chbar Ampov</th>\n",
       "      <th>Doun Penh</th>\n",
       "      <th>Mean Chey</th>\n",
       "      <th>Prampir Meakkakra</th>\n",
       "      <th>Russey Keo</th>\n",
       "      <th>Saensokh</th>\n",
       "      <th>Tuol Kouk</th>\n",
       "    </tr>\n",
       "  </thead>\n",
       "  <tbody>\n",
       "    <tr>\n",
       "      <th>0</th>\n",
       "      <td>1200</td>\n",
       "      <td>130.0</td>\n",
       "      <td>3.0</td>\n",
       "      <td>Mean Chey</td>\n",
       "      <td>0</td>\n",
       "      <td>0</td>\n",
       "      <td>0</td>\n",
       "      <td>1</td>\n",
       "      <td>0</td>\n",
       "      <td>0</td>\n",
       "      <td>0</td>\n",
       "      <td>0</td>\n",
       "    </tr>\n",
       "    <tr>\n",
       "      <th>1</th>\n",
       "      <td>1100</td>\n",
       "      <td>135.0</td>\n",
       "      <td>3.0</td>\n",
       "      <td>Chamkar Mon</td>\n",
       "      <td>1</td>\n",
       "      <td>0</td>\n",
       "      <td>0</td>\n",
       "      <td>0</td>\n",
       "      <td>0</td>\n",
       "      <td>0</td>\n",
       "      <td>0</td>\n",
       "      <td>0</td>\n",
       "    </tr>\n",
       "    <tr>\n",
       "      <th>2</th>\n",
       "      <td>900</td>\n",
       "      <td>63.0</td>\n",
       "      <td>2.0</td>\n",
       "      <td>Chamkar Mon</td>\n",
       "      <td>1</td>\n",
       "      <td>0</td>\n",
       "      <td>0</td>\n",
       "      <td>0</td>\n",
       "      <td>0</td>\n",
       "      <td>0</td>\n",
       "      <td>0</td>\n",
       "      <td>0</td>\n",
       "    </tr>\n",
       "    <tr>\n",
       "      <th>3</th>\n",
       "      <td>800</td>\n",
       "      <td>107.0</td>\n",
       "      <td>2.0</td>\n",
       "      <td>Tuol Kouk</td>\n",
       "      <td>0</td>\n",
       "      <td>0</td>\n",
       "      <td>0</td>\n",
       "      <td>0</td>\n",
       "      <td>0</td>\n",
       "      <td>0</td>\n",
       "      <td>0</td>\n",
       "      <td>1</td>\n",
       "    </tr>\n",
       "    <tr>\n",
       "      <th>4</th>\n",
       "      <td>2500</td>\n",
       "      <td>91.0</td>\n",
       "      <td>2.0</td>\n",
       "      <td>Chamkar Mon</td>\n",
       "      <td>1</td>\n",
       "      <td>0</td>\n",
       "      <td>0</td>\n",
       "      <td>0</td>\n",
       "      <td>0</td>\n",
       "      <td>0</td>\n",
       "      <td>0</td>\n",
       "      <td>0</td>\n",
       "    </tr>\n",
       "  </tbody>\n",
       "</table>\n",
       "</div>"
      ],
      "text/plain": [
       "   Rental price (USD/month)  Area (m2)  No. bedroom         Khan  Chamkar Mon  \\\n",
       "0                      1200      130.0          3.0    Mean Chey            0   \n",
       "1                      1100      135.0          3.0  Chamkar Mon            1   \n",
       "2                       900       63.0          2.0  Chamkar Mon            1   \n",
       "3                       800      107.0          2.0    Tuol Kouk            0   \n",
       "4                      2500       91.0          2.0  Chamkar Mon            1   \n",
       "\n",
       "   Chbar Ampov  Doun Penh  Mean Chey  Prampir Meakkakra  Russey Keo  Saensokh  \\\n",
       "0            0          0          1                  0           0         0   \n",
       "1            0          0          0                  0           0         0   \n",
       "2            0          0          0                  0           0         0   \n",
       "3            0          0          0                  0           0         0   \n",
       "4            0          0          0                  0           0         0   \n",
       "\n",
       "   Tuol Kouk  \n",
       "0          0  \n",
       "1          0  \n",
       "2          0  \n",
       "3          1  \n",
       "4          0  "
      ]
     },
     "execution_count": 18,
     "metadata": {},
     "output_type": "execute_result"
    }
   ],
   "source": [
    "# one hot encode for each variable of Khan\n",
    "for khan in sorted(df.Khan.unique()):\n",
    "    df[khan] = (df['Khan']==khan).astype(int)\n",
    "\n",
    "df.head()"
   ]
  },
  {
   "cell_type": "code",
   "execution_count": 19,
   "id": "d4262c07",
   "metadata": {},
   "outputs": [
    {
     "data": {
      "text/html": [
       "<div>\n",
       "<style scoped>\n",
       "    .dataframe tbody tr th:only-of-type {\n",
       "        vertical-align: middle;\n",
       "    }\n",
       "\n",
       "    .dataframe tbody tr th {\n",
       "        vertical-align: top;\n",
       "    }\n",
       "\n",
       "    .dataframe thead th {\n",
       "        text-align: right;\n",
       "    }\n",
       "</style>\n",
       "<table border=\"1\" class=\"dataframe\">\n",
       "  <thead>\n",
       "    <tr style=\"text-align: right;\">\n",
       "      <th></th>\n",
       "      <th>Rental price (USD/month)</th>\n",
       "      <th>Area (m2)</th>\n",
       "      <th>No. bedroom</th>\n",
       "      <th>Chamkar Mon</th>\n",
       "      <th>Chbar Ampov</th>\n",
       "      <th>Doun Penh</th>\n",
       "      <th>Mean Chey</th>\n",
       "      <th>Prampir Meakkakra</th>\n",
       "      <th>Russey Keo</th>\n",
       "      <th>Saensokh</th>\n",
       "      <th>Tuol Kouk</th>\n",
       "    </tr>\n",
       "  </thead>\n",
       "  <tbody>\n",
       "    <tr>\n",
       "      <th>0</th>\n",
       "      <td>1200</td>\n",
       "      <td>130.0</td>\n",
       "      <td>3.0</td>\n",
       "      <td>0</td>\n",
       "      <td>0</td>\n",
       "      <td>0</td>\n",
       "      <td>1</td>\n",
       "      <td>0</td>\n",
       "      <td>0</td>\n",
       "      <td>0</td>\n",
       "      <td>0</td>\n",
       "    </tr>\n",
       "    <tr>\n",
       "      <th>1</th>\n",
       "      <td>1100</td>\n",
       "      <td>135.0</td>\n",
       "      <td>3.0</td>\n",
       "      <td>1</td>\n",
       "      <td>0</td>\n",
       "      <td>0</td>\n",
       "      <td>0</td>\n",
       "      <td>0</td>\n",
       "      <td>0</td>\n",
       "      <td>0</td>\n",
       "      <td>0</td>\n",
       "    </tr>\n",
       "    <tr>\n",
       "      <th>2</th>\n",
       "      <td>900</td>\n",
       "      <td>63.0</td>\n",
       "      <td>2.0</td>\n",
       "      <td>1</td>\n",
       "      <td>0</td>\n",
       "      <td>0</td>\n",
       "      <td>0</td>\n",
       "      <td>0</td>\n",
       "      <td>0</td>\n",
       "      <td>0</td>\n",
       "      <td>0</td>\n",
       "    </tr>\n",
       "    <tr>\n",
       "      <th>3</th>\n",
       "      <td>800</td>\n",
       "      <td>107.0</td>\n",
       "      <td>2.0</td>\n",
       "      <td>0</td>\n",
       "      <td>0</td>\n",
       "      <td>0</td>\n",
       "      <td>0</td>\n",
       "      <td>0</td>\n",
       "      <td>0</td>\n",
       "      <td>0</td>\n",
       "      <td>1</td>\n",
       "    </tr>\n",
       "    <tr>\n",
       "      <th>4</th>\n",
       "      <td>2500</td>\n",
       "      <td>91.0</td>\n",
       "      <td>2.0</td>\n",
       "      <td>1</td>\n",
       "      <td>0</td>\n",
       "      <td>0</td>\n",
       "      <td>0</td>\n",
       "      <td>0</td>\n",
       "      <td>0</td>\n",
       "      <td>0</td>\n",
       "      <td>0</td>\n",
       "    </tr>\n",
       "  </tbody>\n",
       "</table>\n",
       "</div>"
      ],
      "text/plain": [
       "   Rental price (USD/month)  Area (m2)  No. bedroom  Chamkar Mon  Chbar Ampov  \\\n",
       "0                      1200      130.0          3.0            0            0   \n",
       "1                      1100      135.0          3.0            1            0   \n",
       "2                       900       63.0          2.0            1            0   \n",
       "3                       800      107.0          2.0            0            0   \n",
       "4                      2500       91.0          2.0            1            0   \n",
       "\n",
       "   Doun Penh  Mean Chey  Prampir Meakkakra  Russey Keo  Saensokh  Tuol Kouk  \n",
       "0          0          1                  0           0         0          0  \n",
       "1          0          0                  0           0         0          0  \n",
       "2          0          0                  0           0         0          0  \n",
       "3          0          0                  0           0         0          1  \n",
       "4          0          0                  0           0         0          0  "
      ]
     },
     "execution_count": 19,
     "metadata": {},
     "output_type": "execute_result"
    }
   ],
   "source": [
    "# remove 'Khan' column\n",
    "df.drop(columns='Khan', inplace=True)\n",
    "df.head()"
   ]
  },
  {
   "cell_type": "code",
   "execution_count": 20,
   "id": "1afaf0eb",
   "metadata": {},
   "outputs": [
    {
     "data": {
      "text/html": [
       "<div>\n",
       "<style scoped>\n",
       "    .dataframe tbody tr th:only-of-type {\n",
       "        vertical-align: middle;\n",
       "    }\n",
       "\n",
       "    .dataframe tbody tr th {\n",
       "        vertical-align: top;\n",
       "    }\n",
       "\n",
       "    .dataframe thead th {\n",
       "        text-align: right;\n",
       "    }\n",
       "</style>\n",
       "<table border=\"1\" class=\"dataframe\">\n",
       "  <thead>\n",
       "    <tr style=\"text-align: right;\">\n",
       "      <th></th>\n",
       "      <th>Rental price (USD/month)</th>\n",
       "      <th>Area (m2)</th>\n",
       "      <th>No. bedroom</th>\n",
       "      <th>Chamkar Mon</th>\n",
       "      <th>Chbar Ampov</th>\n",
       "      <th>Doun Penh</th>\n",
       "      <th>Mean Chey</th>\n",
       "      <th>Prampir Meakkakra</th>\n",
       "      <th>Russey Keo</th>\n",
       "      <th>Saensokh</th>\n",
       "      <th>Tuol Kouk</th>\n",
       "    </tr>\n",
       "  </thead>\n",
       "  <tbody>\n",
       "    <tr>\n",
       "      <th>0</th>\n",
       "      <td>1200</td>\n",
       "      <td>0.260214</td>\n",
       "      <td>3.0</td>\n",
       "      <td>0</td>\n",
       "      <td>0</td>\n",
       "      <td>0</td>\n",
       "      <td>1</td>\n",
       "      <td>0</td>\n",
       "      <td>0</td>\n",
       "      <td>0</td>\n",
       "      <td>0</td>\n",
       "    </tr>\n",
       "    <tr>\n",
       "      <th>1</th>\n",
       "      <td>1100</td>\n",
       "      <td>0.282436</td>\n",
       "      <td>3.0</td>\n",
       "      <td>1</td>\n",
       "      <td>0</td>\n",
       "      <td>0</td>\n",
       "      <td>0</td>\n",
       "      <td>0</td>\n",
       "      <td>0</td>\n",
       "      <td>0</td>\n",
       "      <td>0</td>\n",
       "    </tr>\n",
       "    <tr>\n",
       "      <th>2</th>\n",
       "      <td>900</td>\n",
       "      <td>-0.037564</td>\n",
       "      <td>2.0</td>\n",
       "      <td>1</td>\n",
       "      <td>0</td>\n",
       "      <td>0</td>\n",
       "      <td>0</td>\n",
       "      <td>0</td>\n",
       "      <td>0</td>\n",
       "      <td>0</td>\n",
       "      <td>0</td>\n",
       "    </tr>\n",
       "    <tr>\n",
       "      <th>3</th>\n",
       "      <td>800</td>\n",
       "      <td>0.157992</td>\n",
       "      <td>2.0</td>\n",
       "      <td>0</td>\n",
       "      <td>0</td>\n",
       "      <td>0</td>\n",
       "      <td>0</td>\n",
       "      <td>0</td>\n",
       "      <td>0</td>\n",
       "      <td>0</td>\n",
       "      <td>1</td>\n",
       "    </tr>\n",
       "    <tr>\n",
       "      <th>4</th>\n",
       "      <td>2500</td>\n",
       "      <td>0.086881</td>\n",
       "      <td>2.0</td>\n",
       "      <td>1</td>\n",
       "      <td>0</td>\n",
       "      <td>0</td>\n",
       "      <td>0</td>\n",
       "      <td>0</td>\n",
       "      <td>0</td>\n",
       "      <td>0</td>\n",
       "      <td>0</td>\n",
       "    </tr>\n",
       "  </tbody>\n",
       "</table>\n",
       "</div>"
      ],
      "text/plain": [
       "   Rental price (USD/month)  Area (m2)  No. bedroom  Chamkar Mon  Chbar Ampov  \\\n",
       "0                      1200   0.260214          3.0            0            0   \n",
       "1                      1100   0.282436          3.0            1            0   \n",
       "2                       900  -0.037564          2.0            1            0   \n",
       "3                       800   0.157992          2.0            0            0   \n",
       "4                      2500   0.086881          2.0            1            0   \n",
       "\n",
       "   Doun Penh  Mean Chey  Prampir Meakkakra  Russey Keo  Saensokh  Tuol Kouk  \n",
       "0          0          1                  0           0         0          0  \n",
       "1          0          0                  0           0         0          0  \n",
       "2          0          0                  0           0         0          0  \n",
       "3          0          0                  0           0         0          1  \n",
       "4          0          0                  0           0         0          0  "
      ]
     },
     "execution_count": 20,
     "metadata": {},
     "output_type": "execute_result"
    }
   ],
   "source": [
    "# feature scalling on 'Area (m2)'\n",
    "df['Area (m2)'] = (df['Area (m2)'] - np.mean(df['Area (m2)']))/(np.max(df['Area (m2)'])-np.min(df['Area (m2)']))\n",
    "df.head()"
   ]
  },
  {
   "cell_type": "code",
   "execution_count": 22,
   "id": "608ef0aa",
   "metadata": {},
   "outputs": [
    {
     "name": "stdout",
     "output_type": "stream",
     "text": [
      "[0.78825895 0.086895   0.02051778 0.00679805 0.01925248 0.01461244\n",
      " 0.01717647 0.0089705  0.01719176 0.02032659]\n"
     ]
    },
    {
     "data": {
      "image/png": "[encoded data removed]",
      "text/plain": [
       "<Figure size 432x288 with 1 Axes>"
      ]
     },
     "metadata": {
      "needs_background": "light"
     },
     "output_type": "display_data"
    }
   ],
   "source": [
    "# feature importance \n",
    "X = df.iloc[:,1:]  #independent columns\n",
    "y = df.iloc[:,0]    #target column i.e price range\n",
    "from sklearn.ensemble import ExtraTreesClassifier\n",
    "import matplotlib.pyplot as plt\n",
    "model = ExtraTreesClassifier()\n",
    "model.fit(X,y)\n",
    "print(model.feature_importances_) #use inbuilt class feature_importances of tree based classifiers\n",
    "#plot graph of feature importances for better visualization\n",
    "feat_importances = pd.Series(model.feature_importances_, index=X.columns)\n",
    "feat_importances.nlargest(10).plot(kind='barh')\n",
    "plt.show()"
   ]
  },
  {
   "cell_type": "code",
   "execution_count": 25,
   "id": "949dd23d",
   "metadata": {},
   "outputs": [
    {
     "name": "stderr",
     "output_type": "stream",
     "text": [
      "C:\\Users\\Touch Sopheak\\anaconda3\\lib\\site-packages\\openpyxl\\worksheet\\_reader.py:312: UserWarning: Data Validation extension is not supported and will be removed\n",
      "  warn(msg)\n"
     ]
    },
    {
     "data": {
      "text/html": [
       "<div>\n",
       "<style scoped>\n",
       "    .dataframe tbody tr th:only-of-type {\n",
       "        vertical-align: middle;\n",
       "    }\n",
       "\n",
       "    .dataframe tbody tr th {\n",
       "        vertical-align: top;\n",
       "    }\n",
       "\n",
       "    .dataframe thead th {\n",
       "        text-align: right;\n",
       "    }\n",
       "</style>\n",
       "<table border=\"1\" class=\"dataframe\">\n",
       "  <thead>\n",
       "    <tr style=\"text-align: right;\">\n",
       "      <th></th>\n",
       "      <th>Rental price (USD/month)</th>\n",
       "      <th>Area (m2)</th>\n",
       "      <th>No. bedroom</th>\n",
       "    </tr>\n",
       "  </thead>\n",
       "  <tbody>\n",
       "    <tr>\n",
       "      <th>0</th>\n",
       "      <td>1200</td>\n",
       "      <td>130.0</td>\n",
       "      <td>3.0</td>\n",
       "    </tr>\n",
       "    <tr>\n",
       "      <th>1</th>\n",
       "      <td>1100</td>\n",
       "      <td>135.0</td>\n",
       "      <td>3.0</td>\n",
       "    </tr>\n",
       "    <tr>\n",
       "      <th>2</th>\n",
       "      <td>900</td>\n",
       "      <td>63.0</td>\n",
       "      <td>2.0</td>\n",
       "    </tr>\n",
       "    <tr>\n",
       "      <th>3</th>\n",
       "      <td>800</td>\n",
       "      <td>107.0</td>\n",
       "      <td>2.0</td>\n",
       "    </tr>\n",
       "    <tr>\n",
       "      <th>4</th>\n",
       "      <td>870</td>\n",
       "      <td>NaN</td>\n",
       "      <td>2.0</td>\n",
       "    </tr>\n",
       "  </tbody>\n",
       "</table>\n",
       "</div>"
      ],
      "text/plain": [
       "   Rental price (USD/month)  Area (m2)  No. bedroom\n",
       "0                      1200      130.0          3.0\n",
       "1                      1100      135.0          3.0\n",
       "2                       900       63.0          2.0\n",
       "3                       800      107.0          2.0\n",
       "4                       870        NaN          2.0"
      ]
     },
     "execution_count": 25,
     "metadata": {},
     "output_type": "execute_result"
    }
   ],
   "source": [
    "# feature selection, choose the most two important feautres which are Area(m2) and No. bedroom\n",
    "df = pd.read_excel('Condo_rental_raw.xlsx')\n",
    "df = df[['Rental price (USD/month)', 'Area (m2)', 'No. bedroom']]\n",
    "df.head()"
   ]
  },
  {
   "cell_type": "markdown",
   "id": "9da6f213",
   "metadata": {},
   "source": [
    "<span style=\"font-family:'Tw Cen MT'; font-size:30px; color:red\"> 3. Exploratory data analysis"
   ]
  },
  {
   "cell_type": "code",
   "execution_count": 26,
   "id": "afc24f0c",
   "metadata": {},
   "outputs": [
    {
     "data": {
      "text/plain": [
       "Rental price (USD/month)      int64\n",
       "Area (m2)                   float64\n",
       "No. bedroom                 float64\n",
       "dtype: object"
      ]
     },
     "execution_count": 26,
     "metadata": {},
     "output_type": "execute_result"
    }
   ],
   "source": [
    "# check type of data\n",
    "df.dtypes"
   ]
  },
  {
   "cell_type": "code",
   "execution_count": 29,
   "id": "a31c83b6",
   "metadata": {},
   "outputs": [
    {
     "data": {
      "text/plain": [
       "Rental price (USD/month)     0\n",
       "Area (m2)                   23\n",
       "No. bedroom                  3\n",
       "dtype: int64"
      ]
     },
     "execution_count": 29,
     "metadata": {},
     "output_type": "execute_result"
    }
   ],
   "source": [
    "# check number of null values in each collumn\n",
    "df.isnull().sum()"
   ]
  },
  {
   "cell_type": "code",
   "execution_count": 30,
   "id": "7e794f5c",
   "metadata": {},
   "outputs": [
    {
     "data": {
      "text/html": [
       "<div>\n",
       "<style scoped>\n",
       "    .dataframe tbody tr th:only-of-type {\n",
       "        vertical-align: middle;\n",
       "    }\n",
       "\n",
       "    .dataframe tbody tr th {\n",
       "        vertical-align: top;\n",
       "    }\n",
       "\n",
       "    .dataframe thead th {\n",
       "        text-align: right;\n",
       "    }\n",
       "</style>\n",
       "<table border=\"1\" class=\"dataframe\">\n",
       "  <thead>\n",
       "    <tr style=\"text-align: right;\">\n",
       "      <th></th>\n",
       "      <th>Rental price (USD/month)</th>\n",
       "      <th>Area (m2)</th>\n",
       "      <th>No. bedroom</th>\n",
       "    </tr>\n",
       "  </thead>\n",
       "  <tbody>\n",
       "    <tr>\n",
       "      <th>0</th>\n",
       "      <td>1200</td>\n",
       "      <td>130.0</td>\n",
       "      <td>3.0</td>\n",
       "    </tr>\n",
       "    <tr>\n",
       "      <th>1</th>\n",
       "      <td>1100</td>\n",
       "      <td>135.0</td>\n",
       "      <td>3.0</td>\n",
       "    </tr>\n",
       "    <tr>\n",
       "      <th>2</th>\n",
       "      <td>900</td>\n",
       "      <td>63.0</td>\n",
       "      <td>2.0</td>\n",
       "    </tr>\n",
       "    <tr>\n",
       "      <th>3</th>\n",
       "      <td>800</td>\n",
       "      <td>107.0</td>\n",
       "      <td>2.0</td>\n",
       "    </tr>\n",
       "    <tr>\n",
       "      <th>4</th>\n",
       "      <td>2500</td>\n",
       "      <td>91.0</td>\n",
       "      <td>2.0</td>\n",
       "    </tr>\n",
       "  </tbody>\n",
       "</table>\n",
       "</div>"
      ],
      "text/plain": [
       "   Rental price (USD/month)  Area (m2)  No. bedroom\n",
       "0                      1200      130.0          3.0\n",
       "1                      1100      135.0          3.0\n",
       "2                       900       63.0          2.0\n",
       "3                       800      107.0          2.0\n",
       "4                      2500       91.0          2.0"
      ]
     },
     "execution_count": 30,
     "metadata": {},
     "output_type": "execute_result"
    }
   ],
   "source": [
    "# as null values represent less than 6% of the data, we decide to remove all rows containing them\n",
    "df = df.dropna()\n",
    "df = df.reset_index(drop=True)\n",
    "df.head()"
   ]
  },
  {
   "cell_type": "code",
   "execution_count": 31,
   "id": "331cefbd",
   "metadata": {},
   "outputs": [
    {
     "data": {
      "text/plain": [
       "Rental price (USD/month)    0\n",
       "Area (m2)                   0\n",
       "No. bedroom                 0\n",
       "dtype: int64"
      ]
     },
     "execution_count": 31,
     "metadata": {},
     "output_type": "execute_result"
    }
   ],
   "source": [
    "# check null values again\n",
    "df.isnull().sum()"
   ]
  },
  {
   "cell_type": "code",
   "execution_count": 32,
   "id": "b2963add",
   "metadata": {},
   "outputs": [
    {
     "data": {
      "text/html": [
       "<div>\n",
       "<style scoped>\n",
       "    .dataframe tbody tr th:only-of-type {\n",
       "        vertical-align: middle;\n",
       "    }\n",
       "\n",
       "    .dataframe tbody tr th {\n",
       "        vertical-align: top;\n",
       "    }\n",
       "\n",
       "    .dataframe thead th {\n",
       "        text-align: right;\n",
       "    }\n",
       "</style>\n",
       "<table border=\"1\" class=\"dataframe\">\n",
       "  <thead>\n",
       "    <tr style=\"text-align: right;\">\n",
       "      <th></th>\n",
       "      <th>Rental price (USD/month)</th>\n",
       "      <th>Area (m2)</th>\n",
       "      <th>No. bedroom</th>\n",
       "    </tr>\n",
       "  </thead>\n",
       "  <tbody>\n",
       "    <tr>\n",
       "      <th>count</th>\n",
       "      <td>375.000000</td>\n",
       "      <td>375.000000</td>\n",
       "      <td>375.000000</td>\n",
       "    </tr>\n",
       "    <tr>\n",
       "      <th>mean</th>\n",
       "      <td>591.720000</td>\n",
       "      <td>71.501333</td>\n",
       "      <td>1.450667</td>\n",
       "    </tr>\n",
       "    <tr>\n",
       "      <th>std</th>\n",
       "      <td>509.870529</td>\n",
       "      <td>30.648418</td>\n",
       "      <td>0.651689</td>\n",
       "    </tr>\n",
       "    <tr>\n",
       "      <th>min</th>\n",
       "      <td>100.000000</td>\n",
       "      <td>25.000000</td>\n",
       "      <td>1.000000</td>\n",
       "    </tr>\n",
       "    <tr>\n",
       "      <th>25%</th>\n",
       "      <td>310.000000</td>\n",
       "      <td>50.000000</td>\n",
       "      <td>1.000000</td>\n",
       "    </tr>\n",
       "    <tr>\n",
       "      <th>50%</th>\n",
       "      <td>450.000000</td>\n",
       "      <td>66.000000</td>\n",
       "      <td>1.000000</td>\n",
       "    </tr>\n",
       "    <tr>\n",
       "      <th>75%</th>\n",
       "      <td>650.000000</td>\n",
       "      <td>85.000000</td>\n",
       "      <td>2.000000</td>\n",
       "    </tr>\n",
       "    <tr>\n",
       "      <th>max</th>\n",
       "      <td>3800.000000</td>\n",
       "      <td>250.000000</td>\n",
       "      <td>4.000000</td>\n",
       "    </tr>\n",
       "  </tbody>\n",
       "</table>\n",
       "</div>"
      ],
      "text/plain": [
       "       Rental price (USD/month)   Area (m2)  No. bedroom\n",
       "count                375.000000  375.000000   375.000000\n",
       "mean                 591.720000   71.501333     1.450667\n",
       "std                  509.870529   30.648418     0.651689\n",
       "min                  100.000000   25.000000     1.000000\n",
       "25%                  310.000000   50.000000     1.000000\n",
       "50%                  450.000000   66.000000     1.000000\n",
       "75%                  650.000000   85.000000     2.000000\n",
       "max                 3800.000000  250.000000     4.000000"
      ]
     },
     "execution_count": 32,
     "metadata": {},
     "output_type": "execute_result"
    }
   ],
   "source": [
    "# Descriptive statistic of data\n",
    "df.describe()"
   ]
  },
  {
   "cell_type": "code",
   "execution_count": 33,
   "id": "4fd89550",
   "metadata": {},
   "outputs": [
    {
     "name": "stdout",
     "output_type": "stream",
     "text": [
      "<class 'pandas.core.frame.DataFrame'>\n",
      "RangeIndex: 375 entries, 0 to 374\n",
      "Data columns (total 3 columns):\n",
      " #   Column                    Non-Null Count  Dtype  \n",
      "---  ------                    --------------  -----  \n",
      " 0   Rental price (USD/month)  375 non-null    int64  \n",
      " 1   Area (m2)                 375 non-null    float64\n",
      " 2   No. bedroom               375 non-null    float64\n",
      "dtypes: float64(2), int64(1)\n",
      "memory usage: 8.9 KB\n"
     ]
    }
   ],
   "source": [
    "# check infomation of dataset\n",
    "df.info()"
   ]
  },
  {
   "cell_type": "code",
   "execution_count": 34,
   "id": "4d4ed0d1",
   "metadata": {},
   "outputs": [
    {
     "data": {
      "text/plain": [
       "<AxesSubplot:xlabel='Rental price (USD/month)', ylabel='Count'>"
      ]
     },
     "execution_count": 34,
     "metadata": {},
     "output_type": "execute_result"
    },
    {
     "data": {
      "image/png": "[encoded data removed]",
      "text/plain": [
       "<Figure size 1008x576 with 1 Axes>"
      ]
     },
     "metadata": {},
     "output_type": "display_data"
    }
   ],
   "source": [
    "# Visualization of distribution of rental price\n",
    "import seaborn as sns\n",
    "\n",
    "sns.set(rc={'figure.figsize': (14, 8)})\n",
    "sns.histplot(df['Rental price (USD/month)'])"
   ]
  },
  {
   "cell_type": "code",
   "execution_count": 35,
   "id": "8502e739",
   "metadata": {},
   "outputs": [
    {
     "data": {
      "text/plain": [
       "<seaborn.axisgrid.PairGrid at 0x1fa0478cfd0>"
      ]
     },
     "execution_count": 35,
     "metadata": {},
     "output_type": "execute_result"
    },
    {
     "data": {
      "image/png": "[encoded data removed]",
      "text/plain": [
       "<Figure size 540x540 with 12 Axes>"
      ]
     },
     "metadata": {},
     "output_type": "display_data"
    }
   ],
   "source": [
    "# Create pairplot to see relation between two features\n",
    "sns.pairplot(df)"
   ]
  },
  {
   "cell_type": "code",
   "execution_count": 36,
   "id": "bd847bb5",
   "metadata": {},
   "outputs": [
    {
     "data": {
      "text/plain": [
       "<AxesSubplot:>"
      ]
     },
     "execution_count": 36,
     "metadata": {},
     "output_type": "execute_result"
    },
    {
     "data": {
      "image/png": "[encoded data removed]",
      "text/plain": [
       "<Figure size 1008x576 with 2 Axes>"
      ]
     },
     "metadata": {},
     "output_type": "display_data"
    }
   ],
   "source": [
    "# Create heat map\n",
    "sns.heatmap(df.corr(), annot=True, fmt='.2f', linewidths=2)"
   ]
  },
  {
   "cell_type": "code",
   "execution_count": 37,
   "id": "ac35c477",
   "metadata": {},
   "outputs": [
    {
     "data": {
      "image/png": "[encoded data removed]",
      "text/plain": [
       "<Figure size 720x648 with 4 Axes>"
      ]
     },
     "metadata": {},
     "output_type": "display_data"
    }
   ],
   "source": [
    "import matplotlib.pyplot as plt\n",
    "\n",
    "fig = df.hist(bins=15, color='fuchsia', edgecolor='darkmagenta', linewidth=1.0, xlabelsize=10, ylabelsize=10, xrot=45, yrot=0, figsize=(10,9), grid=False)\n",
    "\n",
    "plt.tight_layout(rect=(0, 0, 1.5, 1.5)) "
   ]
  },
  {
   "cell_type": "code",
   "execution_count": 38,
   "id": "59ff2775",
   "metadata": {},
   "outputs": [
    {
     "data": {
      "text/plain": [
       "<AxesSubplot:xlabel='Rental price (USD/month)'>"
      ]
     },
     "execution_count": 38,
     "metadata": {},
     "output_type": "execute_result"
    },
    {
     "data": {
      "image/png": "[encoded data removed]",
      "text/plain": [
       "<Figure size 1008x576 with 1 Axes>"
      ]
     },
     "metadata": {},
     "output_type": "display_data"
    }
   ],
   "source": [
    "# Create boxplot of rental price data\n",
    "sns.boxplot(x='Rental price (USD/month)', data = df)"
   ]
  },
  {
   "cell_type": "code",
   "execution_count": 39,
   "id": "d09bf45a",
   "metadata": {},
   "outputs": [
    {
     "data": {
      "text/plain": [
       "<AxesSubplot:xlabel='Area (m2)'>"
      ]
     },
     "execution_count": 39,
     "metadata": {},
     "output_type": "execute_result"
    },
    {
     "data": {
      "image/png": "[encoded data removed]",
      "text/plain": [
       "<Figure size 1008x576 with 1 Axes>"
      ]
     },
     "metadata": {},
     "output_type": "display_data"
    }
   ],
   "source": [
    "# Create boxplot of area data\n",
    "sns.boxplot(x='Area (m2)', data = df)"
   ]
  },
  {
   "cell_type": "code",
   "execution_count": 40,
   "id": "eb5ad2c1",
   "metadata": {},
   "outputs": [
    {
     "data": {
      "text/plain": [
       "<AxesSubplot:xlabel='No. bedroom'>"
      ]
     },
     "execution_count": 40,
     "metadata": {},
     "output_type": "execute_result"
    },
    {
     "data": {
      "image/png": "[encoded data removed]",
      "text/plain": [
       "<Figure size 1008x576 with 1 Axes>"
      ]
     },
     "metadata": {},
     "output_type": "display_data"
    }
   ],
   "source": [
    "# Create boxplot of number of bedrooms data\n",
    "sns.boxplot(x='No. bedroom', data = df)"
   ]
  },
  {
   "cell_type": "code",
   "execution_count": 41,
   "id": "3858765e",
   "metadata": {},
   "outputs": [
    {
     "data": {
      "text/plain": [
       "<AxesSubplot:xlabel='No. bedroom', ylabel='Rental price (USD/month)'>"
      ]
     },
     "execution_count": 41,
     "metadata": {},
     "output_type": "execute_result"
    },
    {
     "data": {
      "image/png": "[encoded data removed]",
      "text/plain": [
       "<Figure size 1008x576 with 1 Axes>"
      ]
     },
     "metadata": {},
     "output_type": "display_data"
    }
   ],
   "source": [
    "# Create boxplot of rentral price per types of bedrooms\n",
    "sns.boxplot(x='No. bedroom', y='Rental price (USD/month)', data = df)"
   ]
  },
  {
   "cell_type": "code",
   "execution_count": 44,
   "id": "e23fec42",
   "metadata": {},
   "outputs": [
    {
     "data": {
      "text/plain": [
       "No. bedroom\n",
       "1.0     410.360169\n",
       "2.0     742.857143\n",
       "3.0    1441.666667\n",
       "4.0    2416.666667\n",
       "Name: Rental price (USD/month), dtype: float64"
      ]
     },
     "execution_count": 44,
     "metadata": {},
     "output_type": "execute_result"
    }
   ],
   "source": [
    "df.groupby('No. bedroom')['Rental price (USD/month)'].mean()"
   ]
  },
  {
   "cell_type": "code",
   "execution_count": 42,
   "id": "98c5c560",
   "metadata": {},
   "outputs": [
    {
     "data": {
      "text/plain": [
       "<seaborn.axisgrid.JointGrid at 0x1fa0cbf9b50>"
      ]
     },
     "execution_count": 42,
     "metadata": {},
     "output_type": "execute_result"
    },
    {
     "data": {
      "image/png": "[encoded data removed]",
      "text/plain": [
       "<Figure size 432x432 with 3 Axes>"
      ]
     },
     "metadata": {},
     "output_type": "display_data"
    }
   ],
   "source": [
    "# create joinplot between two variables\n",
    "sns.jointplot(x='Area (m2)',y='Rental price (USD/month)',data=df, kind='reg')"
   ]
  },
  {
   "cell_type": "code",
   "execution_count": 43,
   "id": "b20d2c27",
   "metadata": {},
   "outputs": [
    {
     "data": {
      "text/plain": [
       "<seaborn.axisgrid.JointGrid at 0x1fa0d096370>"
      ]
     },
     "execution_count": 43,
     "metadata": {},
     "output_type": "execute_result"
    },
    {
     "data": {
      "image/png": "[encoded data removed]",
      "text/plain": [
       "<Figure size 432x432 with 3 Axes>"
      ]
     },
     "metadata": {},
     "output_type": "display_data"
    }
   ],
   "source": [
    "# create joinplot between two variables\n",
    "sns.jointplot(x='No. bedroom',y='Rental price (USD/month)',data=df, kind='reg')"
   ]
  },
  {
   "cell_type": "code",
   "execution_count": 45,
   "id": "077a30f4",
   "metadata": {},
   "outputs": [
    {
     "data": {
      "text/plain": [
       "<seaborn.axisgrid.JointGrid at 0x1fa0d17e6a0>"
      ]
     },
     "execution_count": 45,
     "metadata": {},
     "output_type": "execute_result"
    },
    {
     "data": {
      "image/png": "[encoded data removed]",
      "text/plain": [
       "<Figure size 432x432 with 3 Axes>"
      ]
     },
     "metadata": {},
     "output_type": "display_data"
    }
   ],
   "source": [
    "# create joinplot between two variables\n",
    "sns.jointplot(x='Area (m2)',y='No. bedroom',data=df, kind='reg')"
   ]
  },
  {
   "cell_type": "markdown",
   "id": "f4cd0ff2",
   "metadata": {},
   "source": [
    "<span style=\"font-family:'Tw Cen MT'; font-size:30px; color:red\"> 4. Modeling"
   ]
  },
  {
   "cell_type": "code",
   "execution_count": 48,
   "id": "cd61631e",
   "metadata": {},
   "outputs": [
    {
     "data": {
      "text/html": [
       "<div>\n",
       "<style scoped>\n",
       "    .dataframe tbody tr th:only-of-type {\n",
       "        vertical-align: middle;\n",
       "    }\n",
       "\n",
       "    .dataframe tbody tr th {\n",
       "        vertical-align: top;\n",
       "    }\n",
       "\n",
       "    .dataframe thead th {\n",
       "        text-align: right;\n",
       "    }\n",
       "</style>\n",
       "<table border=\"1\" class=\"dataframe\">\n",
       "  <thead>\n",
       "    <tr style=\"text-align: right;\">\n",
       "      <th></th>\n",
       "      <th>Rental price (USD/month)</th>\n",
       "      <th>Area (m2)</th>\n",
       "      <th>No. bedroom</th>\n",
       "    </tr>\n",
       "  </thead>\n",
       "  <tbody>\n",
       "    <tr>\n",
       "      <th>0</th>\n",
       "      <td>1200</td>\n",
       "      <td>130.0</td>\n",
       "      <td>3.0</td>\n",
       "    </tr>\n",
       "    <tr>\n",
       "      <th>1</th>\n",
       "      <td>1100</td>\n",
       "      <td>135.0</td>\n",
       "      <td>3.0</td>\n",
       "    </tr>\n",
       "    <tr>\n",
       "      <th>2</th>\n",
       "      <td>900</td>\n",
       "      <td>63.0</td>\n",
       "      <td>2.0</td>\n",
       "    </tr>\n",
       "    <tr>\n",
       "      <th>3</th>\n",
       "      <td>800</td>\n",
       "      <td>107.0</td>\n",
       "      <td>2.0</td>\n",
       "    </tr>\n",
       "    <tr>\n",
       "      <th>4</th>\n",
       "      <td>2500</td>\n",
       "      <td>91.0</td>\n",
       "      <td>2.0</td>\n",
       "    </tr>\n",
       "  </tbody>\n",
       "</table>\n",
       "</div>"
      ],
      "text/plain": [
       "   Rental price (USD/month)  Area (m2)  No. bedroom\n",
       "0                      1200      130.0          3.0\n",
       "1                      1100      135.0          3.0\n",
       "2                       900       63.0          2.0\n",
       "3                       800      107.0          2.0\n",
       "4                      2500       91.0          2.0"
      ]
     },
     "execution_count": 48,
     "metadata": {},
     "output_type": "execute_result"
    }
   ],
   "source": [
    "# view some rows of data \n",
    "df.head()"
   ]
  },
  {
   "cell_type": "code",
   "execution_count": 49,
   "id": "fa7195fd",
   "metadata": {},
   "outputs": [
    {
     "data": {
      "text/plain": [
       "array([[1.20e+03, 1.30e+02, 3.00e+00],\n",
       "       [1.10e+03, 1.35e+02, 3.00e+00],\n",
       "       [9.00e+02, 6.30e+01, 2.00e+00],\n",
       "       [8.00e+02, 1.07e+02, 2.00e+00],\n",
       "       [2.50e+03, 9.10e+01, 2.00e+00]])"
      ]
     },
     "execution_count": 49,
     "metadata": {},
     "output_type": "execute_result"
    }
   ],
   "source": [
    "# convert dataframe to numpy array\n",
    "data = df.to_numpy()\n",
    "data[:5]"
   ]
  },
  {
   "cell_type": "code",
   "execution_count": 50,
   "id": "1d3d9f2c",
   "metadata": {},
   "outputs": [
    {
     "name": "stdout",
     "output_type": "stream",
     "text": [
      "(375, 2)\n",
      "(375,)\n"
     ]
    }
   ],
   "source": [
    "# Seperate variables X and target y\n",
    "X = data[:, 1:]\n",
    "y = data[:, 0]\n",
    "print(X.shape)\n",
    "print(y.shape)"
   ]
  },
  {
   "cell_type": "code",
   "execution_count": 53,
   "id": "38861567",
   "metadata": {},
   "outputs": [
    {
     "data": {
      "text/plain": [
       "array([[ 0.25999407,  0.51644444],\n",
       "       [ 0.2822163 ,  0.51644444],\n",
       "       [-0.0377837 ,  0.18311111],\n",
       "       [ 0.15777185,  0.18311111],\n",
       "       [ 0.08666074,  0.18311111]])"
      ]
     },
     "execution_count": 53,
     "metadata": {},
     "output_type": "execute_result"
    }
   ],
   "source": [
    "# feature scaling \n",
    "def scale(x):\n",
    "  return (x-x.mean(axis=0))/(x.max(axis=0)-x.min(axis=0))\n",
    "\n",
    "X = scale(X)\n",
    "X[:5]"
   ]
  },
  {
   "cell_type": "code",
   "execution_count": 54,
   "id": "5307d49e",
   "metadata": {},
   "outputs": [
    {
     "name": "stdout",
     "output_type": "stream",
     "text": [
      "(262, 2)\n",
      "(262,)\n",
      "(113, 2)\n",
      "(113,)\n"
     ]
    }
   ],
   "source": [
    "# split data set into training set (70%), test set (30%)\n",
    "from sklearn.model_selection import train_test_split\n",
    "\n",
    "X_train, X_test, y_train, y_test = train_test_split(X, y, \n",
    "                                                    random_state=2023, \n",
    "                                                    test_size=0.3, \n",
    "                                                    shuffle=True)\n",
    "print(X_train.shape)\n",
    "print(y_train.shape)\n",
    "print(X_test.shape)\n",
    "print(y_test.shape)"
   ]
  },
  {
   "cell_type": "code",
   "execution_count": 55,
   "id": "ec6e191b",
   "metadata": {
    "scrolled": true
   },
   "outputs": [
    {
     "name": "stdout",
     "output_type": "stream",
     "text": [
      "0.5610590684162924\n"
     ]
    }
   ],
   "source": [
    "# linear regression model using scikit-learn\n",
    "from sklearn.linear_model import LinearRegression\n",
    "\n",
    "model1 = LinearRegression()\n",
    "model1.fit(X_train,y_train)\n",
    "score1 = model1.score(X_test,y_test)\n",
    "print(score1)"
   ]
  },
  {
   "cell_type": "code",
   "execution_count": 62,
   "id": "abbd69f4",
   "metadata": {},
   "outputs": [
    {
     "name": "stdout",
     "output_type": "stream",
     "text": [
      "2839\n",
      "0.5411266681199519\n"
     ]
    }
   ],
   "source": [
    "from sklearn.linear_model import SGDRegressor\n",
    "\n",
    "model2 = SGDRegressor(max_iter=3000)\n",
    "model2.fit(X_train,y_train)\n",
    "score2 = model2.score(X_test,y_test)\n",
    "print(model2.n_iter_) # number of iterations before reaching the stopping criterion \n",
    "print(score2)"
   ]
  },
  {
   "cell_type": "code",
   "execution_count": 67,
   "id": "64d7ec90",
   "metadata": {},
   "outputs": [
    {
     "name": "stdout",
     "output_type": "stream",
     "text": [
      "0 => cost: 545890.648258\n",
      "1 => cost: 426097.217163\n",
      "2 => cost: 349417.656052\n",
      "3 => cost: 300333.165473\n",
      "4 => cost: 268911.332389\n",
      "5 => cost: 248795.086693\n",
      "6 => cost: 235915.629688\n",
      "7 => cost: 227668.702688\n",
      "8 => cost: 222387.392707\n",
      "9 => cost: 219004.722024\n",
      "10 => cost: 216837.699957\n",
      "11 => cost: 215449.111095\n",
      "12 => cost: 214559.055572\n",
      "13 => cost: 213988.331285\n",
      "14 => cost: 213622.195570\n",
      "15 => cost: 213387.170227\n",
      "16 => cost: 213236.194742\n",
      "17 => cost: 213139.122713\n",
      "18 => cost: 213076.638245\n",
      "19 => cost: 213036.361366\n",
      "20 => cost: 213010.354628\n",
      "21 => cost: 212993.526637\n",
      "22 => cost: 212982.609748\n",
      "23 => cost: 212975.505338\n",
      "24 => cost: 212970.864423\n",
      "25 => cost: 212967.818954\n",
      "26 => cost: 212965.809623\n",
      "27 => cost: 212964.475462\n",
      "28 => cost: 212963.583047\n",
      "29 => cost: 212962.981058\n",
      "30 => cost: 212962.571109\n",
      "31 => cost: 212962.289001\n",
      "32 => cost: 212962.092659\n",
      "33 => cost: 212961.954365\n",
      "34 => cost: 212961.855750\n",
      "35 => cost: 212961.784549\n",
      "36 => cost: 212961.732512\n",
      "37 => cost: 212961.694033\n",
      "38 => cost: 212961.665266\n",
      "39 => cost: 212961.643544\n",
      "40 => cost: 212961.626991\n",
      "41 => cost: 212961.614278\n",
      "42 => cost: 212961.604446\n",
      "43 => cost: 212961.596797\n",
      "44 => cost: 212961.590816\n",
      "45 => cost: 212961.586120\n",
      "46 => cost: 212961.582420\n",
      "47 => cost: 212961.579496\n",
      "48 => cost: 212961.577180\n",
      "49 => cost: 212961.575343\n",
      "50 => cost: 212961.573882\n",
      "51 => cost: 212961.572720\n",
      "52 => cost: 212961.571794\n",
      "53 => cost: 212961.571056\n",
      "54 => cost: 212961.570466\n",
      "55 => cost: 212961.569996\n",
      "56 => cost: 212961.569621\n",
      "57 => cost: 212961.569321\n",
      "58 => cost: 212961.569081\n",
      "59 => cost: 212961.568889\n",
      "60 => cost: 212961.568736\n",
      "61 => cost: 212961.568614\n",
      "62 => cost: 212961.568516\n",
      "63 => cost: 212961.568438\n",
      "64 => cost: 212961.568375\n",
      "65 => cost: 212961.568325\n",
      "66 => cost: 212961.568285\n",
      "67 => cost: 212961.568253\n",
      "68 => cost: 212961.568227\n",
      "69 => cost: 212961.568207\n",
      "70 => cost: 212961.568190\n",
      "71 => cost: 212961.568177\n",
      "72 => cost: 212961.568167\n",
      "73 => cost: 212961.568158\n",
      "74 => cost: 212961.568151\n",
      "75 => cost: 212961.568146\n",
      "76 => cost: 212961.568142\n",
      "77 => cost: 212961.568138\n",
      "78 => cost: 212961.568136\n",
      "79 => cost: 212961.568133\n",
      "80 => cost: 212961.568132\n",
      "81 => cost: 212961.568130\n",
      "82 => cost: 212961.568129\n",
      "83 => cost: 212961.568128\n",
      "84 => cost: 212961.568127\n",
      "85 => cost: 212961.568127\n",
      "86 => cost: 212961.568126\n",
      "87 => cost: 212961.568126\n",
      "88 => cost: 212961.568126\n",
      "89 => cost: 212961.568126\n",
      "90 => cost: 212961.568125\n",
      "91 => cost: 212961.568125\n",
      "92 => cost: 212961.568125\n",
      "93 => cost: 212961.568125\n",
      "94 => cost: 212961.568125\n",
      "95 => cost: 212961.568125\n",
      "96 => cost: 212961.568125\n",
      "97 => cost: 212961.568125\n",
      "98 => cost: 212961.568125\n",
      "99 => cost: 212961.568125\n"
     ]
    }
   ],
   "source": [
    "# Build linear regression model from scratch\n",
    "\n",
    "# hypothesis function\n",
    "def hyp(X, theta, b):\n",
    "    '''\n",
    "    Hypothesis function\n",
    "    X : variables, numpy array (m,n)\n",
    "    thetha : linear coefficients, numpy array (n,1)\n",
    "    b : intercetion coefficient, scalar\n",
    "    return z : prediction value, numpy array (m,1)\n",
    "    '''\n",
    "    z = np.matmul(X, theta) + b\n",
    "    return z\n",
    "\n",
    "# cost function\n",
    "def cost_func(X, theta, b, y):\n",
    "    '''\n",
    "    y: target values, numpy array (m,)\n",
    "    return cost: scalar value\n",
    "    '''\n",
    "    cost = (hyp(X, theta, b) - y.reshape(-1,1))**2\n",
    "    cost = cost.mean()\n",
    "    return cost\n",
    "\n",
    "# gradient function\n",
    "def grad_th(X, theta, b, y):\n",
    "    '''\n",
    "    return a list of gradient of linear coefficients\n",
    "    '''\n",
    "    grad_theta = []\n",
    "    for i in range(len(theta)):\n",
    "        grad_theta_i = (((hyp(X, theta, b) - y.reshape(-1,1))*X[:, i]).mean())*2\n",
    "        grad_theta.append(grad_theta_i)\n",
    "    return grad_theta\n",
    "\n",
    "def grad_b(X, theta, b, y):\n",
    "    '''\n",
    "    return the gradient of interception coefficient\n",
    "    '''\n",
    "    grad_b = ((hyp(X, theta, b) - y.reshape(-1,1)).mean())*2\n",
    "    return grad_b\n",
    "\n",
    "# Training model with training data\n",
    "theta = np.random.rand(X_train.shape[1], 1) # randomize initial values of theta\n",
    "b = np.random.rand(1,1) # randomize initial value of b\n",
    "alpha = 0.1\n",
    "\n",
    "for i in range(100):\n",
    "   cost = cost_func(X_train, theta, b, y_train)\n",
    "   g_theta = grad_th(X_train, theta, b, y_train)\n",
    "   g_b = grad_b(X_train, theta, b, y_train)\n",
    "   theta += -alpha*(np.array(g_theta).reshape(-1,1))\n",
    "   b += -alpha*g_b\n",
    "   print(\"%d => cost: %f\" % (i, cost))"
   ]
  },
  {
   "cell_type": "code",
   "execution_count": 66,
   "id": "f7f9a034",
   "metadata": {},
   "outputs": [
    {
     "name": "stdout",
     "output_type": "stream",
     "text": [
      "[[1.55357802]\n",
      " [3.6704434 ]] [[577.32739942]]\n"
     ]
    }
   ],
   "source": [
    "print(theta, b)"
   ]
  },
  {
   "cell_type": "code",
   "execution_count": 65,
   "id": "4dccffb7",
   "metadata": {},
   "outputs": [
    {
     "name": "stdout",
     "output_type": "stream",
     "text": [
      "-0.004096938374856807\n"
     ]
    }
   ],
   "source": [
    "# Calculate R2 (Score) of the above model using test data\n",
    "\n",
    "score3 = 1 - ((((hyp(X_test, theta, b)-y_test.reshape(-1,1))**2).sum())/(((y_test-np.mean(y_test))**2).sum()))\n",
    "print(score3)"
   ]
  },
  {
   "cell_type": "code",
   "execution_count": 69,
   "id": "7eceae59",
   "metadata": {},
   "outputs": [
    {
     "data": {
      "text/html": [
       "<div>\n",
       "<style scoped>\n",
       "    .dataframe tbody tr th:only-of-type {\n",
       "        vertical-align: middle;\n",
       "    }\n",
       "\n",
       "    .dataframe tbody tr th {\n",
       "        vertical-align: top;\n",
       "    }\n",
       "\n",
       "    .dataframe thead th {\n",
       "        text-align: right;\n",
       "    }\n",
       "</style>\n",
       "<table border=\"1\" class=\"dataframe\">\n",
       "  <thead>\n",
       "    <tr style=\"text-align: right;\">\n",
       "      <th></th>\n",
       "      <th>Model</th>\n",
       "      <th>Score</th>\n",
       "    </tr>\n",
       "  </thead>\n",
       "  <tbody>\n",
       "    <tr>\n",
       "      <th>0</th>\n",
       "      <td>LinearRegression</td>\n",
       "      <td>0.561059</td>\n",
       "    </tr>\n",
       "    <tr>\n",
       "      <th>1</th>\n",
       "      <td>SGDRegressor</td>\n",
       "      <td>0.541127</td>\n",
       "    </tr>\n",
       "    <tr>\n",
       "      <th>2</th>\n",
       "      <td>From-Scrath Model</td>\n",
       "      <td>-0.004097</td>\n",
       "    </tr>\n",
       "  </tbody>\n",
       "</table>\n",
       "</div>"
      ],
      "text/plain": [
       "               Model     Score\n",
       "0   LinearRegression  0.561059\n",
       "1       SGDRegressor  0.541127\n",
       "2  From-Scrath Model -0.004097"
      ]
     },
     "execution_count": 69,
     "metadata": {},
     "output_type": "execute_result"
    }
   ],
   "source": [
    "# Compare the three models\n",
    "\n",
    "dict = {'Model': ['LinearRegression', 'SGDRegressor', 'From-Scrath Model'],\n",
    "        'Score': [score1, score2, score3] }\n",
    "performance = pd.DataFrame(dict)\n",
    "performance"
   ]
  },
  {
   "cell_type": "markdown",
   "id": "e828701f",
   "metadata": {},
   "source": [
    "<span style=\"font-family:'Tw Cen MT'; font-size:30px; color:red\"> Conclusion "
   ]
  },
  {
   "cell_type": "markdown",
   "id": "0735f812",
   "metadata": {},
   "source": [
    "<span style=\"font-family:'Tw Cen MT'; font-size:20px; color:blue\"> LinearRegression and SGD give similar results, but the model from scratch give very low results. "
   ]
  },
  {
   "cell_type": "code",
   "execution_count": null,
   "id": "6dc87d2f",
   "metadata": {},
   "outputs": [],
   "source": []
  }
 ],
 "metadata": {
  "kernelspec": {
   "display_name": "Python 3 (ipykernel)",
   "language": "python",
   "name": "python3"
  },
  "language_info": {
   "codemirror_mode": {
    "name": "ipython",
    "version": 3
   },
   "file_extension": ".py",
   "mimetype": "text/x-python",
   "name": "python",
   "nbconvert_exporter": "python",
   "pygments_lexer": "ipython3",
   "version": "3.9.7"
  }
 },
 "nbformat": 4,
 "nbformat_minor": 5
}
