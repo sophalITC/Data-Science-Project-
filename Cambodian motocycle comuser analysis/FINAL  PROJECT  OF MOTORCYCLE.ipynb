{
 "cells": [
  {
   "cell_type": "code",
   "execution_count": 1,
   "metadata": {},
   "outputs": [],
   "source": [
    "import numpy as  np\n",
    "import pandas  as pd\n",
    "\n"
   ]
  },
  {
   "cell_type": "code",
   "execution_count": 2,
   "metadata": {},
   "outputs": [
    {
     "data": {
      "text/html": [
       "<div>\n",
       "<style scoped>\n",
       "    .dataframe tbody tr th:only-of-type {\n",
       "        vertical-align: middle;\n",
       "    }\n",
       "\n",
       "    .dataframe tbody tr th {\n",
       "        vertical-align: top;\n",
       "    }\n",
       "\n",
       "    .dataframe thead th {\n",
       "        text-align: right;\n",
       "    }\n",
       "</style>\n",
       "<table border=\"1\" class=\"dataframe\">\n",
       "  <thead>\n",
       "    <tr style=\"text-align: right;\">\n",
       "      <th></th>\n",
       "      <th>Condition</th>\n",
       "      <th>Price</th>\n",
       "      <th>Location</th>\n",
       "      <th>Time</th>\n",
       "      <th>Model</th>\n",
       "      <th>Year</th>\n",
       "      <th>Category</th>\n",
       "    </tr>\n",
       "  </thead>\n",
       "  <tbody>\n",
       "    <tr>\n",
       "      <th>0</th>\n",
       "      <td>REUSE</td>\n",
       "      <td>1590</td>\n",
       "      <td>PhnomPenh</td>\n",
       "      <td>13-Apr-23</td>\n",
       "      <td>Dream</td>\n",
       "      <td>2020</td>\n",
       "      <td>Allround</td>\n",
       "    </tr>\n",
       "    <tr>\n",
       "      <th>1</th>\n",
       "      <td>New</td>\n",
       "      <td>780</td>\n",
       "      <td>PhnomPenh</td>\n",
       "      <td>6 áž“áž¶áž‘áž¸áž˜áž»áž“</td>\n",
       "      <td>AJP GALP 50 Enduro</td>\n",
       "      <td>2005</td>\n",
       "      <td>Enduro / offroad</td>\n",
       "    </tr>\n",
       "    <tr>\n",
       "      <th>2</th>\n",
       "      <td>New</td>\n",
       "      <td>1250</td>\n",
       "      <td>PhnomPenh</td>\n",
       "      <td>29 áž“áž¶áž‘áž¸áž˜áž»áž“</td>\n",
       "      <td>AJP GALP 50 R</td>\n",
       "      <td>2005</td>\n",
       "      <td>Sport</td>\n",
       "    </tr>\n",
       "    <tr>\n",
       "      <th>3</th>\n",
       "      <td>REUSE</td>\n",
       "      <td>670</td>\n",
       "      <td>PhnomPenh</td>\n",
       "      <td>34 áž“áž¶áž‘áž¸áž˜áž»áž“</td>\n",
       "      <td>AJP GALP 50 Supermotard</td>\n",
       "      <td>2005</td>\n",
       "      <td>Super motard</td>\n",
       "    </tr>\n",
       "    <tr>\n",
       "      <th>4</th>\n",
       "      <td>REUSE</td>\n",
       "      <td>600</td>\n",
       "      <td>PhnomPenh</td>\n",
       "      <td>47 áž“áž¶áž‘áž¸áž˜áž»áž“</td>\n",
       "      <td>AJP PR3 125 Enduro</td>\n",
       "      <td>2015</td>\n",
       "      <td>Enduro / offroad</td>\n",
       "    </tr>\n",
       "    <tr>\n",
       "      <th>...</th>\n",
       "      <td>...</td>\n",
       "      <td>...</td>\n",
       "      <td>...</td>\n",
       "      <td>...</td>\n",
       "      <td>...</td>\n",
       "      <td>...</td>\n",
       "      <td>...</td>\n",
       "    </tr>\n",
       "    <tr>\n",
       "      <th>38746</th>\n",
       "      <td>New</td>\n",
       "      <td>1599</td>\n",
       "      <td>PhnomPenh</td>\n",
       "      <td>13 áž˜áŸ‰áŸ„áž„áž˜áž»áž“</td>\n",
       "      <td>GPX Demon GR200R</td>\n",
       "      <td>2021</td>\n",
       "      <td>Scooter</td>\n",
       "    </tr>\n",
       "    <tr>\n",
       "      <th>38747</th>\n",
       "      <td>REUSE</td>\n",
       "      <td>1900</td>\n",
       "      <td>PhnomPenh</td>\n",
       "      <td>14 áž˜áŸ‰áŸ„áž„áž˜áž»áž“</td>\n",
       "      <td>GPX Demon GR200R</td>\n",
       "      <td>2022</td>\n",
       "      <td>Scooter</td>\n",
       "    </tr>\n",
       "    <tr>\n",
       "      <th>38748</th>\n",
       "      <td>REUSE</td>\n",
       "      <td>1480</td>\n",
       "      <td>PhnomPenh</td>\n",
       "      <td>14 áž˜áŸ‰áŸ„áž„áž˜áž»áž“</td>\n",
       "      <td>GPX Demon GR200R</td>\n",
       "      <td>2019</td>\n",
       "      <td>Scooter</td>\n",
       "    </tr>\n",
       "    <tr>\n",
       "      <th>38749</th>\n",
       "      <td>REUSE</td>\n",
       "      <td>2300</td>\n",
       "      <td>PhnomPenh</td>\n",
       "      <td>14 áž˜áŸ‰áŸ„áž„áž˜áž»áž“</td>\n",
       "      <td>GPX Demon GR200R</td>\n",
       "      <td>2018</td>\n",
       "      <td>Scooter</td>\n",
       "    </tr>\n",
       "    <tr>\n",
       "      <th>38750</th>\n",
       "      <td>REUSE</td>\n",
       "      <td>950</td>\n",
       "      <td>PhnomPenh</td>\n",
       "      <td>15 áž˜áŸ‰áŸ„áž„áž˜áž»áž“</td>\n",
       "      <td>GPX Demon GR200R</td>\n",
       "      <td>2022</td>\n",
       "      <td>Scooter</td>\n",
       "    </tr>\n",
       "  </tbody>\n",
       "</table>\n",
       "<p>38751 rows × 7 columns</p>\n",
       "</div>"
      ],
      "text/plain": [
       "      Condition  Price   Location                      Time  \\\n",
       "0         REUSE   1590  PhnomPenh                 13-Apr-23   \n",
       "1           New    780  PhnomPenh   6 áž“áž¶áž‘áž¸áž˜áž»áž“   \n",
       "2           New   1250  PhnomPenh  29 áž“áž¶áž‘áž¸áž˜áž»áž“   \n",
       "3         REUSE    670  PhnomPenh  34 áž“áž¶áž‘áž¸áž˜áž»áž“   \n",
       "4         REUSE    600  PhnomPenh  47 áž“áž¶áž‘áž¸áž˜áž»áž“   \n",
       "...         ...    ...        ...                       ...   \n",
       "38746       New   1599  PhnomPenh  13 áž˜áŸ‰áŸ„áž„áž˜áž»áž“   \n",
       "38747     REUSE   1900  PhnomPenh  14 áž˜áŸ‰áŸ„áž„áž˜áž»áž“   \n",
       "38748     REUSE   1480  PhnomPenh  14 áž˜áŸ‰áŸ„áž„áž˜áž»áž“   \n",
       "38749     REUSE   2300  PhnomPenh  14 áž˜áŸ‰áŸ„áž„áž˜áž»áž“   \n",
       "38750     REUSE    950  PhnomPenh  15 áž˜áŸ‰áŸ„áž„áž˜áž»áž“   \n",
       "\n",
       "                         Model  Year          Category  \n",
       "0                        Dream  2020          Allround  \n",
       "1           AJP GALP 50 Enduro  2005  Enduro / offroad  \n",
       "2                AJP GALP 50 R  2005             Sport  \n",
       "3      AJP GALP 50 Supermotard  2005      Super motard  \n",
       "4           AJP PR3 125 Enduro  2015  Enduro / offroad  \n",
       "...                        ...   ...               ...  \n",
       "38746         GPX Demon GR200R  2021           Scooter  \n",
       "38747         GPX Demon GR200R  2022           Scooter  \n",
       "38748         GPX Demon GR200R  2019           Scooter  \n",
       "38749         GPX Demon GR200R  2018           Scooter  \n",
       "38750         GPX Demon GR200R  2022           Scooter  \n",
       "\n",
       "[38751 rows x 7 columns]"
      ]
     },
     "execution_count": 2,
     "metadata": {},
     "output_type": "execute_result"
    }
   ],
   "source": [
    "df=pd.read_csv(\"motorcycleofsales.csv\")\n",
    "df"
   ]
  },
  {
   "cell_type": "code",
   "execution_count": 3,
   "metadata": {},
   "outputs": [
    {
     "name": "stdout",
     "output_type": "stream",
     "text": [
      "<class 'pandas.core.frame.DataFrame'>\n",
      "RangeIndex: 38751 entries, 0 to 38750\n",
      "Data columns (total 7 columns):\n",
      " #   Column     Non-Null Count  Dtype \n",
      "---  ------     --------------  ----- \n",
      " 0   Condition  38751 non-null  object\n",
      " 1   Price      38751 non-null  int64 \n",
      " 2   Location   38751 non-null  object\n",
      " 3   Time       38751 non-null  object\n",
      " 4   Model      38751 non-null  object\n",
      " 5   Year       38751 non-null  int64 \n",
      " 6   Category   38751 non-null  object\n",
      "dtypes: int64(2), object(5)\n",
      "memory usage: 2.1+ MB\n"
     ]
    }
   ],
   "source": [
    "df.info()"
   ]
  },
  {
   "cell_type": "code",
   "execution_count": 4,
   "metadata": {},
   "outputs": [
    {
     "data": {
      "text/plain": [
       "['Condition', 'Location', 'Time', 'Model', 'Category']"
      ]
     },
     "execution_count": 4,
     "metadata": {},
     "output_type": "execute_result"
    }
   ],
   "source": [
    "cat_features = [col for col in df.columns if df[col].dtypes == 'O']\n",
    "cat_features"
   ]
  },
  {
   "cell_type": "code",
   "execution_count": 5,
   "metadata": {},
   "outputs": [
    {
     "data": {
      "text/plain": [
       "(['Price', 'Year'], 2)"
      ]
     },
     "execution_count": 5,
     "metadata": {},
     "output_type": "execute_result"
    }
   ],
   "source": [
    "num_features = [col for col in df.columns if col not in cat_features]\n",
    "num_features, len(num_features)"
   ]
  },
  {
   "cell_type": "code",
   "execution_count": 6,
   "metadata": {},
   "outputs": [
    {
     "data": {
      "text/plain": [
       "Condition    0.0\n",
       "Price        0.0\n",
       "Location     0.0\n",
       "Time         0.0\n",
       "Model        0.0\n",
       "Year         0.0\n",
       "Category     0.0\n",
       "dtype: float64"
      ]
     },
     "execution_count": 6,
     "metadata": {},
     "output_type": "execute_result"
    }
   ],
   "source": [
    "\n",
    "df.isnull().mean()"
   ]
  },
  {
   "cell_type": "code",
   "execution_count": 7,
   "metadata": {},
   "outputs": [
    {
     "name": "stdout",
     "output_type": "stream",
     "text": [
      "total passengers with values in all variables:  38751\n",
      "total passengers in the  motorcycle:  38751\n",
      "percentage of data without missing values:  1.0\n"
     ]
    }
   ],
   "source": [
    "print('total passengers with values in all variables: ', df.dropna().shape[0])\n",
    "print('total passengers in the  motorcycle: ', df.shape[0])\n",
    "total_count = df.size\n",
    "\n",
    "print('percentage of data without missing values: ', df.dropna().shape[0]/ np.float_(df.shape[0]))"
   ]
  },
  {
   "cell_type": "code",
   "execution_count": 8,
   "metadata": {},
   "outputs": [
    {
     "data": {
      "text/plain": [
       "{int64: ['Price', 'Year'], object: ['Condition', 'Location', 'Time', 'Model', 'Category']}"
      ]
     },
     "execution_count": 8,
     "metadata": {},
     "output_type": "execute_result"
    }
   ],
   "source": [
    "df.columns.to_series().groupby(df.dtypes).groups"
   ]
  },
  {
   "cell_type": "code",
   "execution_count": 9,
   "metadata": {},
   "outputs": [],
   "source": [
    "\n",
    "\n",
    "from sklearn.linear_model  import LinearRegression\n",
    "\n"
   ]
  },
  {
   "cell_type": "code",
   "execution_count": 10,
   "metadata": {},
   "outputs": [],
   "source": [
    "df['Price'] = pd.to_numeric(df['Price'], errors='coerce')\n",
    "df['Year'] = pd.to_numeric(df['Year'], errors='coerce')\n",
    "\n",
    "\n",
    "df.dropna(subset=['Price', 'Year'], inplace=True)"
   ]
  },
  {
   "cell_type": "code",
   "execution_count": 11,
   "metadata": {},
   "outputs": [],
   "source": [
    "df['Price_per_year'] = df['Price'] / df['Year']\n",
    "df['Avg_price_by_category_location'] = df.groupby(['Category', 'Location'])['Price'].transform('mean')"
   ]
  },
  {
   "cell_type": "code",
   "execution_count": 13,
   "metadata": {},
   "outputs": [],
   "source": [
    "\n",
    "selected_features = ['Location', 'Condition', 'Model', 'Category', 'Year', \n",
    "                     'Price_per_year', 'Avg_price_by_category_location']"
   ]
  },
  {
   "cell_type": "code",
   "execution_count": 14,
   "metadata": {},
   "outputs": [],
   "source": [
    "X = df[selected_features]\n",
    "y = df['Price']"
   ]
  },
  {
   "cell_type": "code",
   "execution_count": 16,
   "metadata": {},
   "outputs": [],
   "source": [
    "from category_encoders import TargetEncoder"
   ]
  },
  {
   "cell_type": "code",
   "execution_count": 17,
   "metadata": {},
   "outputs": [],
   "source": [
    "from sklearn.model_selection import train_test_split\n",
    "encoder = TargetEncoder()\n",
    "X = encoder.fit_transform(X, y)\n",
    "\n",
    "\n",
    "X_train, X_test, y_train, y_test = train_test_split(X, y, test_size=0.2, random_state=42)"
   ]
  },
  {
   "cell_type": "code",
   "execution_count": null,
   "metadata": {},
   "outputs": [],
   "source": [
    "param_grid = {\n",
    "    'C': [0.1, 1.0, 10.0],\n",
    "    'kernel': ['linear', 'poly', 'rbf'],\n",
    "    'degree': [2,]\n",
    "}\n"
   ]
  },
  {
   "cell_type": "code",
   "execution_count": 16,
   "metadata": {},
   "outputs": [
    {
     "name": "stdout",
     "output_type": "stream",
     "text": [
      "Number transactions  X_train datasetofchrun : (31000, 7)\n",
      "Number transaction Y_train  datasetofchrun: (31000,)\n",
      "Number transactions X_test datasetofchurn: (7751, 7)\n",
      "Number transactions  Y_test  datasetofchrun: (7751,)\n"
     ]
    }
   ],
   "source": [
    "from sklearn.model_selection import train_test_split\n",
    "#X_train ,X_test ,y_train  ,y_test=train_test_split(X,y,test_size=0.9 ,random_state=17)\n",
    "\n",
    "print(\"Number transactions  X_train datasetofchrun :\" ,X_train.shape)\n",
    "print(\"Number transaction Y_train  datasetofchrun:\" ,y_train.shape)\n",
    "print(\"Number transactions X_test datasetofchurn:\" ,X_test.shape) \n",
    "print(\"Number transactions  Y_test  datasetofchrun:\" ,y_test.shape)"
   ]
  },
  {
   "cell_type": "code",
   "execution_count": 19,
   "metadata": {},
   "outputs": [],
   "source": [
    "from  sklearn.linear_model  import LogisticRegression\n",
    "from  sklearn.svm  import SVC\n",
    "from  sklearn.neighbors  import  KNeighborsClassifier\n",
    "from  sklearn.naive_bayes import  GaussianNB\n",
    "from  sklearn.tree  import DecisionTreeClassifier\n",
    "from  sklearn.ensemble  import RandomForestClassifier\n"
   ]
  },
  {
   "cell_type": "code",
   "execution_count": 20,
   "metadata": {},
   "outputs": [],
   "source": [
    "from sklearn.metrics import confusion_matrix, accuracy_score \n",
    "from sklearn.metrics import f1_score, precision_score, recall_score, fbeta_score\n"
   ]
  },
  {
   "cell_type": "markdown",
   "metadata": {},
   "source": [
    "#### Logistic Regression"
   ]
  },
  {
   "cell_type": "code",
   "execution_count": 21,
   "metadata": {},
   "outputs": [],
   "source": [
    "results=['Model', 'Accuracy', 'Precision', 'Recall', 'F1 Score', 'F2 Score']"
   ]
  },
  {
   "cell_type": "code",
   "execution_count": 20,
   "metadata": {},
   "outputs": [
    {
     "name": "stdout",
     "output_type": "stream",
     "text": [
      "                 Model  Accuracy  Precision   Recall  F1 Score  F2 Score\n",
      "0  Logistic Regression   0.14153   0.072552  0.14153  0.077486  0.098835\n"
     ]
    },
    {
     "name": "stderr",
     "output_type": "stream",
     "text": [
      "c:\\Users\\ASUS\\AppData\\Local\\Programs\\Python\\Python310\\lib\\site-packages\\sklearn\\linear_model\\_logistic.py:458: ConvergenceWarning: lbfgs failed to converge (status=1):\n",
      "STOP: TOTAL NO. of ITERATIONS REACHED LIMIT.\n",
      "\n",
      "Increase the number of iterations (max_iter) or scale the data as shown in:\n",
      "    https://scikit-learn.org/stable/modules/preprocessing.html\n",
      "Please also refer to the documentation for alternative solver options:\n",
      "    https://scikit-learn.org/stable/modules/linear_model.html#logistic-regression\n",
      "  n_iter_i = _check_optimize_result(\n",
      "c:\\Users\\ASUS\\AppData\\Local\\Programs\\Python\\Python310\\lib\\site-packages\\sklearn\\metrics\\_classification.py:1344: UndefinedMetricWarning: Precision is ill-defined and being set to 0.0 in labels with no predicted samples. Use `zero_division` parameter to control this behavior.\n",
      "  _warn_prf(average, modifier, msg_start, len(result))\n"
     ]
    }
   ],
   "source": [
    "\n",
    "\n",
    "classifier = LogisticRegression(random_state = 0)\n",
    "\n",
    "\n",
    "classifier.fit(X_train, y_train)\n",
    "y_pred = classifier.predict(X_test)\n",
    "\n",
    "acc = accuracy_score(y_test, y_pred )\n",
    "prec = precision_score(y_test, y_pred ,average='weighted' )\n",
    "rec = recall_score(y_test, y_pred ,average='weighted')\n",
    "f1 = f1_score(y_test, y_pred ,average='weighted')\n",
    "f2 = fbeta_score(y_test, y_pred, beta=2.0,average='weighted')\n",
    "results = pd.DataFrame([['LogisticRegression', \n",
    "acc, prec, rec, f1, f2]], columns = ['Model', \n",
    "'Accuracy', 'Precision', 'Recall', 'F1 Score', \n",
    "'F2 Score'])\n",
    "results = results.sort_values([\"Precision\", \n",
    "\"Recall\", \"F2 Score\"], ascending = False)\n",
    "print (results)"
   ]
  },
  {
   "cell_type": "code",
   "execution_count": 21,
   "metadata": {},
   "outputs": [
    {
     "name": "stderr",
     "output_type": "stream",
     "text": [
      "c:\\Users\\ASUS\\AppData\\Local\\Programs\\Python\\Python310\\lib\\site-packages\\sklearn\\metrics\\_classification.py:1344: UndefinedMetricWarning: Precision is ill-defined and being set to 0.0 in labels with no predicted samples. Use `zero_division` parameter to control this behavior.\n",
      "  _warn_prf(average, modifier, msg_start, len(result))\n",
      "c:\\Users\\ASUS\\AppData\\Local\\Programs\\Python\\Python310\\lib\\site-packages\\sklearn\\metrics\\_classification.py:1344: UndefinedMetricWarning: Recall is ill-defined and being set to 0.0 in labels with no true samples. Use `zero_division` parameter to control this behavior.\n",
      "  _warn_prf(average, modifier, msg_start, len(result))\n",
      "C:\\Users\\ASUS\\AppData\\Local\\Temp\\ipykernel_29376\\4251823072.py:16: FutureWarning: The frame.append method is deprecated and will be removed from pandas in a future version. Use pandas.concat instead.\n",
      "  results = results.append(model_results, ignore_index = True)\n"
     ]
    },
    {
     "data": {
      "text/html": [
       "<div>\n",
       "<style scoped>\n",
       "    .dataframe tbody tr th:only-of-type {\n",
       "        vertical-align: middle;\n",
       "    }\n",
       "\n",
       "    .dataframe tbody tr th {\n",
       "        vertical-align: top;\n",
       "    }\n",
       "\n",
       "    .dataframe thead th {\n",
       "        text-align: right;\n",
       "    }\n",
       "</style>\n",
       "<table border=\"1\" class=\"dataframe\">\n",
       "  <thead>\n",
       "    <tr style=\"text-align: right;\">\n",
       "      <th></th>\n",
       "      <th>Model</th>\n",
       "      <th>Accuracy</th>\n",
       "      <th>Precision</th>\n",
       "      <th>Recall</th>\n",
       "      <th>F1 Score</th>\n",
       "      <th>F2 Score</th>\n",
       "    </tr>\n",
       "  </thead>\n",
       "  <tbody>\n",
       "    <tr>\n",
       "      <th>1</th>\n",
       "      <td>K-Nearest Neighbours</td>\n",
       "      <td>0.295059</td>\n",
       "      <td>0.308667</td>\n",
       "      <td>0.295059</td>\n",
       "      <td>0.282782</td>\n",
       "      <td>0.286633</td>\n",
       "    </tr>\n",
       "    <tr>\n",
       "      <th>0</th>\n",
       "      <td>Logistic Regression</td>\n",
       "      <td>0.141530</td>\n",
       "      <td>0.072552</td>\n",
       "      <td>0.141530</td>\n",
       "      <td>0.077486</td>\n",
       "      <td>0.098835</td>\n",
       "    </tr>\n",
       "  </tbody>\n",
       "</table>\n",
       "</div>"
      ],
      "text/plain": [
       "                  Model  Accuracy  Precision    Recall  F1 Score  F2 Score\n",
       "1  K-Nearest Neighbours  0.295059   0.308667  0.295059  0.282782  0.286633\n",
       "0   Logistic Regression  0.141530   0.072552  0.141530  0.077486  0.098835"
      ]
     },
     "execution_count": 21,
     "metadata": {},
     "output_type": "execute_result"
    }
   ],
   "source": [
    "\n",
    "classifier = KNeighborsClassifier(\n",
    "n_neighbors = 22, \n",
    "metric = 'minkowski', p = 2)\n",
    "\n",
    "classifier.fit(X_train, y_train)\n",
    "y_pred = classifier.predict(X_test)\n",
    "acc = accuracy_score(y_test, y_pred )\n",
    "prec = precision_score(y_test, y_pred ,average='weighted' )\n",
    "rec = recall_score(y_test, y_pred ,average='weighted')\n",
    "f1 = f1_score(y_test, y_pred,average='weighted' )\n",
    "f2 = fbeta_score(y_test, y_pred, beta=2.0 ,average='weighted')\n",
    "model_results = pd.DataFrame([['K-Nearest Neighbours', \n",
    "acc, prec, rec, f1, f2]], columns = ['Model',\n",
    " 'Accuracy', 'Precision', 'Recall',\n",
    " 'F1 Score', 'F2 Score'])\n",
    "results = results.append(model_results, ignore_index = True)\n",
    "results = results.sort_values([\"Precision\", \n",
    "\"Recall\", \"F2 Score\"], ascending = False)\n",
    "results"
   ]
  },
  {
   "cell_type": "code",
   "execution_count": 22,
   "metadata": {},
   "outputs": [
    {
     "name": "stderr",
     "output_type": "stream",
     "text": [
      "c:\\Users\\ASUS\\AppData\\Local\\Programs\\Python\\Python310\\lib\\site-packages\\sklearn\\metrics\\_classification.py:1344: UndefinedMetricWarning: Precision is ill-defined and being set to 0.0 in labels with no predicted samples. Use `zero_division` parameter to control this behavior.\n",
      "  _warn_prf(average, modifier, msg_start, len(result))\n",
      "c:\\Users\\ASUS\\AppData\\Local\\Programs\\Python\\Python310\\lib\\site-packages\\sklearn\\metrics\\_classification.py:1344: UndefinedMetricWarning: Recall is ill-defined and being set to 0.0 in labels with no true samples. Use `zero_division` parameter to control this behavior.\n",
      "  _warn_prf(average, modifier, msg_start, len(result))\n",
      "C:\\Users\\ASUS\\AppData\\Local\\Temp\\ipykernel_29376\\686232452.py:15: FutureWarning: The frame.append method is deprecated and will be removed from pandas in a future version. Use pandas.concat instead.\n",
      "  results = results.append(model_results, ignore_index = True)\n"
     ]
    },
    {
     "data": {
      "text/html": [
       "<div>\n",
       "<style scoped>\n",
       "    .dataframe tbody tr th:only-of-type {\n",
       "        vertical-align: middle;\n",
       "    }\n",
       "\n",
       "    .dataframe tbody tr th {\n",
       "        vertical-align: top;\n",
       "    }\n",
       "\n",
       "    .dataframe thead th {\n",
       "        text-align: right;\n",
       "    }\n",
       "</style>\n",
       "<table border=\"1\" class=\"dataframe\">\n",
       "  <thead>\n",
       "    <tr style=\"text-align: right;\">\n",
       "      <th></th>\n",
       "      <th>Model</th>\n",
       "      <th>Accuracy</th>\n",
       "      <th>Precision</th>\n",
       "      <th>Recall</th>\n",
       "      <th>F1 Score</th>\n",
       "      <th>F2 Score</th>\n",
       "    </tr>\n",
       "  </thead>\n",
       "  <tbody>\n",
       "    <tr>\n",
       "      <th>2</th>\n",
       "      <td>Naive Byes</td>\n",
       "      <td>0.514772</td>\n",
       "      <td>0.504411</td>\n",
       "      <td>0.514772</td>\n",
       "      <td>0.461412</td>\n",
       "      <td>0.479312</td>\n",
       "    </tr>\n",
       "    <tr>\n",
       "      <th>0</th>\n",
       "      <td>K-Nearest Neighbours</td>\n",
       "      <td>0.295059</td>\n",
       "      <td>0.308667</td>\n",
       "      <td>0.295059</td>\n",
       "      <td>0.282782</td>\n",
       "      <td>0.286633</td>\n",
       "    </tr>\n",
       "    <tr>\n",
       "      <th>1</th>\n",
       "      <td>Logistic Regression</td>\n",
       "      <td>0.141530</td>\n",
       "      <td>0.072552</td>\n",
       "      <td>0.141530</td>\n",
       "      <td>0.077486</td>\n",
       "      <td>0.098835</td>\n",
       "    </tr>\n",
       "  </tbody>\n",
       "</table>\n",
       "</div>"
      ],
      "text/plain": [
       "                  Model  Accuracy  Precision    Recall  F1 Score  F2 Score\n",
       "2            Naive Byes  0.514772   0.504411  0.514772  0.461412  0.479312\n",
       "0  K-Nearest Neighbours  0.295059   0.308667  0.295059  0.282782  0.286633\n",
       "1   Logistic Regression  0.141530   0.072552  0.141530  0.077486  0.098835"
      ]
     },
     "execution_count": 22,
     "metadata": {},
     "output_type": "execute_result"
    }
   ],
   "source": [
    "classifier = GaussianNB()\n",
    "\n",
    "classifier.fit(X_train, y_train)\n",
    "y_pred = classifier.predict(X_test)\n",
    "\n",
    "acc = accuracy_score(y_test, y_pred )\n",
    "prec = precision_score(y_test, y_pred ,average='weighted')\n",
    "rec = recall_score(y_test, y_pred,average='weighted' )\n",
    "f1 = f1_score(y_test, y_pred ,average='weighted' )\n",
    "f2 = fbeta_score(y_test, y_pred, beta=2.0 ,average='weighted')\n",
    "model_results = pd.DataFrame([[\n",
    "'Naive Byes', acc, prec, rec, f1, f2]],\n",
    "columns = ['Model', 'Accuracy', 'Precision',\n",
    "'Recall', 'F1 Score', 'F2 Score'])\n",
    "results = results.append(model_results, ignore_index = True)\n",
    "results = results.sort_values([\"Precision\", \n",
    "\"Recall\", \"F2 Score\"], ascending = False)\n",
    "results"
   ]
  },
  {
   "cell_type": "code",
   "execution_count": 23,
   "metadata": {},
   "outputs": [
    {
     "name": "stderr",
     "output_type": "stream",
     "text": [
      "c:\\Users\\ASUS\\AppData\\Local\\Programs\\Python\\Python310\\lib\\site-packages\\sklearn\\metrics\\_classification.py:1344: UndefinedMetricWarning: Recall is ill-defined and being set to 0.0 in labels with no true samples. Use `zero_division` parameter to control this behavior.\n",
      "  _warn_prf(average, modifier, msg_start, len(result))\n",
      "C:\\Users\\ASUS\\AppData\\Local\\Temp\\ipykernel_29376\\2478952851.py:14: FutureWarning: The frame.append method is deprecated and will be removed from pandas in a future version. Use pandas.concat instead.\n",
      "  results = results.append(model_results, ignore_index = True)\n"
     ]
    },
    {
     "data": {
      "text/html": [
       "<div>\n",
       "<style scoped>\n",
       "    .dataframe tbody tr th:only-of-type {\n",
       "        vertical-align: middle;\n",
       "    }\n",
       "\n",
       "    .dataframe tbody tr th {\n",
       "        vertical-align: top;\n",
       "    }\n",
       "\n",
       "    .dataframe thead th {\n",
       "        text-align: right;\n",
       "    }\n",
       "</style>\n",
       "<table border=\"1\" class=\"dataframe\">\n",
       "  <thead>\n",
       "    <tr style=\"text-align: right;\">\n",
       "      <th></th>\n",
       "      <th>Model</th>\n",
       "      <th>Accuracy</th>\n",
       "      <th>Precision</th>\n",
       "      <th>Recall</th>\n",
       "      <th>F1 Score</th>\n",
       "      <th>F2 Score</th>\n",
       "    </tr>\n",
       "  </thead>\n",
       "  <tbody>\n",
       "    <tr>\n",
       "      <th>3</th>\n",
       "      <td>Decision Tree</td>\n",
       "      <td>0.987356</td>\n",
       "      <td>0.988851</td>\n",
       "      <td>0.987356</td>\n",
       "      <td>0.987488</td>\n",
       "      <td>0.987273</td>\n",
       "    </tr>\n",
       "    <tr>\n",
       "      <th>0</th>\n",
       "      <td>Naive Byes</td>\n",
       "      <td>0.514772</td>\n",
       "      <td>0.504411</td>\n",
       "      <td>0.514772</td>\n",
       "      <td>0.461412</td>\n",
       "      <td>0.479312</td>\n",
       "    </tr>\n",
       "    <tr>\n",
       "      <th>1</th>\n",
       "      <td>K-Nearest Neighbours</td>\n",
       "      <td>0.295059</td>\n",
       "      <td>0.308667</td>\n",
       "      <td>0.295059</td>\n",
       "      <td>0.282782</td>\n",
       "      <td>0.286633</td>\n",
       "    </tr>\n",
       "    <tr>\n",
       "      <th>2</th>\n",
       "      <td>Logistic Regression</td>\n",
       "      <td>0.141530</td>\n",
       "      <td>0.072552</td>\n",
       "      <td>0.141530</td>\n",
       "      <td>0.077486</td>\n",
       "      <td>0.098835</td>\n",
       "    </tr>\n",
       "  </tbody>\n",
       "</table>\n",
       "</div>"
      ],
      "text/plain": [
       "                  Model  Accuracy  Precision    Recall  F1 Score  F2 Score\n",
       "3         Decision Tree  0.987356   0.988851  0.987356  0.987488  0.987273\n",
       "0            Naive Byes  0.514772   0.504411  0.514772  0.461412  0.479312\n",
       "1  K-Nearest Neighbours  0.295059   0.308667  0.295059  0.282782  0.286633\n",
       "2   Logistic Regression  0.141530   0.072552  0.141530  0.077486  0.098835"
      ]
     },
     "execution_count": 23,
     "metadata": {},
     "output_type": "execute_result"
    }
   ],
   "source": [
    "\n",
    "classifier = DecisionTreeClassifier(criterion = 'entropy', random_state = 0)\n",
    "\n",
    "classifier.fit(X_train, y_train)\n",
    "y_pred = classifier.predict(X_test)\n",
    "acc = accuracy_score(y_test, y_pred )\n",
    "prec = precision_score(y_test, y_pred ,average='weighted' )\n",
    "rec = recall_score(y_test, y_pred ,average='weighted' )\n",
    "f1 = f1_score(y_test, y_pred  ,average='weighted')\n",
    "f2 = fbeta_score(y_test, y_pred, beta=2.0 ,average='weighted')\n",
    "model_results = pd.DataFrame([[\n",
    "'Decision Tree', acc, prec, rec, f1, f2]],\n",
    " columns = ['Model', 'Accuracy', 'Precision', \n",
    "'Recall', 'F1 Score', 'F2 Score'])\n",
    "results = results.append(model_results, ignore_index = True)\n",
    "results = results.sort_values([\"Precision\", \n",
    "\"Recall\", \"F2 Score\"], ascending = False)\n",
    "results"
   ]
  },
  {
   "cell_type": "code",
   "execution_count": 24,
   "metadata": {},
   "outputs": [
    {
     "name": "stderr",
     "output_type": "stream",
     "text": [
      "c:\\Users\\ASUS\\AppData\\Local\\Programs\\Python\\Python310\\lib\\site-packages\\sklearn\\metrics\\_classification.py:1344: UndefinedMetricWarning: Precision is ill-defined and being set to 0.0 in labels with no predicted samples. Use `zero_division` parameter to control this behavior.\n",
      "  _warn_prf(average, modifier, msg_start, len(result))\n",
      "c:\\Users\\ASUS\\AppData\\Local\\Programs\\Python\\Python310\\lib\\site-packages\\sklearn\\metrics\\_classification.py:1344: UndefinedMetricWarning: Recall is ill-defined and being set to 0.0 in labels with no true samples. Use `zero_division` parameter to control this behavior.\n",
      "  _warn_prf(average, modifier, msg_start, len(result))\n",
      "C:\\Users\\ASUS\\AppData\\Local\\Temp\\ipykernel_29376\\3680450961.py:15: FutureWarning: The frame.append method is deprecated and will be removed from pandas in a future version. Use pandas.concat instead.\n",
      "  results = results.append(model_results, ignore_index = True)\n"
     ]
    },
    {
     "data": {
      "text/html": [
       "<div>\n",
       "<style scoped>\n",
       "    .dataframe tbody tr th:only-of-type {\n",
       "        vertical-align: middle;\n",
       "    }\n",
       "\n",
       "    .dataframe tbody tr th {\n",
       "        vertical-align: top;\n",
       "    }\n",
       "\n",
       "    .dataframe thead th {\n",
       "        text-align: right;\n",
       "    }\n",
       "</style>\n",
       "<table border=\"1\" class=\"dataframe\">\n",
       "  <thead>\n",
       "    <tr style=\"text-align: right;\">\n",
       "      <th></th>\n",
       "      <th>Model</th>\n",
       "      <th>Accuracy</th>\n",
       "      <th>Precision</th>\n",
       "      <th>Recall</th>\n",
       "      <th>F1 Score</th>\n",
       "      <th>F2 Score</th>\n",
       "    </tr>\n",
       "  </thead>\n",
       "  <tbody>\n",
       "    <tr>\n",
       "      <th>0</th>\n",
       "      <td>Decision Tree</td>\n",
       "      <td>0.987356</td>\n",
       "      <td>0.988851</td>\n",
       "      <td>0.987356</td>\n",
       "      <td>0.987488</td>\n",
       "      <td>0.987273</td>\n",
       "    </tr>\n",
       "    <tr>\n",
       "      <th>4</th>\n",
       "      <td>Random forest</td>\n",
       "      <td>0.962844</td>\n",
       "      <td>0.963599</td>\n",
       "      <td>0.962844</td>\n",
       "      <td>0.961732</td>\n",
       "      <td>0.962127</td>\n",
       "    </tr>\n",
       "    <tr>\n",
       "      <th>1</th>\n",
       "      <td>Naive Byes</td>\n",
       "      <td>0.514772</td>\n",
       "      <td>0.504411</td>\n",
       "      <td>0.514772</td>\n",
       "      <td>0.461412</td>\n",
       "      <td>0.479312</td>\n",
       "    </tr>\n",
       "    <tr>\n",
       "      <th>2</th>\n",
       "      <td>K-Nearest Neighbours</td>\n",
       "      <td>0.295059</td>\n",
       "      <td>0.308667</td>\n",
       "      <td>0.295059</td>\n",
       "      <td>0.282782</td>\n",
       "      <td>0.286633</td>\n",
       "    </tr>\n",
       "    <tr>\n",
       "      <th>3</th>\n",
       "      <td>Logistic Regression</td>\n",
       "      <td>0.141530</td>\n",
       "      <td>0.072552</td>\n",
       "      <td>0.141530</td>\n",
       "      <td>0.077486</td>\n",
       "      <td>0.098835</td>\n",
       "    </tr>\n",
       "  </tbody>\n",
       "</table>\n",
       "</div>"
      ],
      "text/plain": [
       "                  Model  Accuracy  Precision    Recall  F1 Score  F2 Score\n",
       "0         Decision Tree  0.987356   0.988851  0.987356  0.987488  0.987273\n",
       "4         Random forest  0.962844   0.963599  0.962844  0.961732  0.962127\n",
       "1            Naive Byes  0.514772   0.504411  0.514772  0.461412  0.479312\n",
       "2  K-Nearest Neighbours  0.295059   0.308667  0.295059  0.282782  0.286633\n",
       "3   Logistic Regression  0.141530   0.072552  0.141530  0.077486  0.098835"
      ]
     },
     "execution_count": 24,
     "metadata": {},
     "output_type": "execute_result"
    }
   ],
   "source": [
    "classifier=RandomForestClassifier(n_estimators=100, criterion = 'entropy', random_state = 0)\n",
    "\n",
    "classifier.fit(X_train, y_train)\n",
    "y_pred = classifier.predict(X_test)\n",
    "\n",
    "acc = accuracy_score(y_test, y_pred )\n",
    "prec = precision_score(y_test, y_pred ,average='weighted' )\n",
    "rec = recall_score(y_test, y_pred ,average='weighted' )\n",
    "f1 = f1_score(y_test, y_pred  ,average='weighted')\n",
    "f2 = fbeta_score(y_test, y_pred, beta=2.0 ,average='weighted')\n",
    "model_results = pd.DataFrame([[\n",
    "'Random forest', acc, prec, rec, f1, f2]],\n",
    " columns = ['Model', 'Accuracy', 'Precision', \n",
    "'Recall', 'F1 Score', 'F2 Score'])\n",
    "results = results.append(model_results, ignore_index = True)\n",
    "results = results.sort_values([\"Precision\", \n",
    "\"Recall\", \"F2 Score\"], ascending = False)\n",
    "results"
   ]
  },
  {
   "cell_type": "code",
   "execution_count": 25,
   "metadata": {},
   "outputs": [],
   "source": [
    "classifier = SVC(kernel = 'linear', random_state = 0)\n",
    "classifier.fit(X_train, y_train)\n",
    "y_pred=classifier.predict(X_test)\n",
    "\n",
    "acc = accuracy_score(y_test, y_pred )\n",
    "prec = precision_score(y_test, y_pred,average='weighted')\n",
    "rec = recall_score(y_test, y_pred,average='weighted')\n",
    "f1 = f1_score(y_test, y_pred ,average='weighted')\n",
    "f2 = fbeta_score(y_test, y_pred, beta=2.0 ,average='weighted')\n",
    "model_results = pd.DataFrame([['Support vector machine(Linear)', acc, prec, rec, f1, f2]],\n",
    "columns = ['Model', 'Accuracy', 'Precision', \n",
    "'Recall', 'F1 Score', 'F2 Score'])\n",
    "\n",
    "results = results.append(model_results, ignore_index=True)\n",
    "results = results.sort_values([\"Precision\", \n",
    "\"Recall\", \"F2 Score\"], ascending = False)\n",
    "results"
   ]
  },
  {
   "cell_type": "code",
   "execution_count": 22,
   "metadata": {},
   "outputs": [],
   "source": [
    "classifier = SVC( kernel='poly', C=1.0,random_state = 0)\n",
    "classifier.fit(X_train, y_train)\n",
    "y_pred=classifier.predict(X_test)\n",
    "\n",
    "acc = accuracy_score(y_test, y_pred )\n",
    "prec = precision_score(y_test, y_pred,average='weighted')\n",
    "rec = recall_score(y_test, y_pred,average='weighted')\n",
    "f1 = f1_score(y_test, y_pred ,average='weighted')\n",
    "f2 = fbeta_score(y_test, y_pred, beta=2.0 ,average='weighted')\n",
    "model_results = pd.DataFrame([['Support vector machine(Linear)', acc, prec, rec, f1, f2]],\n",
    "columns = ['Model', 'Accuracy', 'Precision', \n",
    "'Recall', 'F1 Score', 'F2 Score'])\n",
    "\n",
    "results = results.append(model_results, ignore_index=True)\n",
    "results = results.sort_values([\"Precision\", \n",
    "\"Recall\", \"F2 Score\"], ascending = False)\n",
    "results"
   ]
  },
  {
   "cell_type": "code",
   "execution_count": 25,
   "metadata": {},
   "outputs": [
    {
     "data": {
      "text/plain": [
       "<Axes: ylabel='Model'>"
      ]
     },
     "execution_count": 25,
     "metadata": {},
     "output_type": "execute_result"
    },
    {
     "data": {
      "image/png": "[encoded data removed]",
      "text/plain": [
       "<Figure size 1200x800 with 1 Axes>"
      ]
     },
     "metadata": {},
     "output_type": "display_data"
    }
   ],
   "source": [
    "results.set_index('Model', inplace=True)\n",
    "results['Accuracy'].plot(kind='barh', figsize=(12, 8))"
   ]
  },
  {
   "cell_type": "code",
   "execution_count": 26,
   "metadata": {},
   "outputs": [],
   "source": [
    "from sklearn.preprocessing import StandardScaler\n",
    "from sklearn.pipeline import Pipeline\n",
    "\n",
    "pipeline = Pipeline([\n",
    "    ('std_scalar', StandardScaler())\n",
    "])\n",
    "\n",
    "X_train = pipeline.fit_transform(X_train)\n",
    "X_test = pipeline.transform(X_test)"
   ]
  },
  {
   "cell_type": "code",
   "execution_count": 27,
   "metadata": {},
   "outputs": [],
   "source": [
    "from sklearn import metrics\n",
    "from sklearn.model_selection import cross_val_score\n",
    "\n",
    "def cross_val(model, X, y):\n",
    "    pred = cross_val_score(model, X, y, cv=10)\n",
    "    return pred.mean()\n",
    "\n",
    "def print_evaluate(true, predicted):  \n",
    "    mae = metrics.mean_absolute_error(true, predicted)\n",
    "    mse = metrics.mean_squared_error(true, predicted)\n",
    "    rmse = np.sqrt(metrics.mean_squared_error(true, predicted))\n",
    "    r2_square = metrics.r2_score(true, predicted)\n",
    "    print('MAE:', mae)\n",
    "    print('MSE:', mse)\n",
    "    print('RMSE:', rmse)\n",
    "    print('R2 Square:', r2_square)\n",
    "    print('__________________________________')\n",
    "\n",
    "def evaluate(true, predicted):\n",
    "    mae = metrics.mean_absolute_error(true, predicted)\n",
    "    mse = metrics.mean_squared_error(true, predicted)\n",
    "    rmse = np.sqrt(metrics.mean_squared_error(true, predicted))\n",
    "    r2_square = metrics.r2_score(true, predicted)\n",
    "    return mae, mse, rmse, r2_square\n"
   ]
  },
  {
   "cell_type": "code",
   "execution_count": 28,
   "metadata": {},
   "outputs": [],
   "source": [
    "results_df = pd.DataFrame(columns=['Model', 'MAE', 'MSE', 'RMSE', 'R2 Square', 'Cross Validation'])"
   ]
  },
  {
   "cell_type": "code",
   "execution_count": 30,
   "metadata": {},
   "outputs": [],
   "source": [
    "from sklearn.linear_model import LinearRegression"
   ]
  },
  {
   "cell_type": "code",
   "execution_count": 31,
   "metadata": {},
   "outputs": [
    {
     "name": "stdout",
     "output_type": "stream",
     "text": [
      "Test set evaluation:\n",
      "_____________________________________\n",
      "MAE: 40.31299482323597\n",
      "MSE: 6399.440461093907\n",
      "RMSE: 79.99650280539711\n",
      "R2 Square: 0.9998866997302559\n",
      "__________________________________\n",
      "Train set evaluation:\n",
      "_____________________________________\n",
      "MAE: 40.4213385274966\n",
      "MSE: 5934.974190940419\n",
      "RMSE: 77.03878368030234\n",
      "R2 Square: 0.9998969565451178\n",
      "__________________________________\n"
     ]
    },
    {
     "name": "stderr",
     "output_type": "stream",
     "text": [
      "C:\\Users\\ASUS\\AppData\\Local\\Temp\\ipykernel_28724\\1741764379.py:14: FutureWarning: The frame.append method is deprecated and will be removed from pandas in a future version. Use pandas.concat instead.\n",
      "  results_df = results_df.append(results_df1, ignore_index=True)\n"
     ]
    }
   ],
   "source": [
    "lin_reg = LinearRegression()\n",
    "lin_reg.fit(X_train, y_train)\n",
    "test_pred = lin_reg.predict(X_test)\n",
    "train_pred = lin_reg.predict(X_train)\n",
    "\n",
    "print('Test set evaluation:\\n_____________________________________')\n",
    "print_evaluate(y_test, test_pred)\n",
    "print('Train set evaluation:\\n_____________________________________')\n",
    "print_evaluate(y_train, train_pred)\n",
    "\n",
    "results_df1 = pd.DataFrame(data=[[\"Linear Regression\", *evaluate(y_test, test_pred), cross_val(LinearRegression(), X_train, y_train)]],\n",
    "                          columns=['Model', 'MAE', 'MSE', 'RMSE', 'R2 Square', \"Cross Validation\"])\n",
    "\n",
    "results_df = results_df.append(results_df1, ignore_index=True)"
   ]
  },
  {
   "cell_type": "code",
   "execution_count": 32,
   "metadata": {},
   "outputs": [
    {
     "name": "stdout",
     "output_type": "stream",
     "text": [
      "Test set evaluation:\n",
      "_____________________________________\n",
      "MAE: 1.250853954328478\n",
      "MSE: 196.70022771603686\n",
      "RMSE: 14.024985836571704\n",
      "R2 Square: 0.999996517478521\n",
      "__________________________________\n",
      "Train set evaluation:\n",
      "_____________________________________\n",
      "MAE: 0.4452880000000011\n",
      "MSE: 31.891635850193524\n",
      "RMSE: 5.64726799879318\n",
      "R2 Square: 0.9999994462950917\n",
      "__________________________________\n"
     ]
    },
    {
     "name": "stderr",
     "output_type": "stream",
     "text": [
      "C:\\Users\\ASUS\\AppData\\Local\\Temp\\ipykernel_28724\\4178870669.py:15: FutureWarning: The frame.append method is deprecated and will be removed from pandas in a future version. Use pandas.concat instead.\n",
      "  results_df = results_df.append(results_df2, ignore_index=True)\n"
     ]
    }
   ],
   "source": [
    "from sklearn.ensemble import RandomForestRegressor\n",
    "rf_reg = RandomForestRegressor(n_estimators=1000)\n",
    "rf_reg.fit(X_train, y_train)\n",
    "\n",
    "test_pred = rf_reg.predict(X_test)\n",
    "train_pred = rf_reg.predict(X_train)\n",
    "\n",
    "print('Test set evaluation:\\n_____________________________________')\n",
    "print_evaluate(y_test, test_pred)\n",
    "\n",
    "print('Train set evaluation:\\n_____________________________________')\n",
    "print_evaluate(y_train, train_pred)\n",
    "results_df2 = pd.DataFrame(data=[[\"Random Forest Regressor\", *evaluate(y_test, test_pred), cross_val(LinearRegression(), X_train, y_train)]],\n",
    "                          columns=['Model', 'MAE', 'MSE', 'RMSE', 'R2 Square', \"Cross Validation\"])\n",
    "results_df = results_df.append(results_df2, ignore_index=True)"
   ]
  },
  {
   "cell_type": "code",
   "execution_count": 33,
   "metadata": {},
   "outputs": [
    {
     "name": "stdout",
     "output_type": "stream",
     "text": [
      "Test set evaluation:\n",
      "_____________________________________\n",
      "MAE: 535.0412849954845\n",
      "MSE: 852291.3065410915\n",
      "RMSE: 923.1962448694707\n",
      "R2 Square: 0.9849104252912914\n",
      "__________________________________\n",
      "Train set evaluation:\n",
      "_____________________________________\n",
      "MAE: 534.9581290322581\n",
      "MSE: 861104.7305806451\n",
      "RMSE: 927.9572892006643\n",
      "R2 Square: 0.9850494368467712\n",
      "__________________________________\n"
     ]
    },
    {
     "name": "stderr",
     "output_type": "stream",
     "text": [
      "C:\\Users\\ASUS\\AppData\\Local\\Temp\\ipykernel_28724\\1659753808.py:14: FutureWarning: The frame.append method is deprecated and will be removed from pandas in a future version. Use pandas.concat instead.\n",
      "  results_df = results_df.append(results_df3, ignore_index=True)\n"
     ]
    }
   ],
   "source": [
    "from sklearn.linear_model import LogisticRegression\n",
    "model_lg = LogisticRegression(max_iter=120,random_state=0, n_jobs=20)\n",
    "model_lg.fit(X_train, y_train)\n",
    "test_pred = model_lg.predict(X_test)\n",
    "train_pred = model_lg.predict(X_train)\n",
    "\n",
    "print('Test set evaluation:\\n_____________________________________')\n",
    "print_evaluate(y_test, test_pred)\n",
    "\n",
    "print('Train set evaluation:\\n_____________________________________')\n",
    "print_evaluate(y_train, train_pred)\n",
    "results_df3 = pd.DataFrame(data=[[\"Logistic Regression\", *evaluate(y_test, test_pred), cross_val(LinearRegression(), X_train, y_train)]],\n",
    "                          columns=['Model', 'MAE', 'MSE', 'RMSE', 'R2 Square', \"Cross Validation\"])\n",
    "results_df = results_df.append(results_df3, ignore_index=True)"
   ]
  },
  {
   "cell_type": "code",
   "execution_count": 34,
   "metadata": {},
   "outputs": [
    {
     "name": "stdout",
     "output_type": "stream",
     "text": [
      "Test set evaluation:\n",
      "_____________________________________\n",
      "MAE: 1.1094052380338022\n",
      "MSE: 2732.3409882595793\n",
      "RMSE: 52.2717991679986\n",
      "R2 Square: 0.9999516246814257\n",
      "__________________________________\n",
      "Train set evaluation:\n",
      "_____________________________________\n",
      "MAE: 0.0\n",
      "MSE: 0.0\n",
      "RMSE: 0.0\n",
      "R2 Square: 1.0\n",
      "__________________________________\n"
     ]
    },
    {
     "name": "stderr",
     "output_type": "stream",
     "text": [
      "c:\\Users\\ASUS\\AppData\\Local\\Programs\\Python\\Python310\\lib\\site-packages\\sklearn\\model_selection\\_split.py:700: UserWarning: The least populated class in y has only 7 members, which is less than n_splits=10.\n",
      "  warnings.warn(\n",
      "C:\\Users\\ASUS\\AppData\\Local\\Temp\\ipykernel_28724\\318998936.py:16: FutureWarning: The frame.append method is deprecated and will be removed from pandas in a future version. Use pandas.concat instead.\n",
      "  results_df = results_df.append(results_df4, ignore_index=True)\n"
     ]
    }
   ],
   "source": [
    "from sklearn.tree import DecisionTreeClassifier\n",
    "\n",
    "DTC = DecisionTreeClassifier(criterion='entropy', random_state=0)\n",
    "DTC.fit(X_train, y_train)\n",
    "test_pred = DTC.predict(X_test)\n",
    "train_pred = DTC.predict(X_train)\n",
    "\n",
    "print('Test set evaluation:\\n_____________________________________')\n",
    "print_evaluate(y_test, test_pred)\n",
    "\n",
    "print('Train set evaluation:\\n_____________________________________')\n",
    "print_evaluate(y_train, train_pred)\n",
    "\n",
    "results_df4 = pd.DataFrame(data=[[\"Decision Tree Regressor\", *evaluate(y_test, test_pred), cross_val(DTC, X_train, y_train)]],\n",
    "                          columns=['Model', 'MAE', 'MSE', 'RMSE', 'R2 Square', \"Cross Validation\"])\n",
    "results_df = results_df.append(results_df4, ignore_index=True)"
   ]
  },
  {
   "cell_type": "code",
   "execution_count": 35,
   "metadata": {},
   "outputs": [
    {
     "name": "stdout",
     "output_type": "stream",
     "text": [
      "Test set evaluation:\n",
      "_____________________________________\n",
      "MAE: 1.0904197283067532e-11\n",
      "MSE: 3.011243713831587e-22\n",
      "RMSE: 1.7352935526393183e-11\n",
      "R2 Square: 1.0\n",
      "__________________________________\n",
      "====================================\n",
      "Train set evaluation:\n",
      "_____________________________________\n",
      "MAE: 1.097544466779988e-11\n",
      "MSE: 3.101719768131462e-22\n",
      "RMSE: 1.7611699997818105e-11\n",
      "R2 Square: 1.0\n",
      "__________________________________\n"
     ]
    },
    {
     "name": "stderr",
     "output_type": "stream",
     "text": [
      "c:\\Users\\ASUS\\AppData\\Local\\Programs\\Python\\Python310\\lib\\site-packages\\sklearn\\model_selection\\_split.py:700: UserWarning: The least populated class in y has only 7 members, which is less than n_splits=10.\n",
      "  warnings.warn(\n",
      "C:\\Users\\ASUS\\AppData\\Local\\Temp\\ipykernel_28724\\2655393980.py:20: FutureWarning: The frame.append method is deprecated and will be removed from pandas in a future version. Use pandas.concat instead.\n",
      "  results_df = results_df.append(results_df5, ignore_index=True)\n"
     ]
    }
   ],
   "source": [
    "from sklearn.preprocessing import PolynomialFeatures\n",
    "poly_reg = PolynomialFeatures(degree=2)\n",
    "poly_reg.fit(X_train,y_test)\n",
    "\n",
    "X_train_2_d = poly_reg.fit_transform(X_train)\n",
    "X_test_2_d = poly_reg.transform(X_test)\n",
    "\n",
    "\n",
    "lin_reg.fit(X_train_2_d,y_train)\n",
    "\n",
    "test_pred = lin_reg.predict(X_test_2_d)\n",
    "train_pred = lin_reg.predict(X_train_2_d)\n",
    "print('Test set evaluation:\\n_____________________________________')\n",
    "print_evaluate(y_test, test_pred)\n",
    "print('====================================')\n",
    "print('Train set evaluation:\\n_____________________________________')\n",
    "print_evaluate(y_train, train_pred)\n",
    "results_df5 = pd.DataFrame(data=[[\"Polynomail Regression\", *evaluate(y_test, test_pred), cross_val(DTC, X_train, y_train)]],\n",
    "                          columns=['Model', 'MAE', 'MSE', 'RMSE', 'R2 Square', \"Cross Validation\"])\n",
    "results_df = results_df.append(results_df5, ignore_index=True)"
   ]
  },
  {
   "cell_type": "code",
   "execution_count": 36,
   "metadata": {},
   "outputs": [
    {
     "name": "stdout",
     "output_type": "stream",
     "text": [
      "Test set evaluation:\n",
      "_____________________________________\n",
      "MAE: 3637.5416556173664\n",
      "MSE: 48939444.89520569\n",
      "RMSE: 6995.67329820409\n",
      "R2 Square: 0.13354107418279537\n",
      "__________________________________\n",
      "====================================\n",
      "Train set evaluation:\n",
      "_____________________________________\n",
      "MAE: 3719.9337434774566\n",
      "MSE: 50091975.55659756\n",
      "RMSE: 7077.568477704583\n",
      "R2 Square: 0.1302994659849085\n",
      "__________________________________\n"
     ]
    },
    {
     "name": "stderr",
     "output_type": "stream",
     "text": [
      "c:\\Users\\ASUS\\AppData\\Local\\Programs\\Python\\Python310\\lib\\site-packages\\sklearn\\model_selection\\_split.py:700: UserWarning: The least populated class in y has only 7 members, which is less than n_splits=10.\n",
      "  warnings.warn(\n",
      "C:\\Users\\ASUS\\AppData\\Local\\Temp\\ipykernel_28724\\3344234035.py:14: FutureWarning: The frame.append method is deprecated and will be removed from pandas in a future version. Use pandas.concat instead.\n",
      "  results_df = results_df.append(results_df6, ignore_index=True)\n"
     ]
    }
   ],
   "source": [
    "from  sklearn.svm import  SVR\n",
    "svr=SVR()\n",
    "svr.fit(X_train, y_train)\n",
    "test_pred = svr.predict(X_test)\n",
    "train_pred = svr.predict(X_train)\n",
    "\n",
    "print('Test set evaluation:\\n_____________________________________')\n",
    "print_evaluate(y_test, test_pred)\n",
    "print('====================================')\n",
    "print('Train set evaluation:\\n_____________________________________')\n",
    "print_evaluate(y_train, train_pred)\n",
    "results_df6 = pd.DataFrame(data=[['Support vector machine(Rergession)', *evaluate(y_test, test_pred), cross_val(DTC, X_train, y_train)]],\n",
    "                          columns=['Model', 'MAE', 'MSE', 'RMSE', 'R2 Square', \"Cross Validation\"])\n",
    "results_df = results_df.append(results_df6, ignore_index=True)"
   ]
  },
  {
   "cell_type": "code",
   "execution_count": 37,
   "metadata": {},
   "outputs": [
    {
     "data": {
      "text/html": [
       "<div>\n",
       "<style scoped>\n",
       "    .dataframe tbody tr th:only-of-type {\n",
       "        vertical-align: middle;\n",
       "    }\n",
       "\n",
       "    .dataframe tbody tr th {\n",
       "        vertical-align: top;\n",
       "    }\n",
       "\n",
       "    .dataframe thead th {\n",
       "        text-align: right;\n",
       "    }\n",
       "</style>\n",
       "<table border=\"1\" class=\"dataframe\">\n",
       "  <thead>\n",
       "    <tr style=\"text-align: right;\">\n",
       "      <th></th>\n",
       "      <th>Model</th>\n",
       "      <th>MAE</th>\n",
       "      <th>MSE</th>\n",
       "      <th>RMSE</th>\n",
       "      <th>R2 Square</th>\n",
       "      <th>Cross Validation</th>\n",
       "    </tr>\n",
       "  </thead>\n",
       "  <tbody>\n",
       "    <tr>\n",
       "      <th>0</th>\n",
       "      <td>Linear Regression</td>\n",
       "      <td>4.031299e+01</td>\n",
       "      <td>6.399440e+03</td>\n",
       "      <td>7.999650e+01</td>\n",
       "      <td>0.999887</td>\n",
       "      <td>0.999897</td>\n",
       "    </tr>\n",
       "    <tr>\n",
       "      <th>1</th>\n",
       "      <td>Random Forest Regressor</td>\n",
       "      <td>1.250854e+00</td>\n",
       "      <td>1.967002e+02</td>\n",
       "      <td>1.402499e+01</td>\n",
       "      <td>0.999997</td>\n",
       "      <td>0.999897</td>\n",
       "    </tr>\n",
       "    <tr>\n",
       "      <th>2</th>\n",
       "      <td>Logistic Regression</td>\n",
       "      <td>5.350413e+02</td>\n",
       "      <td>8.522913e+05</td>\n",
       "      <td>9.231962e+02</td>\n",
       "      <td>0.984910</td>\n",
       "      <td>0.999897</td>\n",
       "    </tr>\n",
       "    <tr>\n",
       "      <th>3</th>\n",
       "      <td>Decision Tree Regressor</td>\n",
       "      <td>1.109405e+00</td>\n",
       "      <td>2.732341e+03</td>\n",
       "      <td>5.227180e+01</td>\n",
       "      <td>0.999952</td>\n",
       "      <td>0.987226</td>\n",
       "    </tr>\n",
       "    <tr>\n",
       "      <th>4</th>\n",
       "      <td>Polynomail Regression</td>\n",
       "      <td>1.090420e-11</td>\n",
       "      <td>3.011244e-22</td>\n",
       "      <td>1.735294e-11</td>\n",
       "      <td>1.000000</td>\n",
       "      <td>0.987226</td>\n",
       "    </tr>\n",
       "    <tr>\n",
       "      <th>5</th>\n",
       "      <td>Support vector machine(Rergession)</td>\n",
       "      <td>3.637542e+03</td>\n",
       "      <td>4.893944e+07</td>\n",
       "      <td>6.995673e+03</td>\n",
       "      <td>0.133541</td>\n",
       "      <td>0.987226</td>\n",
       "    </tr>\n",
       "  </tbody>\n",
       "</table>\n",
       "</div>"
      ],
      "text/plain": [
       "                                Model           MAE           MSE  \\\n",
       "0                   Linear Regression  4.031299e+01  6.399440e+03   \n",
       "1             Random Forest Regressor  1.250854e+00  1.967002e+02   \n",
       "2                 Logistic Regression  5.350413e+02  8.522913e+05   \n",
       "3             Decision Tree Regressor  1.109405e+00  2.732341e+03   \n",
       "4               Polynomail Regression  1.090420e-11  3.011244e-22   \n",
       "5  Support vector machine(Rergession)  3.637542e+03  4.893944e+07   \n",
       "\n",
       "           RMSE  R2 Square  Cross Validation  \n",
       "0  7.999650e+01   0.999887          0.999897  \n",
       "1  1.402499e+01   0.999997          0.999897  \n",
       "2  9.231962e+02   0.984910          0.999897  \n",
       "3  5.227180e+01   0.999952          0.987226  \n",
       "4  1.735294e-11   1.000000          0.987226  \n",
       "5  6.995673e+03   0.133541          0.987226  "
      ]
     },
     "execution_count": 37,
     "metadata": {},
     "output_type": "execute_result"
    }
   ],
   "source": [
    "results_df"
   ]
  },
  {
   "cell_type": "code",
   "execution_count": 38,
   "metadata": {},
   "outputs": [
    {
     "data": {
      "text/plain": [
       "<Axes: ylabel='Model'>"
      ]
     },
     "execution_count": 38,
     "metadata": {},
     "output_type": "execute_result"
    },
    {
     "data": {
      "image/png": "[encoded data removed]",
      "text/plain": [
       "<Figure size 1200x800 with 1 Axes>"
      ]
     },
     "metadata": {},
     "output_type": "display_data"
    }
   ],
   "source": [
    "results_df.set_index('Model', inplace=True)\n",
    "results_df['R2 Square'].plot(kind='barh', figsize=(12, 8))"
   ]
  },
  {
   "cell_type": "code",
   "execution_count": null,
   "metadata": {},
   "outputs": [],
   "source": []
  }
 ],
 "metadata": {
  "kernelspec": {
   "display_name": "Python 3",
   "language": "python",
   "name": "python3"
  },
  "language_info": {
   "codemirror_mode": {
    "name": "ipython",
    "version": 3
   },
   "file_extension": ".py",
   "mimetype": "text/x-python",
   "name": "python",
   "nbconvert_exporter": "python",
   "pygments_lexer": "ipython3",
   "version": "3.10.5"
  },
  "orig_nbformat": 4
 },
 "nbformat": 4,
 "nbformat_minor": 2
}
