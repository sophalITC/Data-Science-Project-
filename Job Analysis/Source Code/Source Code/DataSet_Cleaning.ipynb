{
 "cells": [
  {
   "cell_type": "markdown",
   "id": "2151802c",
   "metadata": {},
   "source": [
    "# Import Librarie Important"
   ]
  },
  {
   "cell_type": "code",
   "execution_count": 2,
   "id": "064ff8ad",
   "metadata": {},
   "outputs": [],
   "source": [
    "import matplotlib.pyplot as plt\n",
    "%matplotlib inline\n",
    "import seaborn as sns\n",
    "import numpy as np\n",
    "import pandas as pd\n",
    "import warnings\n",
    "warnings.filterwarnings(\"ignore\")"
   ]
  },
  {
   "cell_type": "code",
   "execution_count": 3,
   "id": "eaf2c0c1",
   "metadata": {},
   "outputs": [
    {
     "data": {
      "text/html": [
       "<div>\n",
       "<style scoped>\n",
       "    .dataframe tbody tr th:only-of-type {\n",
       "        vertical-align: middle;\n",
       "    }\n",
       "\n",
       "    .dataframe tbody tr th {\n",
       "        vertical-align: top;\n",
       "    }\n",
       "\n",
       "    .dataframe thead th {\n",
       "        text-align: right;\n",
       "    }\n",
       "</style>\n",
       "<table border=\"1\" class=\"dataframe\">\n",
       "  <thead>\n",
       "    <tr style=\"text-align: right;\">\n",
       "      <th></th>\n",
       "      <th>JobTitle</th>\n",
       "      <th>CompanyName</th>\n",
       "      <th>Category</th>\n",
       "      <th>Salary</th>\n",
       "      <th>JobType</th>\n",
       "      <th>JobFunction</th>\n",
       "      <th>PositionLevel</th>\n",
       "      <th>WorkingDay</th>\n",
       "      <th>WorkingHour</th>\n",
       "      <th>Location</th>\n",
       "      <th>DetailLocation</th>\n",
       "      <th>WorkingExperience</th>\n",
       "      <th>Qualification</th>\n",
       "      <th>Age</th>\n",
       "    </tr>\n",
       "  </thead>\n",
       "  <tbody>\n",
       "    <tr>\n",
       "      <th>0</th>\n",
       "      <td>Sous Chef</td>\n",
       "      <td>Jobs.PhnomList &amp; Business Training Center</td>\n",
       "      <td>Human Resource / Recruitment</td>\n",
       "      <td>Negotiable</td>\n",
       "      <td>Full Time</td>\n",
       "      <td>General Work</td>\n",
       "      <td>Senior Executive</td>\n",
       "      <td>6-day work/week</td>\n",
       "      <td>Office Hour</td>\n",
       "      <td>Phnom Penh</td>\n",
       "      <td>#106, St.304, Sangkat Beoung kang kong II, Kha...</td>\n",
       "      <td>&lt; 2 years</td>\n",
       "      <td>High School or equivalent</td>\n",
       "      <td>18 - 50</td>\n",
       "    </tr>\n",
       "    <tr>\n",
       "      <th>1</th>\n",
       "      <td>Assistant Admin &amp; Acc</td>\n",
       "      <td>Eco Elictric (Pickup &amp; Maman)</td>\n",
       "      <td>Electrical and Electronics</td>\n",
       "      <td>Negotiable</td>\n",
       "      <td>Full Time</td>\n",
       "      <td>Clerical/Administrative</td>\n",
       "      <td>Junior Executive</td>\n",
       "      <td>6-day work/week</td>\n",
       "      <td>Office Hour</td>\n",
       "      <td>Phnom Penh</td>\n",
       "      <td>#153,St.Mao Tse Toung Blvd, Phnom Penh., Phnom...</td>\n",
       "      <td>No preference</td>\n",
       "      <td>Bachelor's Degree</td>\n",
       "      <td>18 - 50</td>\n",
       "    </tr>\n",
       "    <tr>\n",
       "      <th>2</th>\n",
       "      <td>Accountant / Stock Controller</td>\n",
       "      <td>Meng Dy Europegas</td>\n",
       "      <td>Automotive / Vehicle</td>\n",
       "      <td>Negotiable</td>\n",
       "      <td>Full Time</td>\n",
       "      <td>General/Cost Accounting</td>\n",
       "      <td>Fresh/Entry Level</td>\n",
       "      <td>NaN</td>\n",
       "      <td>NaN</td>\n",
       "      <td>Phnom Penh</td>\n",
       "      <td>BanteayMeanchey, Siem Reap, Battambang, Phnom ...</td>\n",
       "      <td>&lt; 2 years</td>\n",
       "      <td>Bachelor's Degree</td>\n",
       "      <td>18 - 28</td>\n",
       "    </tr>\n",
       "  </tbody>\n",
       "</table>\n",
       "</div>"
      ],
      "text/plain": [
       "                        JobTitle                                CompanyName  \\\n",
       "0                      Sous Chef  Jobs.PhnomList & Business Training Center   \n",
       "1          Assistant Admin & Acc              Eco Elictric (Pickup & Maman)   \n",
       "2  Accountant / Stock Controller                          Meng Dy Europegas   \n",
       "\n",
       "                       Category      Salary    JobType  \\\n",
       "0  Human Resource / Recruitment  Negotiable  Full Time   \n",
       "1    Electrical and Electronics  Negotiable  Full Time   \n",
       "2          Automotive / Vehicle  Negotiable  Full Time   \n",
       "\n",
       "               JobFunction      PositionLevel       WorkingDay  WorkingHour  \\\n",
       "0             General Work   Senior Executive  6-day work/week  Office Hour   \n",
       "1  Clerical/Administrative   Junior Executive  6-day work/week  Office Hour   \n",
       "2  General/Cost Accounting  Fresh/Entry Level              NaN          NaN   \n",
       "\n",
       "     Location                                     DetailLocation  \\\n",
       "0  Phnom Penh  #106, St.304, Sangkat Beoung kang kong II, Kha...   \n",
       "1  Phnom Penh  #153,St.Mao Tse Toung Blvd, Phnom Penh., Phnom...   \n",
       "2  Phnom Penh  BanteayMeanchey, Siem Reap, Battambang, Phnom ...   \n",
       "\n",
       "  WorkingExperience              Qualification      Age  \n",
       "0         < 2 years  High School or equivalent  18 - 50  \n",
       "1     No preference          Bachelor's Degree  18 - 50  \n",
       "2         < 2 years          Bachelor's Degree  18 - 28  "
      ]
     },
     "execution_count": 3,
     "metadata": {},
     "output_type": "execute_result"
    }
   ],
   "source": [
    "df = pd.read_csv('AllPhnomList.csv')\n",
    "df.head(3)"
   ]
  },
  {
   "cell_type": "markdown",
   "id": "2a18e603",
   "metadata": {},
   "source": [
    "# Copy data from orginal data "
   ]
  },
  {
   "cell_type": "code",
   "execution_count": 3,
   "id": "bf20b3d1",
   "metadata": {},
   "outputs": [],
   "source": [
    "df1 = df.copy()"
   ]
  },
  {
   "cell_type": "code",
   "execution_count": 4,
   "id": "bcf6465e",
   "metadata": {},
   "outputs": [
    {
     "data": {
      "text/plain": [
       "Index(['JobTitle', 'CompanyName', 'Category', 'Salary', 'JobType',\n",
       "       'JobFunction', 'PositionLevel', 'WorkingDay', 'WorkingHour', 'Location',\n",
       "       'DetailLocation', 'WorkingExperience', 'Qualification', 'Age'],\n",
       "      dtype='object')"
      ]
     },
     "execution_count": 4,
     "metadata": {},
     "output_type": "execute_result"
    }
   ],
   "source": [
    "df1.columns"
   ]
  },
  {
   "cell_type": "code",
   "execution_count": 5,
   "id": "6ada4ca8",
   "metadata": {},
   "outputs": [
    {
     "name": "stdout",
     "output_type": "stream",
     "text": [
      "13737\n",
      "13737\n"
     ]
    }
   ],
   "source": [
    "print(df1['WorkingDay'].isnull().sum())\n",
    "print(df1['WorkingHour'].isnull().sum())"
   ]
  },
  {
   "cell_type": "markdown",
   "id": "a5a8e8c8",
   "metadata": {},
   "source": [
    "##### We have missing alots columns : \n",
    "with columns **WorkingHour, WorkingDay, DetailLocation**"
   ]
  },
  {
   "cell_type": "code",
   "execution_count": 6,
   "id": "60e6434b",
   "metadata": {},
   "outputs": [],
   "source": [
    "df1.drop(['WorkingHour','WorkingDay', 'DetailLocation'], axis=1 , inplace = True)\n"
   ]
  },
  {
   "cell_type": "markdown",
   "id": "13d55eb4",
   "metadata": {},
   "source": [
    "It's not on the right form. Let's change each columns to the right from"
   ]
  },
  {
   "cell_type": "markdown",
   "id": "f8b50e42",
   "metadata": {},
   "source": [
    "convert to 2 columns"
   ]
  },
  {
   "cell_type": "markdown",
   "id": "cacc9058",
   "metadata": {},
   "source": [
    "## Columns Age"
   ]
  },
  {
   "cell_type": "code",
   "execution_count": 7,
   "id": "2b0107db",
   "metadata": {
    "scrolled": true
   },
   "outputs": [
    {
     "data": {
      "text/plain": [
       "array(['18 - 50', '18 - 28', '22 - 35', '20 - 50', '20 - 40', '18 - 40',\n",
       "       '25 - 45', '18 - 25', '18 - 45', '30 - 50', '18 - 30', '25 - 40',\n",
       "       '18 - 35', '20 - 60', '24- 32', '20 - 24', '25 - 35', '30 - 45',\n",
       "       '20 - 25', '27 - 45', '20 - 30', '20 - 35', '23 - 35', '22 - 55',\n",
       "       '22 - 50', '21 - 45', '23 - 45', '25 - 50', '27 - 37', '25 - 37',\n",
       "       '22 - 38', '24 - 38', '20 - 34', '21 - 35', '22 - 30', '25 - 55',\n",
       "       '25 - 32', '18 - 65', '22 - 40', '23 - 30', '20 - 45', '27  - 50',\n",
       "       '30  - 50', '15 - 25', '19 - 35', '22 - 45', '18 - 22', '22 - 27',\n",
       "       '19 - 30', '25 - 30', '18 - 24', '28 - 45', '28 - 40', '18 - 33',\n",
       "       '30 - 40', '20 - 28', '18 - 26', '21 - 32', '20 - 27', '35 - 55',\n",
       "       '23 - 50', '18 - 27', '27 - 35', '21 - 30', '19 - 50', '26 - 35',\n",
       "       '19 - 40', '24 - 40', '18 - 38', '23 - 40', '21 - 59', '20 - 33',\n",
       "       '18 - 60', '22 - 28', '18 - 32', '22 - 32', '23 - 29', '21 - 29',\n",
       "       '35 - 45', '18 - 57', '28 - 35', '18 - 34', '27 - 33', '21 - 25',\n",
       "       '25 - 48', '20 - 55', '27 - 40', '20 - 38', '30 - 35', '30 - 38',\n",
       "       '21 - 50', '21 - 26', '21 - 27', '21 - 28', '26 - 32', '29 - 40',\n",
       "       '18 - 29', '24 - 35', '20 - 26', '26 - 33', '22 - 25', '22 - 26',\n",
       "       '28 - 50', '40 - 60', '26 - 48', '20 - 37', '23 - 28', '24 - 32',\n",
       "       '23 - 25', 'Feb-35', '18 - 55', '22 - 29', '16 - 30', '22 - 36',\n",
       "       '18 - 48', '18 - 36', '25 - 49', '35 - 50', '25 - 60', '26 - 40',\n",
       "       '24 - 36', '16 - 35', '19 - 28', '25 - 38', '27 - 38', '29 - 50',\n",
       "       '26 - 50', '20 -', '19 -', '22 - 33', '17 - 30', '32 - 45',\n",
       "       '23 - 38', '20 - 32', '24 - 28', '24 - 50', '28 - 34', '33 - 38',\n",
       "       '28 - 38', '25 - 39', '27 - 50', '18 - 44', '18 - 39', '35 - 40',\n",
       "       '20 - 70', '20 - 29', '22 - 39', '26 - 38', '24 - 30', '25 - 36',\n",
       "       '21 - 40', '18 - 95', '40 - 50', '23 - 33', '25 - 33', '19 - 32',\n",
       "       '25 - 29', '26 - 45', '24 - 37', '22 -35', '23 - 43', '24 - 48',\n",
       "       '27 - 28', '20 - 48', '-0', '19 - 27', '30 - 55', '33 - 39',\n",
       "       '33 - 40', '24 - 45'], dtype=object)"
      ]
     },
     "execution_count": 7,
     "metadata": {},
     "output_type": "execute_result"
    }
   ],
   "source": [
    "df1['Age'].unique()"
   ]
  },
  {
   "cell_type": "code",
   "execution_count": 8,
   "id": "aa1c5e01",
   "metadata": {},
   "outputs": [],
   "source": [
    "df1[['min_age', 'max_age']] = df1['Age'].str.split(' - ', expand=True)\n",
    "df1.drop('Age', axis='columns', inplace = True)"
   ]
  },
  {
   "cell_type": "code",
   "execution_count": 9,
   "id": "2b5bca9c",
   "metadata": {},
   "outputs": [],
   "source": [
    "## "
   ]
  },
  {
   "cell_type": "markdown",
   "id": "7ffd26bb",
   "metadata": {},
   "source": [
    "## Let's check column min_age"
   ]
  },
  {
   "cell_type": "code",
   "execution_count": 10,
   "id": "1a021f8b",
   "metadata": {},
   "outputs": [
    {
     "data": {
      "text/plain": [
       "array(['18', '22', '20', '25', '30', '24- 32', '27', '23', '21', '24',\n",
       "       '27 ', '30 ', '15', '19', '28', '35', '26', '29', '40', 'Feb-35',\n",
       "       '16', '20 -', '19 -', '17', '32', '33', '22 -35', '-0'],\n",
       "      dtype=object)"
      ]
     },
     "execution_count": 10,
     "metadata": {},
     "output_type": "execute_result"
    }
   ],
   "source": [
    "df1['min_age'].unique()"
   ]
  },
  {
   "cell_type": "code",
   "execution_count": 11,
   "id": "0168bf46",
   "metadata": {},
   "outputs": [],
   "source": [
    "replace_dict = {\n",
    "        '19 -': 19,\n",
    "        '20 -': 20,\n",
    "        '24- 32': 24,\n",
    "        '27 ': 27,\n",
    "        '24-': 24,\n",
    "        'Feb-35': 35,\n",
    "        '30 ': 30,\n",
    "        '22 -35':22}    \n",
    "df1['min_age'] = df1['min_age'].replace(replace_dict)"
   ]
  },
  {
   "cell_type": "code",
   "execution_count": 12,
   "id": "9e914b0c",
   "metadata": {},
   "outputs": [],
   "source": [
    "df1['min_age']=df1['min_age'].astype(float)"
   ]
  },
  {
   "cell_type": "code",
   "execution_count": 13,
   "id": "ed5408d4",
   "metadata": {},
   "outputs": [
    {
     "data": {
      "image/png": "[encoded data removed]",
      "text/plain": [
       "<Figure size 1600x800 with 1 Axes>"
      ]
     },
     "metadata": {},
     "output_type": "display_data"
    }
   ],
   "source": [
    "plt.figure(figsize=(16, 8))\n",
    "sns.barplot(x=df1['min_age'].value_counts().index, y=df1['min_age'].value_counts());\n",
    "plt.yscale('log')\n",
    "plt.show()"
   ]
  },
  {
   "cell_type": "markdown",
   "id": "aabed608",
   "metadata": {},
   "source": [
    "## Check columns max_age"
   ]
  },
  {
   "cell_type": "code",
   "execution_count": 14,
   "id": "8abdb2a5",
   "metadata": {},
   "outputs": [],
   "source": [
    "df1['max_age'].unique()\n",
    "df1['max_age']=df1['max_age'].astype(float)"
   ]
  },
  {
   "cell_type": "code",
   "execution_count": 15,
   "id": "4204d948",
   "metadata": {},
   "outputs": [
    {
     "data": {
      "image/png": "[encoded data removed]",
      "text/plain": [
       "<Figure size 1600x800 with 1 Axes>"
      ]
     },
     "metadata": {},
     "output_type": "display_data"
    }
   ],
   "source": [
    "plt.figure(figsize=(16, 8))\n",
    "sns.barplot(x=df1['max_age'].value_counts().index, y=df1['max_age'].value_counts());\n",
    "plt.yscale('log')\n",
    "plt.show()"
   ]
  },
  {
   "cell_type": "markdown",
   "id": "23f43de9",
   "metadata": {},
   "source": [
    "## Check columns Qualification"
   ]
  },
  {
   "cell_type": "code",
   "execution_count": 16,
   "id": "97af9047",
   "metadata": {},
   "outputs": [
    {
     "data": {
      "text/plain": [
       "array(['High School or equivalent', \"Bachelor's Degree\",\n",
       "       \"Master's Degree\", 'Phd Degree', 'Associate Degree',\n",
       "       'No preference', 'Zero(0)', 'Others', 'Professional Degree',\n",
       "       'University degree in banking', 'University degree',\n",
       "       'The person minimum bachelor degree HR/management',\n",
       "       'Technical school/institute graduate (preferably electrical or mechanical)',\n",
       "       'University degree with knowledge',\n",
       "       'មានកម្រិតវប្បធម៌ចាប់ពីបរិញ្ញាបត្រឡើងទៅ',\n",
       "       'មានកម្រិតវប្បធម៌ចាប់ពីថ្នាក់ទី ៩ ឡើងទៅ',\n",
       "       'មានកម្រិតវប្បធម៌ចាប់ពីថ្នាក់ទី ០៩ ឡើងទៅ',\n",
       "       'ថ្នាក់បរិញ្ញាបត្រ ទាំងកំពុងសិក្សា និងបញ្ជប់',\n",
       "       'University students or fresh graduates', 'University',\n",
       "       'កំពុងសិក្សា ឬ គ្រោងនឹងបញ្ចប់ថ្នាក់បរិញ្ញាប័ត្រ',\n",
       "       'Undergraduate Degree in a related field',\n",
       "       'បរិញ្ញាបត្រផ្នែកទីផ្សារ ឬជំនាញដែលពាក់ពន្ធ័',\n",
       "       'បញ្ចប់ថ្នាក់បរិញ្ញាបត្រ ឬជានិសិ្សតឆ្នាំទី៤', 'University Decree',\n",
       "       '高中及以上', 'ត្រូវបានបញ្ចប់ថ្នាក់ទី១២',\n",
       "       'Minimum 1 year of experience in assisting children',\n",
       "       'ចំនេះដឹងចប់ថ្នាក់ទី៩ឡើងទៅ', 'Vocation Training',\n",
       "       'Certificate (Diploma)'], dtype=object)"
      ]
     },
     "execution_count": 16,
     "metadata": {},
     "output_type": "execute_result"
    }
   ],
   "source": [
    "df1['Qualification'].unique()"
   ]
  },
  {
   "cell_type": "code",
   "execution_count": 17,
   "id": "05cc08da",
   "metadata": {},
   "outputs": [],
   "source": [
    "df1['Qualification'] = df1['Qualification'].replace({'High School or equivalent':'Bacc2', \"Bachelor's Degree\":'Bachelor',\n",
    "                   \"Master's Degree\":'Master','Phd Degree':'Phd','Associate Degree':'Associate',\n",
    "                   'No preference':'No','Zero(0)':'No','Professional Degree':'Professional',\n",
    "                    'University degree in banking':'Banking','University degree':'Bachelor',\n",
    "                   'The person minimum bachelor degree HR/management':'HR',\n",
    "                    'Technical school/institute graduate (preferably electrical or mechanical)':'Technical',\n",
    "                   'University degree with knowledge':'Bachelor','មានកម្រិតវប្បធម៌ចាប់ពីបរិញ្ញាបត្រឡើងទៅ':'Bachelor',\n",
    "                   'មានកម្រិតវប្បធម៌ចាប់ពីថ្នាក់ទី ៩ ឡើងទៅ':'Diploma','ត្រូវបានបញ្ចប់ថ្នាក់ទី១២':'Bacc2','មានកម្រិតវប្បធម៌ចាប់ពីថ្នាក់ទី ០៩ ឡើងទៅ':'Diplome',\n",
    "                   'ថ្នាក់បរិញ្ញាបត្រ ទាំងកំពុងសិក្សា និងបញ្ជប់':'Bachelor','University students or fresh graduates':'Bachelor',\n",
    "                    'University':'Bachelor', 'កំពុងសិក្សា ឬ គ្រោងនឹងបញ្ចប់ថ្នាក់បរិញ្ញាប័ត្រ':'Bacc2','Undergraduate Degree in a related field':'Undergraduate Degree',\n",
    "                    'ចំនេះដឹងចប់ថ្នាក់ទី៩ឡើងទៅ':'Diploma','បញ្ចប់ថ្នាក់បរិញ្ញាបត្រ ឬជានិសិ្សតឆ្នាំទី៤':'Bachelor','University Decree':'Bachelor',\n",
    "                    '高中及以上':'Bacc2','Minimum 1 year of experience in assisting children':'takecarechildren'\n",
    "                    ,'Vocation Training':'Train','Certificate (Diploma)':'Diploma','Diplome': 'Diploma'\n",
    "                                              })\n"
   ]
  },
  {
   "cell_type": "code",
   "execution_count": 18,
   "id": "5ba69601",
   "metadata": {},
   "outputs": [
    {
     "name": "stderr",
     "output_type": "stream",
     "text": [
      "C:\\Users\\Manon Ya\\anaconda3\\lib\\site-packages\\IPython\\core\\pylabtools.py:152: UserWarning: Glyph 6036 (\\N{KHMER LETTER BA}) missing from current font.\n",
      "  fig.canvas.print_figure(bytes_io, **kw)\n",
      "C:\\Users\\Manon Ya\\anaconda3\\lib\\site-packages\\IPython\\core\\pylabtools.py:152: UserWarning: Glyph 6042 (\\N{KHMER LETTER RO}) missing from current font.\n",
      "  fig.canvas.print_figure(bytes_io, **kw)\n",
      "C:\\Users\\Manon Ya\\anaconda3\\lib\\site-packages\\IPython\\core\\pylabtools.py:152: UserWarning: Glyph 6071 (\\N{KHMER VOWEL SIGN I}) missing from current font.\n",
      "  fig.canvas.print_figure(bytes_io, **kw)\n",
      "C:\\Users\\Manon Ya\\anaconda3\\lib\\site-packages\\IPython\\core\\pylabtools.py:152: UserWarning: Glyph 6025 (\\N{KHMER LETTER NYO}) missing from current font.\n",
      "  fig.canvas.print_figure(bytes_io, **kw)\n",
      "C:\\Users\\Manon Ya\\anaconda3\\lib\\site-packages\\IPython\\core\\pylabtools.py:152: UserWarning: Glyph 6098 (\\N{KHMER SIGN COENG}) missing from current font.\n",
      "  fig.canvas.print_figure(bytes_io, **kw)\n",
      "C:\\Users\\Manon Ya\\anaconda3\\lib\\site-packages\\IPython\\core\\pylabtools.py:152: UserWarning: Glyph 6070 (\\N{KHMER VOWEL SIGN AA}) missing from current font.\n",
      "  fig.canvas.print_figure(bytes_io, **kw)\n",
      "C:\\Users\\Manon Ya\\anaconda3\\lib\\site-packages\\IPython\\core\\pylabtools.py:152: UserWarning: Glyph 6031 (\\N{KHMER LETTER TA}) missing from current font.\n",
      "  fig.canvas.print_figure(bytes_io, **kw)\n",
      "C:\\Users\\Manon Ya\\anaconda3\\lib\\site-packages\\IPython\\core\\pylabtools.py:152: UserWarning: Glyph 6037 (\\N{KHMER LETTER PHA}) missing from current font.\n",
      "  fig.canvas.print_figure(bytes_io, **kw)\n",
      "C:\\Users\\Manon Ya\\anaconda3\\lib\\site-packages\\IPython\\core\\pylabtools.py:152: UserWarning: Glyph 6035 (\\N{KHMER LETTER NO}) missing from current font.\n",
      "  fig.canvas.print_figure(bytes_io, **kw)\n",
      "C:\\Users\\Manon Ya\\anaconda3\\lib\\site-packages\\IPython\\core\\pylabtools.py:152: UserWarning: Glyph 6082 (\\N{KHMER VOWEL SIGN AE}) missing from current font.\n",
      "  fig.canvas.print_figure(bytes_io, **kw)\n",
      "C:\\Users\\Manon Ya\\anaconda3\\lib\\site-packages\\IPython\\core\\pylabtools.py:152: UserWarning: Glyph 6016 (\\N{KHMER LETTER KA}) missing from current font.\n",
      "  fig.canvas.print_figure(bytes_io, **kw)\n",
      "C:\\Users\\Manon Ya\\anaconda3\\lib\\site-packages\\IPython\\core\\pylabtools.py:152: UserWarning: Glyph 6033 (\\N{KHMER LETTER TO}) missing from current font.\n",
      "  fig.canvas.print_figure(bytes_io, **kw)\n",
      "C:\\Users\\Manon Ya\\anaconda3\\lib\\site-packages\\IPython\\core\\pylabtools.py:152: UserWarning: Glyph 6072 (\\N{KHMER VOWEL SIGN II}) missing from current font.\n",
      "  fig.canvas.print_figure(bytes_io, **kw)\n",
      "C:\\Users\\Manon Ya\\anaconda3\\lib\\site-packages\\IPython\\core\\pylabtools.py:152: UserWarning: Glyph 6047 (\\N{KHMER LETTER SA}) missing from current font.\n",
      "  fig.canvas.print_figure(bytes_io, **kw)\n",
      "C:\\Users\\Manon Ya\\anaconda3\\lib\\site-packages\\IPython\\core\\pylabtools.py:152: UserWarning: Glyph 6060 (\\N{KHMER INDEPENDENT VOWEL RYY}) missing from current font.\n",
      "  fig.canvas.print_figure(bytes_io, **kw)\n",
      "C:\\Users\\Manon Ya\\anaconda3\\lib\\site-packages\\IPython\\core\\pylabtools.py:152: UserWarning: Glyph 6023 (\\N{KHMER LETTER CO}) missing from current font.\n",
      "  fig.canvas.print_figure(bytes_io, **kw)\n",
      "C:\\Users\\Manon Ya\\anaconda3\\lib\\site-packages\\IPython\\core\\pylabtools.py:152: UserWarning: Glyph 6086 (\\N{KHMER SIGN NIKAHIT}) missing from current font.\n",
      "  fig.canvas.print_figure(bytes_io, **kw)\n",
      "C:\\Users\\Manon Ya\\anaconda3\\lib\\site-packages\\IPython\\core\\pylabtools.py:152: UserWarning: Glyph 6026 (\\N{KHMER LETTER DA}) missing from current font.\n",
      "  fig.canvas.print_figure(bytes_io, **kw)\n",
      "C:\\Users\\Manon Ya\\anaconda3\\lib\\site-packages\\IPython\\core\\pylabtools.py:152: UserWarning: Glyph 6043 (\\N{KHMER LETTER LO}) missing from current font.\n",
      "  fig.canvas.print_figure(bytes_io, **kw)\n",
      "C:\\Users\\Manon Ya\\anaconda3\\lib\\site-packages\\IPython\\core\\pylabtools.py:152: UserWarning: Glyph 6038 (\\N{KHMER LETTER PO}) missing from current font.\n",
      "  fig.canvas.print_figure(bytes_io, **kw)\n",
      "C:\\Users\\Manon Ya\\anaconda3\\lib\\site-packages\\IPython\\core\\pylabtools.py:152: UserWarning: Glyph 6091 (\\N{KHMER SIGN BANTOC}) missing from current font.\n",
      "  fig.canvas.print_figure(bytes_io, **kw)\n",
      "C:\\Users\\Manon Ya\\anaconda3\\lib\\site-packages\\IPython\\core\\pylabtools.py:152: UserWarning: Glyph 6034 (\\N{KHMER LETTER THO}) missing from current font.\n",
      "  fig.canvas.print_figure(bytes_io, **kw)\n",
      "C:\\Users\\Manon Ya\\anaconda3\\lib\\site-packages\\IPython\\core\\pylabtools.py:152: UserWarning: Glyph 6096 (\\N{KHMER SIGN SAMYOK SANNYA}) missing from current font.\n",
      "  fig.canvas.print_figure(bytes_io, **kw)\n"
     ]
    },
    {
     "data": {
      "image/png": "[encoded data removed]",
      "text/plain": [
       "<Figure size 2600x800 with 1 Axes>"
      ]
     },
     "metadata": {},
     "output_type": "display_data"
    }
   ],
   "source": [
    "plt.figure(figsize=(26,8))\n",
    "sns.barplot(x=df1['Qualification'].value_counts().index, y=df1['Qualification'].value_counts());\n",
    "plt.yscale('log')\n",
    "plt.show()"
   ]
  },
  {
   "cell_type": "markdown",
   "id": "089c213a",
   "metadata": {},
   "source": [
    "## Check column WorkingExperience"
   ]
  },
  {
   "cell_type": "code",
   "execution_count": 19,
   "id": "dc69356a",
   "metadata": {},
   "outputs": [
    {
     "data": {
      "text/plain": [
       "array(['< 2 years', 'No preference', '2-5 years', '5-8 years',\n",
       "       '> 8 years'], dtype=object)"
      ]
     },
     "execution_count": 19,
     "metadata": {},
     "output_type": "execute_result"
    }
   ],
   "source": [
    "df1['WorkingExperience'].unique()"
   ]
  },
  {
   "cell_type": "code",
   "execution_count": 20,
   "id": "c640b614",
   "metadata": {},
   "outputs": [],
   "source": [
    "df1['WorkingExperience']=df1['WorkingExperience'].replace({'No preference': 0, '< 2 years':1, '2-5 years': 2,'5-8 years':5,'> 8 years':8 })"
   ]
  },
  {
   "cell_type": "code",
   "execution_count": 21,
   "id": "77dc0407",
   "metadata": {},
   "outputs": [
    {
     "data": {
      "text/plain": [
       "array([1, 0, 2, 5, 8], dtype=int64)"
      ]
     },
     "execution_count": 21,
     "metadata": {},
     "output_type": "execute_result"
    }
   ],
   "source": [
    "df1['WorkingExperience'].unique()"
   ]
  },
  {
   "cell_type": "markdown",
   "id": "a7efb49b",
   "metadata": {},
   "source": [
    "## Location"
   ]
  },
  {
   "cell_type": "code",
   "execution_count": 22,
   "id": "e3c870bb",
   "metadata": {},
   "outputs": [
    {
     "data": {
      "text/plain": [
       "array(['Phnom Penh', 'Poipet', 'Bavet', 'Preah Sihanouk', 'Kandal',\n",
       "       'Siem Reap', 'Kampong Cham', 'Kampot', 'Pailin', 'Kratie',\n",
       "       'Battambang', 'Prey Veng', 'Kampong Speu', 'Kampong Thom',\n",
       "       'Banteay Meanchey', 'Koh Kong', 'Preah Vihear', 'Oddor Meanchey',\n",
       "       'Kampong Chhnang', 'Banlung', 'Stung Treng', 'Japan', 'Svay Rieng',\n",
       "       'Tbong Khmum', 'Takeo', 'Kep', 'Pursat', 'Rattanakiri',\n",
       "       'United Arab Emirates', 'Takhmao', 'Mondulkiri', 'Cambodia'],\n",
       "      dtype=object)"
      ]
     },
     "execution_count": 22,
     "metadata": {},
     "output_type": "execute_result"
    }
   ],
   "source": [
    "df1['Location'].unique()"
   ]
  },
  {
   "cell_type": "markdown",
   "id": "d7033a90",
   "metadata": {},
   "source": [
    "## Check column PositionLevel"
   ]
  },
  {
   "cell_type": "code",
   "execution_count": 23,
   "id": "69808815",
   "metadata": {},
   "outputs": [
    {
     "data": {
      "text/plain": [
       "Junior Executive      7314\n",
       "Non-Executive         4171\n",
       "Senior Executive      1414\n",
       "Fresh/Entry Level      500\n",
       "Senior Manager         366\n",
       "Manager                 34\n",
       "Kindergarten/pre-k       1\n",
       "Name: PositionLevel, dtype: int64"
      ]
     },
     "execution_count": 23,
     "metadata": {},
     "output_type": "execute_result"
    }
   ],
   "source": [
    "df1['PositionLevel'].value_counts()"
   ]
  },
  {
   "cell_type": "code",
   "execution_count": 24,
   "id": "c0adec03",
   "metadata": {},
   "outputs": [],
   "source": [
    "df1['PositionLevel']=df1['PositionLevel'].replace({'Fresh/Entry Level':'Fresh', 'Kindergarten/pre-k':'Kindergarten'})"
   ]
  },
  {
   "cell_type": "markdown",
   "id": "346448ba",
   "metadata": {},
   "source": [
    "## Check column JobFunction"
   ]
  },
  {
   "cell_type": "code",
   "execution_count": 25,
   "id": "17026145",
   "metadata": {},
   "outputs": [],
   "source": [
    "#df1['JobFunction'].unique()"
   ]
  },
  {
   "cell_type": "markdown",
   "id": "8dac8eb8",
   "metadata": {},
   "source": [
    "## Check columns Salary"
   ]
  },
  {
   "cell_type": "code",
   "execution_count": 26,
   "id": "fa9d4fbf",
   "metadata": {},
   "outputs": [
    {
     "name": "stdout",
     "output_type": "stream",
     "text": [
      "Negotiable 12267\n",
      "$201 - $500 USD 803\n",
      "< $200 USD 287\n",
      "$501 - $1000 USD 271\n",
      "$1001 - $1500 USD 141\n",
      "> $2000 USD 18\n",
      "$1501 - $2000 USD 13\n"
     ]
    }
   ],
   "source": [
    "for salary, count in df1['Salary'].value_counts().items():\n",
    "    print(salary, count)\n"
   ]
  },
  {
   "cell_type": "code",
   "execution_count": 27,
   "id": "73997e13",
   "metadata": {},
   "outputs": [],
   "source": [
    "def get_salary_range(salary_string):\n",
    "    if salary_string == 'Negotiable':\n",
    "        return (None, None)\n",
    "    else:\n",
    "        salary_string = salary_string.replace('$', '')\n",
    "        salary_list = salary_string.split(' - ')\n",
    "        if len(salary_list) == 2:\n",
    "            salary_min = salary_list[0]\n",
    "            salary_max = salary_list[1].split()[0]\n",
    "            if salary_min.startswith('<'):\n",
    "                salary_min = None\n",
    "            else:\n",
    "                salary_min = float(salary_min)\n",
    "            if salary_max.startswith('>'):\n",
    "                salary_max = None\n",
    "            else:\n",
    "                salary_max = float(salary_max)\n",
    "            return (salary_min, salary_max)\n",
    "        else:\n",
    "            return (None, None)"
   ]
  },
  {
   "cell_type": "code",
   "execution_count": 28,
   "id": "bcd1c5ea",
   "metadata": {},
   "outputs": [],
   "source": [
    "# Create two new columns 'Salary_max' and 'Salary_min'\n",
    "df1[['Salary_min', 'Salary_max']] = pd.DataFrame(df1['Salary'].apply(get_salary_range).tolist(), index=df1.index)\n",
    "df1.drop('Salary', axis = 1,  inplace = True)"
   ]
  },
  {
   "cell_type": "code",
   "execution_count": 29,
   "id": "0b5f0722",
   "metadata": {},
   "outputs": [
    {
     "data": {
      "image/png": "[encoded data removed]",
      "text/plain": [
       "<Figure size 800x600 with 1 Axes>"
      ]
     },
     "metadata": {},
     "output_type": "display_data"
    }
   ],
   "source": [
    "plt.figure(figsize=(8, 6))\n",
    "sns.barplot(x=df1['Salary_max'].value_counts().index, y=df1['Salary_max'].value_counts());\n",
    "plt.yscale('log')\n",
    "#plt.xlabel('')\n",
    "#plt.ylabel('WorkingExperience')\n",
    "plt.show()"
   ]
  },
  {
   "cell_type": "code",
   "execution_count": 30,
   "id": "1fead278",
   "metadata": {},
   "outputs": [
    {
     "data": {
      "image/png": "[encoded data removed]",
      "text/plain": [
       "<Figure size 800x600 with 1 Axes>"
      ]
     },
     "metadata": {},
     "output_type": "display_data"
    }
   ],
   "source": [
    "plt.figure(figsize=(8, 6))\n",
    "sns.barplot(x=df1['Salary_min'].value_counts().index, y=df1['Salary_min'].value_counts());\n",
    "plt.yscale('log')\n",
    "#plt.xlabel('')\n",
    "#plt.ylabel('WorkingExperience')\n",
    "plt.show()"
   ]
  },
  {
   "cell_type": "markdown",
   "id": "f2521f6e",
   "metadata": {},
   "source": [
    "## Chack columns Category"
   ]
  },
  {
   "cell_type": "code",
   "execution_count": 31,
   "id": "2f51af88",
   "metadata": {},
   "outputs": [
    {
     "data": {
      "text/plain": [
       "array(['Human Resource / Recruitment', 'Electrical and Electronics',\n",
       "       'Automotive / Vehicle', 'Food and Berverage',\n",
       "       'Construction / Building / Architecture', 'Telecommunication',\n",
       "       'Retail / Trading Distribution / Cosumer Products\\xa0',\n",
       "       'Entertainment', 'NGO / Non Profit / Social Service',\n",
       "       'Advertising / PR / Events', 'General Business',\n",
       "       'Hotel / Resort / Travel', 'Education / Training',\n",
       "       'Information Technology\\xa0/ Digital',\n",
       "       'Health / Medical Care / Pharmaceutical',\n",
       "       'Manufacturing / Production', 'Aerospace / Aviation',\n",
       "       'Property / Real Estate', 'Logistics / Transportation / Warehouse',\n",
       "       'Cosmetics & Beauty', 'Banking / Finance / Insurance / Investment',\n",
       "       'Tourism', 'Clothing / Garment / Textile', 'Engineering',\n",
       "       'Agriculture / Plantation', 'Accounting / Audit / Tax Firm',\n",
       "       'Industrial Products', 'Legal Service / Consulting Firm',\n",
       "       'Jewellery/Gems/Watches', 'Freight / Shipping',\n",
       "       'Energy/Power/Water/Oil & Gas', 'Airline', 'Sports & Recreation',\n",
       "       'Chemical/Plastic/Paper/Petrochemical',\n",
       "       'Science and Technology / R&D', 'Others', 'Quality Control',\n",
       "       'Oil and Gas', 'Broadcasting / Publishing',\n",
       "       'Stationery/Books/Toys', 'Government Sector',\n",
       "       'Agency / Call Centre', 'Cleaning Service', 'Clothing'],\n",
       "      dtype=object)"
      ]
     },
     "execution_count": 31,
     "metadata": {},
     "output_type": "execute_result"
    }
   ],
   "source": [
    "df1['Category'].unique()"
   ]
  },
  {
   "cell_type": "markdown",
   "id": "22af89e7",
   "metadata": {},
   "source": [
    "## Check columns CompanyName"
   ]
  },
  {
   "cell_type": "code",
   "execution_count": 32,
   "id": "7bea51fd",
   "metadata": {},
   "outputs": [
    {
     "data": {
      "text/plain": [
       "array(['Jobs.PhnomList & Business Training Center',\n",
       "       'Eco Elictric (Pickup & Maman)', 'Meng Dy Europegas', ...,\n",
       "       'PHL D AND C Co.,Ltd', 'Por Long Paper Industry',\n",
       "       'Garden City Glof Club Co., Ltd'], dtype=object)"
      ]
     },
     "execution_count": 32,
     "metadata": {},
     "output_type": "execute_result"
    }
   ],
   "source": [
    "df1['CompanyName'].unique()"
   ]
  },
  {
   "cell_type": "markdown",
   "id": "eb78ee99",
   "metadata": {},
   "source": [
    "## Chek columns JobTitle"
   ]
  },
  {
   "cell_type": "code",
   "execution_count": 33,
   "id": "a05e3730",
   "metadata": {},
   "outputs": [
    {
     "data": {
      "text/plain": [
       "array(['Sous Chef', 'Assistant Admin & Acc',\n",
       "       'Accountant / Stock Controller', ...,\n",
       "       'Japanese Desk Consultant ($500-$1500)', 'Office Clark/Accountant',\n",
       "       'Accountant Manager ($300-$500)'], dtype=object)"
      ]
     },
     "execution_count": 33,
     "metadata": {},
     "output_type": "execute_result"
    }
   ],
   "source": [
    "df1['JobTitle'].unique()"
   ]
  },
  {
   "cell_type": "code",
   "execution_count": 34,
   "id": "60e5d32b",
   "metadata": {},
   "outputs": [
    {
     "data": {
      "text/html": [
       "<div>\n",
       "<style scoped>\n",
       "    .dataframe tbody tr th:only-of-type {\n",
       "        vertical-align: middle;\n",
       "    }\n",
       "\n",
       "    .dataframe tbody tr th {\n",
       "        vertical-align: top;\n",
       "    }\n",
       "\n",
       "    .dataframe thead th {\n",
       "        text-align: right;\n",
       "    }\n",
       "</style>\n",
       "<table border=\"1\" class=\"dataframe\">\n",
       "  <thead>\n",
       "    <tr style=\"text-align: right;\">\n",
       "      <th></th>\n",
       "      <th>JobTitle</th>\n",
       "      <th>CompanyName</th>\n",
       "      <th>Category</th>\n",
       "      <th>JobType</th>\n",
       "      <th>JobFunction</th>\n",
       "      <th>PositionLevel</th>\n",
       "      <th>Location</th>\n",
       "      <th>WorkingExperience</th>\n",
       "      <th>Qualification</th>\n",
       "      <th>min_age</th>\n",
       "      <th>max_age</th>\n",
       "      <th>Salary_min</th>\n",
       "      <th>Salary_max</th>\n",
       "    </tr>\n",
       "  </thead>\n",
       "  <tbody>\n",
       "    <tr>\n",
       "      <th>0</th>\n",
       "      <td>Sous Chef</td>\n",
       "      <td>Jobs.PhnomList &amp; Business Training Center</td>\n",
       "      <td>Human Resource / Recruitment</td>\n",
       "      <td>Full Time</td>\n",
       "      <td>General Work</td>\n",
       "      <td>Senior Executive</td>\n",
       "      <td>Phnom Penh</td>\n",
       "      <td>1</td>\n",
       "      <td>Bacc2</td>\n",
       "      <td>18.0</td>\n",
       "      <td>50.0</td>\n",
       "      <td>NaN</td>\n",
       "      <td>NaN</td>\n",
       "    </tr>\n",
       "    <tr>\n",
       "      <th>1</th>\n",
       "      <td>Assistant Admin &amp; Acc</td>\n",
       "      <td>Eco Elictric (Pickup &amp; Maman)</td>\n",
       "      <td>Electrical and Electronics</td>\n",
       "      <td>Full Time</td>\n",
       "      <td>Clerical/Administrative</td>\n",
       "      <td>Junior Executive</td>\n",
       "      <td>Phnom Penh</td>\n",
       "      <td>0</td>\n",
       "      <td>Bachelor</td>\n",
       "      <td>18.0</td>\n",
       "      <td>50.0</td>\n",
       "      <td>NaN</td>\n",
       "      <td>NaN</td>\n",
       "    </tr>\n",
       "    <tr>\n",
       "      <th>2</th>\n",
       "      <td>Accountant / Stock Controller</td>\n",
       "      <td>Meng Dy Europegas</td>\n",
       "      <td>Automotive / Vehicle</td>\n",
       "      <td>Full Time</td>\n",
       "      <td>General/Cost Accounting</td>\n",
       "      <td>Fresh</td>\n",
       "      <td>Phnom Penh</td>\n",
       "      <td>1</td>\n",
       "      <td>Bachelor</td>\n",
       "      <td>18.0</td>\n",
       "      <td>28.0</td>\n",
       "      <td>NaN</td>\n",
       "      <td>NaN</td>\n",
       "    </tr>\n",
       "    <tr>\n",
       "      <th>3</th>\n",
       "      <td>Tax Accountant (Urgent)</td>\n",
       "      <td>LIM &amp; TAN Business Solutions.</td>\n",
       "      <td>Human Resource / Recruitment</td>\n",
       "      <td>Full Time</td>\n",
       "      <td>Audit and Taxation</td>\n",
       "      <td>Non-Executive</td>\n",
       "      <td>Phnom Penh</td>\n",
       "      <td>2</td>\n",
       "      <td>Bachelor</td>\n",
       "      <td>18.0</td>\n",
       "      <td>50.0</td>\n",
       "      <td>NaN</td>\n",
       "      <td>NaN</td>\n",
       "    </tr>\n",
       "    <tr>\n",
       "      <th>4</th>\n",
       "      <td>Account officer</td>\n",
       "      <td>Thai huot Trading Co,. Ltd</td>\n",
       "      <td>Food and Berverage</td>\n",
       "      <td>Full Time</td>\n",
       "      <td>General/Cost Accounting</td>\n",
       "      <td>Non-Executive</td>\n",
       "      <td>Phnom Penh</td>\n",
       "      <td>1</td>\n",
       "      <td>Bachelor</td>\n",
       "      <td>18.0</td>\n",
       "      <td>50.0</td>\n",
       "      <td>NaN</td>\n",
       "      <td>NaN</td>\n",
       "    </tr>\n",
       "  </tbody>\n",
       "</table>\n",
       "</div>"
      ],
      "text/plain": [
       "                        JobTitle                                CompanyName  \\\n",
       "0                      Sous Chef  Jobs.PhnomList & Business Training Center   \n",
       "1          Assistant Admin & Acc              Eco Elictric (Pickup & Maman)   \n",
       "2  Accountant / Stock Controller                          Meng Dy Europegas   \n",
       "3        Tax Accountant (Urgent)              LIM & TAN Business Solutions.   \n",
       "4                Account officer                 Thai huot Trading Co,. Ltd   \n",
       "\n",
       "                       Category    JobType              JobFunction  \\\n",
       "0  Human Resource / Recruitment  Full Time             General Work   \n",
       "1    Electrical and Electronics  Full Time  Clerical/Administrative   \n",
       "2          Automotive / Vehicle  Full Time  General/Cost Accounting   \n",
       "3  Human Resource / Recruitment  Full Time       Audit and Taxation   \n",
       "4            Food and Berverage  Full Time  General/Cost Accounting   \n",
       "\n",
       "      PositionLevel    Location  WorkingExperience Qualification  min_age  \\\n",
       "0  Senior Executive  Phnom Penh                  1         Bacc2     18.0   \n",
       "1  Junior Executive  Phnom Penh                  0      Bachelor     18.0   \n",
       "2             Fresh  Phnom Penh                  1      Bachelor     18.0   \n",
       "3     Non-Executive  Phnom Penh                  2      Bachelor     18.0   \n",
       "4     Non-Executive  Phnom Penh                  1      Bachelor     18.0   \n",
       "\n",
       "   max_age  Salary_min  Salary_max  \n",
       "0     50.0         NaN         NaN  \n",
       "1     50.0         NaN         NaN  \n",
       "2     28.0         NaN         NaN  \n",
       "3     50.0         NaN         NaN  \n",
       "4     50.0         NaN         NaN  "
      ]
     },
     "execution_count": 34,
     "metadata": {},
     "output_type": "execute_result"
    }
   ],
   "source": [
    "df1.head()"
   ]
  },
  {
   "cell_type": "markdown",
   "id": "50fe6bed",
   "metadata": {},
   "source": [
    "## Missing value"
   ]
  },
  {
   "cell_type": "code",
   "execution_count": 35,
   "id": "8993d16a",
   "metadata": {},
   "outputs": [
    {
     "data": {
      "text/plain": [
       "JobTitle                 0\n",
       "CompanyName              0\n",
       "Category                 0\n",
       "JobType                  0\n",
       "JobFunction              0\n",
       "PositionLevel            0\n",
       "Location                 0\n",
       "WorkingExperience        0\n",
       "Qualification            0\n",
       "min_age                  0\n",
       "max_age                  9\n",
       "Salary_min           12572\n",
       "Salary_max           12572\n",
       "dtype: int64"
      ]
     },
     "execution_count": 35,
     "metadata": {},
     "output_type": "execute_result"
    }
   ],
   "source": [
    "df1.isnull().sum()"
   ]
  },
  {
   "cell_type": "markdown",
   "id": "3b0d8a46",
   "metadata": {},
   "source": [
    "## Dubplicated"
   ]
  },
  {
   "cell_type": "code",
   "execution_count": 36,
   "id": "351c9e23",
   "metadata": {},
   "outputs": [
    {
     "data": {
      "text/plain": [
       "1044"
      ]
     },
     "execution_count": 36,
     "metadata": {},
     "output_type": "execute_result"
    }
   ],
   "source": [
    "df1.duplicated().sum()"
   ]
  },
  {
   "cell_type": "markdown",
   "id": "f245d782",
   "metadata": {},
   "source": [
    "<a id=\"1\"></a>\n",
    "<div style=\"padding:20px;\n",
    "            color:white;\n",
    "            margin:10;\n",
    "            font-size:170%;\n",
    "            text-align:left;\n",
    "            display:fill;\n",
    "            border-radius:5px;\n",
    "            background-color:#222222;\n",
    "            overflow:hidden;\n",
    "            font-weight:700\"> <span style='color:#CDA63A'>|</span>Feature Enineering</div>"
   ]
  },
  {
   "cell_type": "markdown",
   "id": "777da275",
   "metadata": {},
   "source": [
    "## Data Cleaning"
   ]
  },
  {
   "cell_type": "markdown",
   "id": "8cb0e80c",
   "metadata": {},
   "source": [
    "### Missing value"
   ]
  },
  {
   "cell_type": "code",
   "execution_count": 37,
   "id": "8ff432c9",
   "metadata": {},
   "outputs": [],
   "source": [
    "df1.dropna(inplace=True)"
   ]
  },
  {
   "cell_type": "markdown",
   "id": "90d30a72",
   "metadata": {},
   "source": [
    "### Dubplicated"
   ]
  },
  {
   "cell_type": "code",
   "execution_count": 38,
   "id": "08fda86b",
   "metadata": {},
   "outputs": [],
   "source": [
    "df1.drop_duplicates(inplace = True)"
   ]
  },
  {
   "cell_type": "code",
   "execution_count": 39,
   "id": "3f789149",
   "metadata": {},
   "outputs": [
    {
     "data": {
      "text/plain": [
       "(1183, 13)"
      ]
     },
     "execution_count": 39,
     "metadata": {},
     "output_type": "execute_result"
    }
   ],
   "source": [
    "df1.shape"
   ]
  },
  {
   "cell_type": "markdown",
   "id": "ba8138c5",
   "metadata": {},
   "source": [
    "## Outlier "
   ]
  },
  {
   "cell_type": "code",
   "execution_count": 40,
   "id": "179acd04",
   "metadata": {},
   "outputs": [
    {
     "data": {
      "image/png": "[encoded data removed]",
      "text/plain": [
       "<Figure size 640x480 with 1 Axes>"
      ]
     },
     "metadata": {},
     "output_type": "display_data"
    }
   ],
   "source": [
    "sns.boxplot(data = df1)\n",
    "plt.yscale('log')\n",
    "plt.show;"
   ]
  },
  {
   "cell_type": "code",
   "execution_count": 41,
   "id": "541bca3b",
   "metadata": {},
   "outputs": [],
   "source": [
    "df2 = df1.copy()"
   ]
  },
  {
   "cell_type": "markdown",
   "id": "442eea31",
   "metadata": {},
   "source": [
    "## From df2 Check PositionLevel"
   ]
  },
  {
   "cell_type": "code",
   "execution_count": 42,
   "id": "08f4710d",
   "metadata": {},
   "outputs": [
    {
     "data": {
      "text/plain": [
       "array(['Kindergarten', 'Fresh', 'Senior Executive', 'Junior Executive',\n",
       "       'Manager', 'Non-Executive', 'Senior Manager'], dtype=object)"
      ]
     },
     "execution_count": 42,
     "metadata": {},
     "output_type": "execute_result"
    }
   ],
   "source": [
    "df2.PositionLevel.unique()"
   ]
  },
  {
   "cell_type": "markdown",
   "id": "bd0ffce1",
   "metadata": {},
   "source": [
    "##  From df2 Check Category "
   ]
  },
  {
   "cell_type": "code",
   "execution_count": 43,
   "id": "55297fe2",
   "metadata": {},
   "outputs": [
    {
     "data": {
      "text/plain": [
       "array(['General Business', 'Logistics / Transportation / Warehouse',\n",
       "       'Telecommunication', 'Food and Berverage',\n",
       "       'Information Technology\\xa0/ Digital', 'Tourism',\n",
       "       'Retail / Trading Distribution / Cosumer Products\\xa0',\n",
       "       'Property / Real Estate', 'Agriculture / Plantation',\n",
       "       'Engineering', 'Manufacturing / Production',\n",
       "       'Automotive / Vehicle', 'Education / Training',\n",
       "       'Construction / Building / Architecture',\n",
       "       'Electrical and Electronics', 'Hotel / Resort / Travel',\n",
       "       'Health / Medical Care / Pharmaceutical',\n",
       "       'Banking / Finance / Insurance / Investment', 'Entertainment',\n",
       "       'Advertising / PR / Events', 'Clothing / Garment / Textile',\n",
       "       'NGO / Non Profit / Social Service',\n",
       "       'Accounting / Audit / Tax Firm', 'Sports & Recreation',\n",
       "       'Human Resource / Recruitment', 'Legal Service / Consulting Firm',\n",
       "       'Cleaning Service', 'Others', 'Industrial Products',\n",
       "       'Science and Technology / R&D', 'Clothing'], dtype=object)"
      ]
     },
     "execution_count": 43,
     "metadata": {},
     "output_type": "execute_result"
    }
   ],
   "source": [
    "df2.Category.unique()"
   ]
  },
  {
   "cell_type": "markdown",
   "id": "1ab0472b",
   "metadata": {},
   "source": [
    "## From df2 Check JobFunction"
   ]
  },
  {
   "cell_type": "code",
   "execution_count": 44,
   "id": "b5f96bfd",
   "metadata": {},
   "outputs": [
    {
     "data": {
      "text/plain": [
       "array(['Education', 'General Work', 'Logistics/Supply Chain',\n",
       "       'Accounting', 'Sales / Eng/Tech/IT', 'Human Resource',\n",
       "       'Top Management', 'Clerical/Administrative',\n",
       "       'Retail Sales/General', 'Arts/Creative Design', 'IT',\n",
       "       'Marketing/Business Development', 'Law/Legal Service',\n",
       "       'Architecture/Engineering', 'Customer Service',\n",
       "       'Technician/Maintenance', 'Hotel/Tourism',\n",
       "       'Corporation Finance/Investment', 'Finance', 'Maintenance',\n",
       "       'Driver/Security', 'Sales-Corporate',\n",
       "       'Architecture/Interior Design', 'IT-Software',\n",
       "       'IT-Network/Sys/DB Admin', 'Secretarial', 'Merchandising',\n",
       "       'Industrial Engineering', 'Banking/Financial',\n",
       "       'Property/Real Estate', 'Quality Control/Assurance',\n",
       "       'Agriculture/Forestry/Fisheries', 'Advertising',\n",
       "       'Purchasing/Material Mgmt', 'Nurse/Medical Support',\n",
       "       'Food/Beverage/Restaurant', 'General/Cost Accounting',\n",
       "       'Training and Development', 'Sales',\n",
       "       'Translator (Japanese or English)', 'Translator',\n",
       "       'Social and Consulting Service', 'Office Staff',\n",
       "       'Japanese translator / interpretation', 'Operations Officer',\n",
       "       'Procurement', 'Translation/Interpretation', 'Chinese Translator',\n",
       "       'Manufacturing', 'Civil Engineering/Construction',\n",
       "       'Tech and Helpdesk Support', 'Quantity Surveying',\n",
       "       'Electrical Engineering', 'Other Engineering',\n",
       "       'Journalist/Editors', 'Electronics Engineering', 'Driver',\n",
       "       'Publishing/Printing', 'Sales / Financial Service', 'Technician',\n",
       "       'Oil/Gas Engineering', 'Cleaner', 'Audit and Taxation',\n",
       "       'Public Relational', 'Chemical Engineering',\n",
       "       'Telesales/Telemarketing', 'Travel Agent/Ticket Sales',\n",
       "       'Telecommunication', 'Doctor/Diagnosis', 'Catering/Restaurant',\n",
       "       'Personal Care', 'Mechanical/Automotive Engineer', 'IT-Hardware'],\n",
       "      dtype=object)"
      ]
     },
     "execution_count": 44,
     "metadata": {},
     "output_type": "execute_result"
    }
   ],
   "source": [
    "df2.JobFunction.unique()"
   ]
  },
  {
   "cell_type": "markdown",
   "id": "4f32e7e7",
   "metadata": {},
   "source": [
    "## FRom df2 Check columns JobTitle"
   ]
  },
  {
   "cell_type": "code",
   "execution_count": 45,
   "id": "9db0f22a",
   "metadata": {},
   "outputs": [
    {
     "data": {
      "text/plain": [
       "array(['Female Foreign English Teacher Required', 'អ្នកបើកបរ',\n",
       "       'សន្តិសុខ ($200 ចចារ)', ...,\n",
       "       'Driverជាច្រើននាក់  (ម្ដុំប៉ុសិ៍លេខច៣)',\n",
       "       'Japanese Desk Consultant ($500-$1500)',\n",
       "       'Accountant Manager ($300-$500)'], dtype=object)"
      ]
     },
     "execution_count": 45,
     "metadata": {},
     "output_type": "execute_result"
    }
   ],
   "source": [
    "df2.JobTitle.unique()"
   ]
  },
  {
   "cell_type": "code",
   "execution_count": 46,
   "id": "c80c0fe0",
   "metadata": {},
   "outputs": [],
   "source": [
    "df2['JobTitle']=df2['JobTitle'].replace({'Female Foreign English Teacher Required':'Teacher','អ្នកបើកបរ':'Driver',\n",
    "                                'Driverជាច្រើននាក់  (ម្ដុំប៉ុសិ៍លេខច៣)':'Driver','Japanese Desk Consultant ($500-$1500)':'Consultant',\n",
    "                               'Accountant Manager ($300-$500)':'Accountant Manager'})"
   ]
  },
  {
   "cell_type": "code",
   "execution_count": 47,
   "id": "07e89ca8",
   "metadata": {},
   "outputs": [],
   "source": [
    "df2.drop('CompanyName',  axis = 1, inplace = True)"
   ]
  },
  {
   "cell_type": "code",
   "execution_count": 48,
   "id": "833b0a7d",
   "metadata": {},
   "outputs": [],
   "source": [
    "df2.drop('JobFunction',axis = 1, inplace = True)"
   ]
  },
  {
   "cell_type": "code",
   "execution_count": 49,
   "id": "f9ecd785",
   "metadata": {},
   "outputs": [],
   "source": [
    "df2.drop( 'Category',axis = 1, inplace=True)"
   ]
  },
  {
   "cell_type": "code",
   "execution_count": 50,
   "id": "9bb1f8e5",
   "metadata": {},
   "outputs": [
    {
     "data": {
      "text/html": [
       "<div>\n",
       "<style scoped>\n",
       "    .dataframe tbody tr th:only-of-type {\n",
       "        vertical-align: middle;\n",
       "    }\n",
       "\n",
       "    .dataframe tbody tr th {\n",
       "        vertical-align: top;\n",
       "    }\n",
       "\n",
       "    .dataframe thead th {\n",
       "        text-align: right;\n",
       "    }\n",
       "</style>\n",
       "<table border=\"1\" class=\"dataframe\">\n",
       "  <thead>\n",
       "    <tr style=\"text-align: right;\">\n",
       "      <th></th>\n",
       "      <th>JobTitle</th>\n",
       "      <th>JobType</th>\n",
       "      <th>PositionLevel</th>\n",
       "      <th>Location</th>\n",
       "      <th>WorkingExperience</th>\n",
       "      <th>Qualification</th>\n",
       "      <th>min_age</th>\n",
       "      <th>max_age</th>\n",
       "      <th>Salary_min</th>\n",
       "      <th>Salary_max</th>\n",
       "    </tr>\n",
       "  </thead>\n",
       "  <tbody>\n",
       "    <tr>\n",
       "      <th>19</th>\n",
       "      <td>Teacher</td>\n",
       "      <td>Full Time</td>\n",
       "      <td>Kindergarten</td>\n",
       "      <td>Phnom Penh</td>\n",
       "      <td>1</td>\n",
       "      <td>Bachelor</td>\n",
       "      <td>18.0</td>\n",
       "      <td>50.0</td>\n",
       "      <td>501.0</td>\n",
       "      <td>1000.0</td>\n",
       "    </tr>\n",
       "    <tr>\n",
       "      <th>48</th>\n",
       "      <td>Driver</td>\n",
       "      <td>Full Time</td>\n",
       "      <td>Fresh</td>\n",
       "      <td>Bavet</td>\n",
       "      <td>1</td>\n",
       "      <td>Professional</td>\n",
       "      <td>18.0</td>\n",
       "      <td>40.0</td>\n",
       "      <td>201.0</td>\n",
       "      <td>500.0</td>\n",
       "    </tr>\n",
       "    <tr>\n",
       "      <th>49</th>\n",
       "      <td>សន្តិសុខ ($200 ចចារ)</td>\n",
       "      <td>Full Time</td>\n",
       "      <td>Fresh</td>\n",
       "      <td>Bavet</td>\n",
       "      <td>0</td>\n",
       "      <td>Others</td>\n",
       "      <td>18.0</td>\n",
       "      <td>40.0</td>\n",
       "      <td>201.0</td>\n",
       "      <td>500.0</td>\n",
       "    </tr>\n",
       "    <tr>\n",
       "      <th>50</th>\n",
       "      <td>Warehouse Worker ($150)</td>\n",
       "      <td>Full Time</td>\n",
       "      <td>Fresh</td>\n",
       "      <td>Bavet</td>\n",
       "      <td>0</td>\n",
       "      <td>Others</td>\n",
       "      <td>18.0</td>\n",
       "      <td>40.0</td>\n",
       "      <td>201.0</td>\n",
       "      <td>500.0</td>\n",
       "    </tr>\n",
       "    <tr>\n",
       "      <th>51</th>\n",
       "      <td>Accountant Manager</td>\n",
       "      <td>Full Time</td>\n",
       "      <td>Senior Executive</td>\n",
       "      <td>Bavet</td>\n",
       "      <td>5</td>\n",
       "      <td>Bachelor</td>\n",
       "      <td>18.0</td>\n",
       "      <td>45.0</td>\n",
       "      <td>501.0</td>\n",
       "      <td>1000.0</td>\n",
       "    </tr>\n",
       "  </tbody>\n",
       "</table>\n",
       "</div>"
      ],
      "text/plain": [
       "                   JobTitle    JobType     PositionLevel    Location  \\\n",
       "19                  Teacher  Full Time      Kindergarten  Phnom Penh   \n",
       "48                   Driver  Full Time             Fresh       Bavet   \n",
       "49     សន្តិសុខ ($200 ចចារ)  Full Time             Fresh       Bavet   \n",
       "50  Warehouse Worker ($150)  Full Time             Fresh       Bavet   \n",
       "51       Accountant Manager  Full Time  Senior Executive       Bavet   \n",
       "\n",
       "    WorkingExperience Qualification  min_age  max_age  Salary_min  Salary_max  \n",
       "19                  1      Bachelor     18.0     50.0       501.0      1000.0  \n",
       "48                  1  Professional     18.0     40.0       201.0       500.0  \n",
       "49                  0        Others     18.0     40.0       201.0       500.0  \n",
       "50                  0        Others     18.0     40.0       201.0       500.0  \n",
       "51                  5      Bachelor     18.0     45.0       501.0      1000.0  "
      ]
     },
     "execution_count": 50,
     "metadata": {},
     "output_type": "execute_result"
    }
   ],
   "source": [
    "df2.head()"
   ]
  },
  {
   "cell_type": "code",
   "execution_count": 51,
   "id": "ea5267e8",
   "metadata": {},
   "outputs": [
    {
     "data": {
      "text/plain": [
       "Accountant                                 12\n",
       "Sales Executive                             9\n",
       "Sales Manager                               4\n",
       "Designer                                    4\n",
       "Restaurant Manager                          4\n",
       "                                           ..\n",
       "អ្នកកាន់ស្តុក និង ឆ្មាំឃ្លាំង (នៅសួង)       1\n",
       "Marketing Representative (បន្ទាន់)          1\n",
       "Marketing & Sales Manager                   1\n",
       "Senior Tax Accountant ($ 1000 ～ $ 2000)     1\n",
       "Consultant                                  1\n",
       "Name: JobTitle, Length: 1081, dtype: int64"
      ]
     },
     "execution_count": 51,
     "metadata": {},
     "output_type": "execute_result"
    }
   ],
   "source": [
    "df2['JobTitle'].value_counts()"
   ]
  },
  {
   "cell_type": "code",
   "execution_count": 52,
   "id": "94d4c122",
   "metadata": {},
   "outputs": [],
   "source": [
    "df2.drop('JobTitle', axis =1, inplace = True)"
   ]
  },
  {
   "cell_type": "code",
   "execution_count": 59,
   "id": "38a74b78",
   "metadata": {},
   "outputs": [
    {
     "name": "stdout",
     "output_type": "stream",
     "text": [
      "       JobType     PositionLevel        Location  WorkingExperience  \\\n",
      "19   Full Time      Kindergarten      Phnom Penh                  1   \n",
      "48   Full Time             Fresh           Bavet                  1   \n",
      "49   Full Time             Fresh           Bavet                  0   \n",
      "50   Full Time             Fresh           Bavet                  0   \n",
      "51   Full Time  Senior Executive           Bavet                  5   \n",
      "52   Full Time  Junior Executive           Bavet                  2   \n",
      "53   Full Time  Junior Executive           Bavet                  2   \n",
      "54   Full Time  Junior Executive           Bavet                  1   \n",
      "57   Full Time  Junior Executive      Phnom Penh                  2   \n",
      "58   Full Time  Senior Executive      Phnom Penh                  2   \n",
      "60   Full Time             Fresh      Phnom Penh                  0   \n",
      "93   Full Time  Junior Executive      Phnom Penh                  2   \n",
      "115  Full Time  Junior Executive      Phnom Penh                  2   \n",
      "116  Full Time  Junior Executive      Phnom Penh                  2   \n",
      "123  Full Time  Junior Executive      Phnom Penh                  2   \n",
      "182  Full Time  Junior Executive      Phnom Penh                  1   \n",
      "183  Full Time  Senior Executive      Phnom Penh                  2   \n",
      "218  Full Time             Fresh      Phnom Penh                  1   \n",
      "219  Full Time             Fresh    Kampong Cham                  1   \n",
      "220  Full Time             Fresh    Kampong Cham                  1   \n",
      "308  Full Time             Fresh      Phnom Penh                  1   \n",
      "375  Full Time  Junior Executive      Phnom Penh                  1   \n",
      "413  Full Time  Junior Executive      Phnom Penh                  2   \n",
      "426  Full Time             Fresh      Phnom Penh                  0   \n",
      "427  Full Time             Fresh      Phnom Penh                  2   \n",
      "428  Full Time             Fresh      Phnom Penh                  0   \n",
      "431  Full Time             Fresh      Phnom Penh                  0   \n",
      "442  Full Time  Senior Executive  Preah Sihanouk                  2   \n",
      "443  Full Time  Junior Executive  Preah Sihanouk                  2   \n",
      "459  Full Time             Fresh          Kandal                  1   \n",
      "\n",
      "    Qualification  min_age  max_age  Salary_min  Salary_max  Salary  \n",
      "19       Bachelor     18.0     50.0       501.0      1000.0       1  \n",
      "48   Professional     18.0     40.0       201.0       500.0       0  \n",
      "49         Others     18.0     40.0       201.0       500.0       0  \n",
      "50         Others     18.0     40.0       201.0       500.0       0  \n",
      "51       Bachelor     18.0     45.0       501.0      1000.0       1  \n",
      "52       Bachelor     18.0     40.0       201.0       500.0       0  \n",
      "53       Bachelor     18.0     40.0       201.0       500.0       0  \n",
      "54       Bachelor     18.0     40.0       201.0       500.0       0  \n",
      "57       Bachelor     18.0     50.0       501.0      1000.0       1  \n",
      "58       Bachelor     25.0     40.0       501.0      1000.0       1  \n",
      "60         Others     18.0     35.0       201.0       500.0       0  \n",
      "93         Others     18.0     40.0       201.0       500.0       0  \n",
      "115     Associate     25.0     35.0       501.0      1000.0       1  \n",
      "116     Associate     25.0     35.0       501.0      1000.0       1  \n",
      "123      Bachelor     20.0     30.0       201.0       500.0       0  \n",
      "182      Bachelor     18.0     50.0       201.0       500.0       0  \n",
      "183      Bachelor     18.0     50.0       201.0       500.0       0  \n",
      "218      Bachelor     18.0     30.0       201.0       500.0       0  \n",
      "219      Bachelor     22.0     35.0       201.0       500.0       0  \n",
      "220      Bachelor     22.0     35.0       201.0       500.0       0  \n",
      "308      Bachelor     20.0     34.0       201.0       500.0       0  \n",
      "375      Bachelor     18.0     50.0       201.0       500.0       0  \n",
      "413      Bachelor     25.0     35.0       501.0      1000.0       1  \n",
      "426         Bacc2     20.0     35.0      1001.0      1500.0       1  \n",
      "427            No     20.0     45.0       201.0       500.0       0  \n",
      "428         Bacc2     20.0     35.0       501.0      1000.0       1  \n",
      "431         Bacc2     20.0     35.0       201.0       500.0       0  \n",
      "442      Bachelor     30.0     50.0       501.0      1000.0       1  \n",
      "443      Bachelor     25.0     35.0       201.0       500.0       0  \n",
      "459     Associate     18.0     50.0       201.0       500.0       0  \n"
     ]
    }
   ],
   "source": [
    "print(df2.head(30))"
   ]
  },
  {
   "cell_type": "markdown",
   "id": "e03770b5",
   "metadata": {},
   "source": [
    "## We decide convert this data that we try to cleaning to another file easy understanding"
   ]
  },
  {
   "cell_type": "code",
   "execution_count": 55,
   "id": "cea0841a",
   "metadata": {},
   "outputs": [],
   "source": [
    "df2.to_csv('data2.csv', index=False)"
   ]
  }
 ],
 "metadata": {
  "kernelspec": {
   "display_name": "Python 3 (ipykernel)",
   "language": "python",
   "name": "python3"
  },
  "language_info": {
   "codemirror_mode": {
    "name": "ipython",
    "version": 3
   },
   "file_extension": ".py",
   "mimetype": "text/x-python",
   "name": "python",
   "nbconvert_exporter": "python",
   "pygments_lexer": "ipython3",
   "version": "3.10.9"
  }
 },
 "nbformat": 4,
 "nbformat_minor": 5
}
