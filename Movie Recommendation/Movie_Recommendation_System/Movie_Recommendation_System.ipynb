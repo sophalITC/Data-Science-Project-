{
 "cells": [
  {
   "cell_type": "code",
   "execution_count": 1,
   "metadata": {},
   "outputs": [],
   "source": [
    "from bs4 import BeautifulSoup\n",
    "import requests\n",
    "import pandas as pd\n",
    "import numpy as np\n",
    "from sklearn.neighbors import NearestNeighbors\n",
    "from sklearn.metrics.pairwise import cosine_similarity\n",
    "import random"
   ]
  },
  {
   "cell_type": "markdown",
   "metadata": {},
   "source": [
    "# EDA & Feature Augmentation"
   ]
  },
  {
   "cell_type": "markdown",
   "metadata": {},
   "source": [
    "After we were suggested by teacher to do a recommendation system by content based.As for the dataset that we had before did not have enought features to do in content based way. We decided to scrape more data from the website."
   ]
  },
  {
   "cell_type": "markdown",
   "metadata": {},
   "source": [
    "We scrape movie's id by using API and with this ID it doesn't have any affect on the recommendation. We just need the id for fetching poster."
   ]
  },
  {
   "cell_type": "code",
   "execution_count": null,
   "metadata": {},
   "outputs": [],
   "source": [
    "import requests\n",
    "import csv\n",
    "\n",
    "base_url = \"https://api.themoviedb.org/3/movie/top_rated\"\n",
    "api_key = \"a7cdaf4cd0359210b90afdd4fe28b356\"\n",
    "language = \"en-US\"\n",
    "page = 1\n",
    "total_movies = 0\n",
    "\n",
    "csv_file = \"movie_data.csv\"\n",
    "csv_header = [\"ID\", \"Title\"]\n",
    "\n",
    "with open(csv_file, 'w', newline='', encoding='utf-8') as file:\n",
    "    writer = csv.writer(file)\n",
    "    writer.writerow(csv_header)\n",
    "\n",
    "    while total_movies < 9500:\n",
    "        url = f\"{base_url}?api_key={api_key}&language={language}&page={page}\"\n",
    "        response = requests.get(url)\n",
    "        data = response.json()\n",
    "\n",
    "        if 'results' in data:\n",
    "            results = data['results']\n",
    "            if len(results) == 0:\n",
    "                break  # No more results, exit the loop\n",
    "\n",
    "            for result in results:\n",
    "                movie_id = result['id']\n",
    "                title = result['original_title']\n",
    "                writer.writerow([movie_id, title])\n",
    "                total_movies += 1\n",
    "                if total_movies >= 9500:\n",
    "                    break  # Reached the desired number of movie IDs\n",
    "\n",
    "        page += 1\n",
    "\n",
    "print(\"Scraping and saving to CSV completed.\")\n"
   ]
  },
  {
   "cell_type": "code",
   "execution_count": null,
   "metadata": {},
   "outputs": [],
   "source": [
    "movies_names =[]\n",
    "directors = []\n",
    "stars = []\n",
    "overviews = []\n",
    "genres = []"
   ]
  },
  {
   "cell_type": "code",
   "execution_count": null,
   "metadata": {},
   "outputs": [],
   "source": [
    "pages = np.arange(1,9500,50)"
   ]
  },
  {
   "cell_type": "code",
   "execution_count": null,
   "metadata": {},
   "outputs": [],
   "source": [
    "for page in pages:\n",
    "    page = requests.get(\"https://www.imdb.com/search/title/?title_type=feature&num_votes=10000,&sort=user_rating,desc&start=\"+str(page)+\"&ref_=adv_nxt\")\n",
    "    soup = BeautifulSoup(page.text,'lxml')\n",
    "    movie_data = soup.find_all('div', class_=\"lister-item mode-advanced\")\n",
    "    for store in movie_data:\n",
    "\n",
    "        name = store.h3.a.text\n",
    "        movies_names.append(name)\n",
    "        overview = store.find(\"div\", class_=\"lister-item-content\").find_all('p')[1].text.strip().replace(\"See full summary\\xa0»\",\"\")\n",
    "        overviews.append(overview)\n",
    "\n",
    "        director = store.find(\"div\", class_=\"lister-item-content\").find(\"p\", class_=\"\").find(\"a\").text\n",
    "        directors.append(director)\n",
    "\n",
    "        genre_element = store.find(\"span\", class_=\"genre\")\n",
    "        genre = genre_element.text.strip() if genre_element else \"\"\n",
    "        genres.append(genre)\n",
    "\n",
    "        stars_element = store.find(\"p\", class_=\"\").find_all(\"a\")\n",
    "        star1 = \", \".join(star.text.strip() for star in stars_element) \n",
    "        stars_list = star1.split(', ')\n",
    "        stars_list = stars_list[1:]\n",
    "        stars_string = \", \".join(stars_list)\n",
    "        stars.append(stars_string)\n",
    "        \n",
    "\n",
    "      \n",
    "        "
   ]
  },
  {
   "cell_type": "code",
   "execution_count": null,
   "metadata": {},
   "outputs": [],
   "source": [
    "added_variable = pd.DataFrame({\"MovieName\": movies_names,\"Genre\": genres, \"Directors\": directors, \"Stars\": stars,\"Overviews\": overviews})"
   ]
  },
  {
   "cell_type": "code",
   "execution_count": null,
   "metadata": {},
   "outputs": [],
   "source": [
    "added_variable.to_csv('new_dataset.csv',index=False)"
   ]
  },
  {
   "cell_type": "code",
   "execution_count": null,
   "metadata": {},
   "outputs": [],
   "source": [
    "df = pd.read_csv('new_dataset.csv')"
   ]
  },
  {
   "cell_type": "code",
   "execution_count": null,
   "metadata": {},
   "outputs": [
    {
     "data": {
      "text/plain": [
       "0"
      ]
     },
     "execution_count": 187,
     "metadata": {},
     "output_type": "execute_result"
    }
   ],
   "source": [
    "df.duplicated().sum()"
   ]
  },
  {
   "cell_type": "markdown",
   "metadata": {},
   "source": [
    "After that we merged the old dataset with the new one."
   ]
  },
  {
   "cell_type": "code",
   "execution_count": null,
   "metadata": {},
   "outputs": [],
   "source": [
    "new_dataset = pd.read_csv(\"new_dataset.csv\")\n",
    "\n",
    "old_dataset = pd.read_csv(\"encoded_clean_1.csv\")\n",
    "\n",
    "# Merge the datasets based on the movie names\n",
    "df_merged = pd.merge(new_dataset, old_dataset, left_on=\"MovieName\", right_on=\"Name_of_Movie\")\n",
    "\n",
    "df_aligned = df_merged[[\"MovieName\", \"Genre\", \"Directors\",\"Overviews\",\"Stars\",\"Watch_time\",\"Year_of_Release\",\"Meta_Score\",\"Votes\",\"Gross_Collection(M$)\"]]\n",
    "\n"
   ]
  },
  {
   "cell_type": "code",
   "execution_count": null,
   "metadata": {},
   "outputs": [],
   "source": [
    "df_aligned"
   ]
  },
  {
   "cell_type": "code",
   "execution_count": null,
   "metadata": {},
   "outputs": [],
   "source": [
    "df_aligned.to_csv('Merged_df.csv',index=False)"
   ]
  },
  {
   "cell_type": "code",
   "execution_count": null,
   "metadata": {},
   "outputs": [
    {
     "data": {
      "text/plain": [
       "0"
      ]
     },
     "execution_count": 192,
     "metadata": {},
     "output_type": "execute_result"
    }
   ],
   "source": [
    "df_aligned.duplicated().sum()"
   ]
  },
  {
   "cell_type": "markdown",
   "metadata": {},
   "source": [
    "# Start running the code from here"
   ]
  },
  {
   "cell_type": "markdown",
   "metadata": {},
   "source": [
    "# <u><b><font color='yellow'>Content Based Recommender</font></b></u>\n",
    "The Content Based Recommender offers generalized recommendations to user based on a particular item. This system uses item metadata such as :\n",
    "- Movie Star, Director, Overview, Genre,etc.\n",
    "\n",
    "For movies, to make these recommendation. The general idea behind these recommender systems is that if a person liked a particular item, he or she will also like an item that is similar to it."
   ]
  },
  {
   "cell_type": "markdown",
   "metadata": {},
   "source": [
    "#### Loading Merge Data"
   ]
  },
  {
   "cell_type": "code",
   "execution_count": 2,
   "metadata": {},
   "outputs": [],
   "source": [
    "movies = pd.read_csv('Final_Merged.csv')"
   ]
  },
  {
   "cell_type": "code",
   "execution_count": 3,
   "metadata": {},
   "outputs": [
    {
     "data": {
      "text/html": [
       "<div>\n",
       "<style scoped>\n",
       "    .dataframe tbody tr th:only-of-type {\n",
       "        vertical-align: middle;\n",
       "    }\n",
       "\n",
       "    .dataframe tbody tr th {\n",
       "        vertical-align: top;\n",
       "    }\n",
       "\n",
       "    .dataframe thead th {\n",
       "        text-align: right;\n",
       "    }\n",
       "</style>\n",
       "<table border=\"1\" class=\"dataframe\">\n",
       "  <thead>\n",
       "    <tr style=\"text-align: right;\">\n",
       "      <th></th>\n",
       "      <th>id</th>\n",
       "      <th>MovieName</th>\n",
       "      <th>Genre</th>\n",
       "      <th>Directors</th>\n",
       "      <th>Stars</th>\n",
       "      <th>Overviews</th>\n",
       "      <th>Watch_time</th>\n",
       "      <th>Year_of_Release</th>\n",
       "      <th>Meta_Score</th>\n",
       "      <th>Votes</th>\n",
       "      <th>Gross_Collection(M$)</th>\n",
       "    </tr>\n",
       "  </thead>\n",
       "  <tbody>\n",
       "    <tr>\n",
       "      <th>0</th>\n",
       "      <td>278.0</td>\n",
       "      <td>The Shawshank Redemption</td>\n",
       "      <td>Drama</td>\n",
       "      <td>Frank Darabont</td>\n",
       "      <td>Tim Robbins, Morgan Freeman, Bob Gunton, Willi...</td>\n",
       "      <td>Over the course of several years, two convicts...</td>\n",
       "      <td>142</td>\n",
       "      <td>1994</td>\n",
       "      <td>82</td>\n",
       "      <td>2728085</td>\n",
       "      <td>28.34</td>\n",
       "    </tr>\n",
       "    <tr>\n",
       "      <th>1</th>\n",
       "      <td>238.0</td>\n",
       "      <td>The Godfather</td>\n",
       "      <td>Crime, Drama</td>\n",
       "      <td>Francis Ford Coppola</td>\n",
       "      <td>Marlon Brando, Al Pacino, James Caan, Diane Ke...</td>\n",
       "      <td>Don Vito Corleone, head of a mafia family, dec...</td>\n",
       "      <td>175</td>\n",
       "      <td>1972</td>\n",
       "      <td>100</td>\n",
       "      <td>1896661</td>\n",
       "      <td>134.97</td>\n",
       "    </tr>\n",
       "    <tr>\n",
       "      <th>2</th>\n",
       "      <td>NaN</td>\n",
       "      <td>Ramayana: The Legend of Prince Rama</td>\n",
       "      <td>Animation, Action, Adventure</td>\n",
       "      <td>Ram Mohan</td>\n",
       "      <td>Yûgô Sakô, Koichi Saski, Arun Govil, Nikhil Ka...</td>\n",
       "      <td>An anime adaptation of the Hindu epic the Rama...</td>\n",
       "      <td>87</td>\n",
       "      <td>1975</td>\n",
       "      <td>59</td>\n",
       "      <td>47591</td>\n",
       "      <td>16.94</td>\n",
       "    </tr>\n",
       "    <tr>\n",
       "      <th>3</th>\n",
       "      <td>NaN</td>\n",
       "      <td>Hababam Sinifi</td>\n",
       "      <td>Comedy, Drama</td>\n",
       "      <td>Ertem Egilmez</td>\n",
       "      <td>Kemal Sunal, Münir Özkul, Halit Akçatepe, Tari...</td>\n",
       "      <td>Lazy, uneducated students share a very close b...</td>\n",
       "      <td>152</td>\n",
       "      <td>2008</td>\n",
       "      <td>84</td>\n",
       "      <td>2701057</td>\n",
       "      <td>534.86</td>\n",
       "    </tr>\n",
       "    <tr>\n",
       "      <th>4</th>\n",
       "      <td>155.0</td>\n",
       "      <td>The Dark Knight</td>\n",
       "      <td>Action, Crime, Drama</td>\n",
       "      <td>Christopher Nolan</td>\n",
       "      <td>Christian Bale, Heath Ledger, Aaron Eckhart, M...</td>\n",
       "      <td>When the menace known as the Joker wreaks havo...</td>\n",
       "      <td>195</td>\n",
       "      <td>1993</td>\n",
       "      <td>95</td>\n",
       "      <td>1377562</td>\n",
       "      <td>96.90</td>\n",
       "    </tr>\n",
       "  </tbody>\n",
       "</table>\n",
       "</div>"
      ],
      "text/plain": [
       "      id                            MovieName                         Genre  \\\n",
       "0  278.0             The Shawshank Redemption                         Drama   \n",
       "1  238.0                        The Godfather                  Crime, Drama   \n",
       "2    NaN  Ramayana: The Legend of Prince Rama  Animation, Action, Adventure   \n",
       "3    NaN                       Hababam Sinifi                 Comedy, Drama   \n",
       "4  155.0                      The Dark Knight          Action, Crime, Drama   \n",
       "\n",
       "              Directors                                              Stars  \\\n",
       "0        Frank Darabont  Tim Robbins, Morgan Freeman, Bob Gunton, Willi...   \n",
       "1  Francis Ford Coppola  Marlon Brando, Al Pacino, James Caan, Diane Ke...   \n",
       "2             Ram Mohan  Yûgô Sakô, Koichi Saski, Arun Govil, Nikhil Ka...   \n",
       "3         Ertem Egilmez  Kemal Sunal, Münir Özkul, Halit Akçatepe, Tari...   \n",
       "4     Christopher Nolan  Christian Bale, Heath Ledger, Aaron Eckhart, M...   \n",
       "\n",
       "                                           Overviews  Watch_time  \\\n",
       "0  Over the course of several years, two convicts...         142   \n",
       "1  Don Vito Corleone, head of a mafia family, dec...         175   \n",
       "2  An anime adaptation of the Hindu epic the Rama...          87   \n",
       "3  Lazy, uneducated students share a very close b...         152   \n",
       "4  When the menace known as the Joker wreaks havo...         195   \n",
       "\n",
       "   Year_of_Release  Meta_Score    Votes  Gross_Collection(M$)  \n",
       "0             1994          82  2728085                 28.34  \n",
       "1             1972         100  1896661                134.97  \n",
       "2             1975          59    47591                 16.94  \n",
       "3             2008          84  2701057                534.86  \n",
       "4             1993          95  1377562                 96.90  "
      ]
     },
     "execution_count": 3,
     "metadata": {},
     "output_type": "execute_result"
    }
   ],
   "source": [
    "movies.head()"
   ]
  },
  {
   "cell_type": "code",
   "execution_count": 4,
   "metadata": {},
   "outputs": [
    {
     "data": {
      "text/plain": [
       "0"
      ]
     },
     "execution_count": 4,
     "metadata": {},
     "output_type": "execute_result"
    }
   ],
   "source": [
    "movies.duplicated().sum()"
   ]
  },
  {
   "cell_type": "code",
   "execution_count": 5,
   "metadata": {},
   "outputs": [
    {
     "data": {
      "text/plain": [
       "id                      3659\n",
       "MovieName                  0\n",
       "Genre                      0\n",
       "Directors                  0\n",
       "Stars                      0\n",
       "Overviews                  0\n",
       "Watch_time                 0\n",
       "Year_of_Release            0\n",
       "Meta_Score                 0\n",
       "Votes                      0\n",
       "Gross_Collection(M$)       0\n",
       "dtype: int64"
      ]
     },
     "execution_count": 5,
     "metadata": {},
     "output_type": "execute_result"
    }
   ],
   "source": [
    "movies.isna().sum()"
   ]
  },
  {
   "cell_type": "code",
   "execution_count": 6,
   "metadata": {},
   "outputs": [],
   "source": [
    "random_numbers = [random.choice([537061,537061,475557,678580,615457]) for _ in range(len(movies))]\n",
    "\n",
    "movies['id'] = movies['id'].fillna(pd.Series(random_numbers, index=movies.index))\n",
    "\n",
    "movies['id'] = movies['id'].astype(int)\n"
   ]
  },
  {
   "cell_type": "code",
   "execution_count": 7,
   "metadata": {},
   "outputs": [
    {
     "data": {
      "text/plain": [
       "'Over the course of several years, two convicts form a friendship, seeking consolation and, eventually, redemption through basic compassion.'"
      ]
     },
     "execution_count": 7,
     "metadata": {},
     "output_type": "execute_result"
    }
   ],
   "source": [
    "movies.iloc[0]['Overviews']"
   ]
  },
  {
   "cell_type": "code",
   "execution_count": 8,
   "metadata": {},
   "outputs": [],
   "source": [
    "#Tim Robbins\n",
    "\n",
    "#TimRobbins\n",
    "\n",
    "def remove_spaces(text):\n",
    "    return text.replace(\" \", \"\")\n",
    "\n",
    "movies['Stars'] = movies['Stars'].apply(remove_spaces)"
   ]
  },
  {
   "cell_type": "markdown",
   "metadata": {},
   "source": [
    "#### We're converting every columns to list so we concatenate them into one column known as **tags**."
   ]
  },
  {
   "cell_type": "code",
   "execution_count": 9,
   "metadata": {},
   "outputs": [
    {
     "data": {
      "text/html": [
       "<div>\n",
       "<style scoped>\n",
       "    .dataframe tbody tr th:only-of-type {\n",
       "        vertical-align: middle;\n",
       "    }\n",
       "\n",
       "    .dataframe tbody tr th {\n",
       "        vertical-align: top;\n",
       "    }\n",
       "\n",
       "    .dataframe thead th {\n",
       "        text-align: right;\n",
       "    }\n",
       "</style>\n",
       "<table border=\"1\" class=\"dataframe\">\n",
       "  <thead>\n",
       "    <tr style=\"text-align: right;\">\n",
       "      <th></th>\n",
       "      <th>id</th>\n",
       "      <th>MovieName</th>\n",
       "      <th>Genre</th>\n",
       "      <th>Directors</th>\n",
       "      <th>Stars</th>\n",
       "      <th>Overviews</th>\n",
       "      <th>Watch_time</th>\n",
       "      <th>Year_of_Release</th>\n",
       "      <th>Meta_Score</th>\n",
       "      <th>Votes</th>\n",
       "      <th>Gross_Collection(M$)</th>\n",
       "    </tr>\n",
       "  </thead>\n",
       "  <tbody>\n",
       "    <tr>\n",
       "      <th>0</th>\n",
       "      <td>278</td>\n",
       "      <td>The Shawshank Redemption</td>\n",
       "      <td>Drama</td>\n",
       "      <td>Frank Darabont</td>\n",
       "      <td>TimRobbins,MorganFreeman,BobGunton,WilliamSadler</td>\n",
       "      <td>Over the course of several years, two convicts...</td>\n",
       "      <td>142</td>\n",
       "      <td>1994</td>\n",
       "      <td>82</td>\n",
       "      <td>2728085</td>\n",
       "      <td>28.34</td>\n",
       "    </tr>\n",
       "    <tr>\n",
       "      <th>1</th>\n",
       "      <td>238</td>\n",
       "      <td>The Godfather</td>\n",
       "      <td>Crime, Drama</td>\n",
       "      <td>Francis Ford Coppola</td>\n",
       "      <td>MarlonBrando,AlPacino,JamesCaan,DianeKeaton</td>\n",
       "      <td>Don Vito Corleone, head of a mafia family, dec...</td>\n",
       "      <td>175</td>\n",
       "      <td>1972</td>\n",
       "      <td>100</td>\n",
       "      <td>1896661</td>\n",
       "      <td>134.97</td>\n",
       "    </tr>\n",
       "    <tr>\n",
       "      <th>2</th>\n",
       "      <td>537061</td>\n",
       "      <td>Ramayana: The Legend of Prince Rama</td>\n",
       "      <td>Animation, Action, Adventure</td>\n",
       "      <td>Ram Mohan</td>\n",
       "      <td>YûgôSakô,KoichiSaski,ArunGovil,NikhilKapoor,Ed...</td>\n",
       "      <td>An anime adaptation of the Hindu epic the Rama...</td>\n",
       "      <td>87</td>\n",
       "      <td>1975</td>\n",
       "      <td>59</td>\n",
       "      <td>47591</td>\n",
       "      <td>16.94</td>\n",
       "    </tr>\n",
       "    <tr>\n",
       "      <th>3</th>\n",
       "      <td>537061</td>\n",
       "      <td>Hababam Sinifi</td>\n",
       "      <td>Comedy, Drama</td>\n",
       "      <td>Ertem Egilmez</td>\n",
       "      <td>KemalSunal,MünirÖzkul,HalitAkçatepe,TarikAkan</td>\n",
       "      <td>Lazy, uneducated students share a very close b...</td>\n",
       "      <td>152</td>\n",
       "      <td>2008</td>\n",
       "      <td>84</td>\n",
       "      <td>2701057</td>\n",
       "      <td>534.86</td>\n",
       "    </tr>\n",
       "    <tr>\n",
       "      <th>4</th>\n",
       "      <td>155</td>\n",
       "      <td>The Dark Knight</td>\n",
       "      <td>Action, Crime, Drama</td>\n",
       "      <td>Christopher Nolan</td>\n",
       "      <td>ChristianBale,HeathLedger,AaronEckhart,Michael...</td>\n",
       "      <td>When the menace known as the Joker wreaks havo...</td>\n",
       "      <td>195</td>\n",
       "      <td>1993</td>\n",
       "      <td>95</td>\n",
       "      <td>1377562</td>\n",
       "      <td>96.9</td>\n",
       "    </tr>\n",
       "    <tr>\n",
       "      <th>...</th>\n",
       "      <td>...</td>\n",
       "      <td>...</td>\n",
       "      <td>...</td>\n",
       "      <td>...</td>\n",
       "      <td>...</td>\n",
       "      <td>...</td>\n",
       "      <td>...</td>\n",
       "      <td>...</td>\n",
       "      <td>...</td>\n",
       "      <td>...</td>\n",
       "      <td>...</td>\n",
       "    </tr>\n",
       "    <tr>\n",
       "      <th>9492</th>\n",
       "      <td>676547</td>\n",
       "      <td>Visions</td>\n",
       "      <td>Horror, Mystery</td>\n",
       "      <td>Kevin Greutert</td>\n",
       "      <td>IslaFisher,AnsonMount,GillianJacobs,JoannaCassidy</td>\n",
       "      <td>After moving to a vineyard to start a new life...</td>\n",
       "      <td>88</td>\n",
       "      <td>2021</td>\n",
       "      <td>32</td>\n",
       "      <td>47591</td>\n",
       "      <td>16.94</td>\n",
       "    </tr>\n",
       "    <tr>\n",
       "      <th>9493</th>\n",
       "      <td>340102</td>\n",
       "      <td>Housefull 2</td>\n",
       "      <td>Action, Comedy, Drama</td>\n",
       "      <td>Sajid Khan</td>\n",
       "      <td>AkshayKumar,JohnAbraham,AsinThottumkal,Jacquel...</td>\n",
       "      <td>A comedy of errors wherein four men help each ...</td>\n",
       "      <td>88</td>\n",
       "      <td>2021</td>\n",
       "      <td>32</td>\n",
       "      <td>47591</td>\n",
       "      <td>16.94</td>\n",
       "    </tr>\n",
       "    <tr>\n",
       "      <th>9494</th>\n",
       "      <td>537061</td>\n",
       "      <td>Celtic Pride</td>\n",
       "      <td>Comedy, Sport</td>\n",
       "      <td>Tom DeCerchio</td>\n",
       "      <td>DamonWayans,DanielStern,DanAykroyd,GailO'Grady</td>\n",
       "      <td>Two over-loyal Celtic fans kidnap their oppone...</td>\n",
       "      <td>111</td>\n",
       "      <td>2020</td>\n",
       "      <td>31</td>\n",
       "      <td>47591</td>\n",
       "      <td>16.94</td>\n",
       "    </tr>\n",
       "    <tr>\n",
       "      <th>9495</th>\n",
       "      <td>537061</td>\n",
       "      <td>Wrecked</td>\n",
       "      <td>Adventure, Drama, Mystery</td>\n",
       "      <td>Michael Greenspan</td>\n",
       "      <td>AdrienBrody,CarolineDhavernas,RyanRobbins,Adri...</td>\n",
       "      <td>A man wakes in a car wreck at the bottom of a ...</td>\n",
       "      <td>115</td>\n",
       "      <td>2022</td>\n",
       "      <td>53</td>\n",
       "      <td>47591</td>\n",
       "      <td>16.94</td>\n",
       "    </tr>\n",
       "    <tr>\n",
       "      <th>9496</th>\n",
       "      <td>615457</td>\n",
       "      <td>Krrish 3</td>\n",
       "      <td>Action, Adventure, Sci-Fi</td>\n",
       "      <td>Rakesh Roshan</td>\n",
       "      <td>HrithikRoshan,VivekOberoi,PriyankaChopraJonas,...</td>\n",
       "      <td>Krrish and his scientist father must save the ...</td>\n",
       "      <td>117</td>\n",
       "      <td>2023</td>\n",
       "      <td>50</td>\n",
       "      <td>47591</td>\n",
       "      <td>16.94</td>\n",
       "    </tr>\n",
       "  </tbody>\n",
       "</table>\n",
       "<p>9497 rows × 11 columns</p>\n",
       "</div>"
      ],
      "text/plain": [
       "          id                            MovieName  \\\n",
       "0        278             The Shawshank Redemption   \n",
       "1        238                        The Godfather   \n",
       "2     537061  Ramayana: The Legend of Prince Rama   \n",
       "3     537061                       Hababam Sinifi   \n",
       "4        155                      The Dark Knight   \n",
       "...      ...                                  ...   \n",
       "9492  676547                              Visions   \n",
       "9493  340102                          Housefull 2   \n",
       "9494  537061                         Celtic Pride   \n",
       "9495  537061                              Wrecked   \n",
       "9496  615457                             Krrish 3   \n",
       "\n",
       "                             Genre             Directors  \\\n",
       "0                            Drama        Frank Darabont   \n",
       "1                     Crime, Drama  Francis Ford Coppola   \n",
       "2     Animation, Action, Adventure             Ram Mohan   \n",
       "3                    Comedy, Drama         Ertem Egilmez   \n",
       "4             Action, Crime, Drama     Christopher Nolan   \n",
       "...                            ...                   ...   \n",
       "9492               Horror, Mystery        Kevin Greutert   \n",
       "9493         Action, Comedy, Drama            Sajid Khan   \n",
       "9494                 Comedy, Sport         Tom DeCerchio   \n",
       "9495     Adventure, Drama, Mystery     Michael Greenspan   \n",
       "9496     Action, Adventure, Sci-Fi         Rakesh Roshan   \n",
       "\n",
       "                                                  Stars  \\\n",
       "0      TimRobbins,MorganFreeman,BobGunton,WilliamSadler   \n",
       "1           MarlonBrando,AlPacino,JamesCaan,DianeKeaton   \n",
       "2     YûgôSakô,KoichiSaski,ArunGovil,NikhilKapoor,Ed...   \n",
       "3         KemalSunal,MünirÖzkul,HalitAkçatepe,TarikAkan   \n",
       "4     ChristianBale,HeathLedger,AaronEckhart,Michael...   \n",
       "...                                                 ...   \n",
       "9492  IslaFisher,AnsonMount,GillianJacobs,JoannaCassidy   \n",
       "9493  AkshayKumar,JohnAbraham,AsinThottumkal,Jacquel...   \n",
       "9494     DamonWayans,DanielStern,DanAykroyd,GailO'Grady   \n",
       "9495  AdrienBrody,CarolineDhavernas,RyanRobbins,Adri...   \n",
       "9496  HrithikRoshan,VivekOberoi,PriyankaChopraJonas,...   \n",
       "\n",
       "                                              Overviews Watch_time  \\\n",
       "0     Over the course of several years, two convicts...        142   \n",
       "1     Don Vito Corleone, head of a mafia family, dec...        175   \n",
       "2     An anime adaptation of the Hindu epic the Rama...         87   \n",
       "3     Lazy, uneducated students share a very close b...        152   \n",
       "4     When the menace known as the Joker wreaks havo...        195   \n",
       "...                                                 ...        ...   \n",
       "9492  After moving to a vineyard to start a new life...         88   \n",
       "9493  A comedy of errors wherein four men help each ...         88   \n",
       "9494  Two over-loyal Celtic fans kidnap their oppone...        111   \n",
       "9495  A man wakes in a car wreck at the bottom of a ...        115   \n",
       "9496  Krrish and his scientist father must save the ...        117   \n",
       "\n",
       "     Year_of_Release Meta_Score    Votes Gross_Collection(M$)  \n",
       "0               1994         82  2728085                28.34  \n",
       "1               1972        100  1896661               134.97  \n",
       "2               1975         59    47591                16.94  \n",
       "3               2008         84  2701057               534.86  \n",
       "4               1993         95  1377562                 96.9  \n",
       "...              ...        ...      ...                  ...  \n",
       "9492            2021         32    47591                16.94  \n",
       "9493            2021         32    47591                16.94  \n",
       "9494            2020         31    47591                16.94  \n",
       "9495            2022         53    47591                16.94  \n",
       "9496            2023         50    47591                16.94  \n",
       "\n",
       "[9497 rows x 11 columns]"
      ]
     },
     "execution_count": 9,
     "metadata": {},
     "output_type": "execute_result"
    }
   ],
   "source": [
    "def convert_int_columns_to_string(movies, column_names):\n",
    "    for column in column_names:\n",
    "        movies[column] = movies[column].apply(lambda x: str(x))\n",
    "    return movies\n",
    "columns_to_convert = ['Watch_time','Year_of_Release','Meta_Score','Votes','Gross_Collection(M$)']\n",
    "convert_int_columns_to_string(movies, columns_to_convert)\n"
   ]
  },
  {
   "cell_type": "code",
   "execution_count": 10,
   "metadata": {},
   "outputs": [
    {
     "data": {
      "text/html": [
       "<div>\n",
       "<style scoped>\n",
       "    .dataframe tbody tr th:only-of-type {\n",
       "        vertical-align: middle;\n",
       "    }\n",
       "\n",
       "    .dataframe tbody tr th {\n",
       "        vertical-align: top;\n",
       "    }\n",
       "\n",
       "    .dataframe thead th {\n",
       "        text-align: right;\n",
       "    }\n",
       "</style>\n",
       "<table border=\"1\" class=\"dataframe\">\n",
       "  <thead>\n",
       "    <tr style=\"text-align: right;\">\n",
       "      <th></th>\n",
       "      <th>id</th>\n",
       "      <th>MovieName</th>\n",
       "      <th>Genre</th>\n",
       "      <th>Directors</th>\n",
       "      <th>Stars</th>\n",
       "      <th>Overviews</th>\n",
       "      <th>Watch_time</th>\n",
       "      <th>Year_of_Release</th>\n",
       "      <th>Meta_Score</th>\n",
       "      <th>Votes</th>\n",
       "      <th>Gross_Collection(M$)</th>\n",
       "    </tr>\n",
       "  </thead>\n",
       "  <tbody>\n",
       "    <tr>\n",
       "      <th>0</th>\n",
       "      <td>278</td>\n",
       "      <td>The Shawshank Redemption</td>\n",
       "      <td>[Drama]</td>\n",
       "      <td>[Frank Darabont]</td>\n",
       "      <td>[TimRobbins, MorganFreeman, BobGunton, William...</td>\n",
       "      <td>[Over the course of several years,  two convic...</td>\n",
       "      <td>[142]</td>\n",
       "      <td>[1994]</td>\n",
       "      <td>[82]</td>\n",
       "      <td>[2728085]</td>\n",
       "      <td>[28.34]</td>\n",
       "    </tr>\n",
       "    <tr>\n",
       "      <th>1</th>\n",
       "      <td>238</td>\n",
       "      <td>The Godfather</td>\n",
       "      <td>[Crime,  Drama]</td>\n",
       "      <td>[Francis Ford Coppola]</td>\n",
       "      <td>[MarlonBrando, AlPacino, JamesCaan, DianeKeaton]</td>\n",
       "      <td>[Don Vito Corleone,  head of a mafia family,  ...</td>\n",
       "      <td>[175]</td>\n",
       "      <td>[1972]</td>\n",
       "      <td>[100]</td>\n",
       "      <td>[1896661]</td>\n",
       "      <td>[134.97]</td>\n",
       "    </tr>\n",
       "    <tr>\n",
       "      <th>2</th>\n",
       "      <td>537061</td>\n",
       "      <td>Ramayana: The Legend of Prince Rama</td>\n",
       "      <td>[Animation,  Action,  Adventure]</td>\n",
       "      <td>[Ram Mohan]</td>\n",
       "      <td>[YûgôSakô, KoichiSaski, ArunGovil, NikhilKapoo...</td>\n",
       "      <td>[An anime adaptation of the Hindu epic the Ram...</td>\n",
       "      <td>[87]</td>\n",
       "      <td>[1975]</td>\n",
       "      <td>[59]</td>\n",
       "      <td>[47591]</td>\n",
       "      <td>[16.94]</td>\n",
       "    </tr>\n",
       "    <tr>\n",
       "      <th>3</th>\n",
       "      <td>537061</td>\n",
       "      <td>Hababam Sinifi</td>\n",
       "      <td>[Comedy,  Drama]</td>\n",
       "      <td>[Ertem Egilmez]</td>\n",
       "      <td>[KemalSunal, MünirÖzkul, HalitAkçatepe, TarikA...</td>\n",
       "      <td>[Lazy,  uneducated students share a very close...</td>\n",
       "      <td>[152]</td>\n",
       "      <td>[2008]</td>\n",
       "      <td>[84]</td>\n",
       "      <td>[2701057]</td>\n",
       "      <td>[534.86]</td>\n",
       "    </tr>\n",
       "    <tr>\n",
       "      <th>4</th>\n",
       "      <td>155</td>\n",
       "      <td>The Dark Knight</td>\n",
       "      <td>[Action,  Crime,  Drama]</td>\n",
       "      <td>[Christopher Nolan]</td>\n",
       "      <td>[ChristianBale, HeathLedger, AaronEckhart, Mic...</td>\n",
       "      <td>[When the menace known as the Joker wreaks hav...</td>\n",
       "      <td>[195]</td>\n",
       "      <td>[1993]</td>\n",
       "      <td>[95]</td>\n",
       "      <td>[1377562]</td>\n",
       "      <td>[96.9]</td>\n",
       "    </tr>\n",
       "    <tr>\n",
       "      <th>...</th>\n",
       "      <td>...</td>\n",
       "      <td>...</td>\n",
       "      <td>...</td>\n",
       "      <td>...</td>\n",
       "      <td>...</td>\n",
       "      <td>...</td>\n",
       "      <td>...</td>\n",
       "      <td>...</td>\n",
       "      <td>...</td>\n",
       "      <td>...</td>\n",
       "      <td>...</td>\n",
       "    </tr>\n",
       "    <tr>\n",
       "      <th>9492</th>\n",
       "      <td>676547</td>\n",
       "      <td>Visions</td>\n",
       "      <td>[Horror,  Mystery]</td>\n",
       "      <td>[Kevin Greutert]</td>\n",
       "      <td>[IslaFisher, AnsonMount, GillianJacobs, Joanna...</td>\n",
       "      <td>[After moving to a vineyard to start a new lif...</td>\n",
       "      <td>[88]</td>\n",
       "      <td>[2021]</td>\n",
       "      <td>[32]</td>\n",
       "      <td>[47591]</td>\n",
       "      <td>[16.94]</td>\n",
       "    </tr>\n",
       "    <tr>\n",
       "      <th>9493</th>\n",
       "      <td>340102</td>\n",
       "      <td>Housefull 2</td>\n",
       "      <td>[Action,  Comedy,  Drama]</td>\n",
       "      <td>[Sajid Khan]</td>\n",
       "      <td>[AkshayKumar, JohnAbraham, AsinThottumkal, Jac...</td>\n",
       "      <td>[A comedy of errors wherein four men help each...</td>\n",
       "      <td>[88]</td>\n",
       "      <td>[2021]</td>\n",
       "      <td>[32]</td>\n",
       "      <td>[47591]</td>\n",
       "      <td>[16.94]</td>\n",
       "    </tr>\n",
       "    <tr>\n",
       "      <th>9494</th>\n",
       "      <td>537061</td>\n",
       "      <td>Celtic Pride</td>\n",
       "      <td>[Comedy,  Sport]</td>\n",
       "      <td>[Tom DeCerchio]</td>\n",
       "      <td>[DamonWayans, DanielStern, DanAykroyd, GailO'G...</td>\n",
       "      <td>[Two over-loyal Celtic fans kidnap their oppon...</td>\n",
       "      <td>[111]</td>\n",
       "      <td>[2020]</td>\n",
       "      <td>[31]</td>\n",
       "      <td>[47591]</td>\n",
       "      <td>[16.94]</td>\n",
       "    </tr>\n",
       "    <tr>\n",
       "      <th>9495</th>\n",
       "      <td>537061</td>\n",
       "      <td>Wrecked</td>\n",
       "      <td>[Adventure,  Drama,  Mystery]</td>\n",
       "      <td>[Michael Greenspan]</td>\n",
       "      <td>[AdrienBrody, CarolineDhavernas, RyanRobbins, ...</td>\n",
       "      <td>[A man wakes in a car wreck at the bottom of a...</td>\n",
       "      <td>[115]</td>\n",
       "      <td>[2022]</td>\n",
       "      <td>[53]</td>\n",
       "      <td>[47591]</td>\n",
       "      <td>[16.94]</td>\n",
       "    </tr>\n",
       "    <tr>\n",
       "      <th>9496</th>\n",
       "      <td>615457</td>\n",
       "      <td>Krrish 3</td>\n",
       "      <td>[Action,  Adventure,  Sci-Fi]</td>\n",
       "      <td>[Rakesh Roshan]</td>\n",
       "      <td>[HrithikRoshan, VivekOberoi, PriyankaChopraJon...</td>\n",
       "      <td>[Krrish and his scientist father must save the...</td>\n",
       "      <td>[117]</td>\n",
       "      <td>[2023]</td>\n",
       "      <td>[50]</td>\n",
       "      <td>[47591]</td>\n",
       "      <td>[16.94]</td>\n",
       "    </tr>\n",
       "  </tbody>\n",
       "</table>\n",
       "<p>9497 rows × 11 columns</p>\n",
       "</div>"
      ],
      "text/plain": [
       "          id                            MovieName  \\\n",
       "0        278             The Shawshank Redemption   \n",
       "1        238                        The Godfather   \n",
       "2     537061  Ramayana: The Legend of Prince Rama   \n",
       "3     537061                       Hababam Sinifi   \n",
       "4        155                      The Dark Knight   \n",
       "...      ...                                  ...   \n",
       "9492  676547                              Visions   \n",
       "9493  340102                          Housefull 2   \n",
       "9494  537061                         Celtic Pride   \n",
       "9495  537061                              Wrecked   \n",
       "9496  615457                             Krrish 3   \n",
       "\n",
       "                                 Genre               Directors  \\\n",
       "0                              [Drama]        [Frank Darabont]   \n",
       "1                      [Crime,  Drama]  [Francis Ford Coppola]   \n",
       "2     [Animation,  Action,  Adventure]             [Ram Mohan]   \n",
       "3                     [Comedy,  Drama]         [Ertem Egilmez]   \n",
       "4             [Action,  Crime,  Drama]     [Christopher Nolan]   \n",
       "...                                ...                     ...   \n",
       "9492                [Horror,  Mystery]        [Kevin Greutert]   \n",
       "9493         [Action,  Comedy,  Drama]            [Sajid Khan]   \n",
       "9494                  [Comedy,  Sport]         [Tom DeCerchio]   \n",
       "9495     [Adventure,  Drama,  Mystery]     [Michael Greenspan]   \n",
       "9496     [Action,  Adventure,  Sci-Fi]         [Rakesh Roshan]   \n",
       "\n",
       "                                                  Stars  \\\n",
       "0     [TimRobbins, MorganFreeman, BobGunton, William...   \n",
       "1      [MarlonBrando, AlPacino, JamesCaan, DianeKeaton]   \n",
       "2     [YûgôSakô, KoichiSaski, ArunGovil, NikhilKapoo...   \n",
       "3     [KemalSunal, MünirÖzkul, HalitAkçatepe, TarikA...   \n",
       "4     [ChristianBale, HeathLedger, AaronEckhart, Mic...   \n",
       "...                                                 ...   \n",
       "9492  [IslaFisher, AnsonMount, GillianJacobs, Joanna...   \n",
       "9493  [AkshayKumar, JohnAbraham, AsinThottumkal, Jac...   \n",
       "9494  [DamonWayans, DanielStern, DanAykroyd, GailO'G...   \n",
       "9495  [AdrienBrody, CarolineDhavernas, RyanRobbins, ...   \n",
       "9496  [HrithikRoshan, VivekOberoi, PriyankaChopraJon...   \n",
       "\n",
       "                                              Overviews Watch_time  \\\n",
       "0     [Over the course of several years,  two convic...      [142]   \n",
       "1     [Don Vito Corleone,  head of a mafia family,  ...      [175]   \n",
       "2     [An anime adaptation of the Hindu epic the Ram...       [87]   \n",
       "3     [Lazy,  uneducated students share a very close...      [152]   \n",
       "4     [When the menace known as the Joker wreaks hav...      [195]   \n",
       "...                                                 ...        ...   \n",
       "9492  [After moving to a vineyard to start a new lif...       [88]   \n",
       "9493  [A comedy of errors wherein four men help each...       [88]   \n",
       "9494  [Two over-loyal Celtic fans kidnap their oppon...      [111]   \n",
       "9495  [A man wakes in a car wreck at the bottom of a...      [115]   \n",
       "9496  [Krrish and his scientist father must save the...      [117]   \n",
       "\n",
       "     Year_of_Release Meta_Score      Votes Gross_Collection(M$)  \n",
       "0             [1994]       [82]  [2728085]              [28.34]  \n",
       "1             [1972]      [100]  [1896661]             [134.97]  \n",
       "2             [1975]       [59]    [47591]              [16.94]  \n",
       "3             [2008]       [84]  [2701057]             [534.86]  \n",
       "4             [1993]       [95]  [1377562]               [96.9]  \n",
       "...              ...        ...        ...                  ...  \n",
       "9492          [2021]       [32]    [47591]              [16.94]  \n",
       "9493          [2021]       [32]    [47591]              [16.94]  \n",
       "9494          [2020]       [31]    [47591]              [16.94]  \n",
       "9495          [2022]       [53]    [47591]              [16.94]  \n",
       "9496          [2023]       [50]    [47591]              [16.94]  \n",
       "\n",
       "[9497 rows x 11 columns]"
      ]
     },
     "execution_count": 10,
     "metadata": {},
     "output_type": "execute_result"
    }
   ],
   "source": [
    "def convert_string_columns_to_list(movies, column_names):\n",
    "    for column in column_names:\n",
    "        movies[column] = movies[column].apply(lambda x: x.split(','))\n",
    "    return movies\n",
    "\n",
    "columns_to_convert = ['Genre', 'Directors','Stars','Watch_time','Year_of_Release','Meta_Score','Votes','Gross_Collection(M$)','Overviews']\n",
    "convert_string_columns_to_list(movies, columns_to_convert)"
   ]
  },
  {
   "cell_type": "code",
   "execution_count": 11,
   "metadata": {},
   "outputs": [],
   "source": [
    "movies['tags'] =movies['Overviews'] + movies['Directors'] + movies['Genre']+ movies['Stars'] + movies['Watch_time']+ movies['Year_of_Release']+ movies['Meta_Score']+ movies['Votes']+movies['Gross_Collection(M$)']"
   ]
  },
  {
   "cell_type": "code",
   "execution_count": 12,
   "metadata": {},
   "outputs": [
    {
     "data": {
      "text/html": [
       "<div>\n",
       "<style scoped>\n",
       "    .dataframe tbody tr th:only-of-type {\n",
       "        vertical-align: middle;\n",
       "    }\n",
       "\n",
       "    .dataframe tbody tr th {\n",
       "        vertical-align: top;\n",
       "    }\n",
       "\n",
       "    .dataframe thead th {\n",
       "        text-align: right;\n",
       "    }\n",
       "</style>\n",
       "<table border=\"1\" class=\"dataframe\">\n",
       "  <thead>\n",
       "    <tr style=\"text-align: right;\">\n",
       "      <th></th>\n",
       "      <th>id</th>\n",
       "      <th>MovieName</th>\n",
       "      <th>Genre</th>\n",
       "      <th>Directors</th>\n",
       "      <th>Stars</th>\n",
       "      <th>Overviews</th>\n",
       "      <th>Watch_time</th>\n",
       "      <th>Year_of_Release</th>\n",
       "      <th>Meta_Score</th>\n",
       "      <th>Votes</th>\n",
       "      <th>Gross_Collection(M$)</th>\n",
       "      <th>tags</th>\n",
       "    </tr>\n",
       "  </thead>\n",
       "  <tbody>\n",
       "    <tr>\n",
       "      <th>0</th>\n",
       "      <td>278</td>\n",
       "      <td>The Shawshank Redemption</td>\n",
       "      <td>[Drama]</td>\n",
       "      <td>[Frank Darabont]</td>\n",
       "      <td>[TimRobbins, MorganFreeman, BobGunton, William...</td>\n",
       "      <td>[Over the course of several years,  two convic...</td>\n",
       "      <td>[142]</td>\n",
       "      <td>[1994]</td>\n",
       "      <td>[82]</td>\n",
       "      <td>[2728085]</td>\n",
       "      <td>[28.34]</td>\n",
       "      <td>[Over the course of several years,  two convic...</td>\n",
       "    </tr>\n",
       "    <tr>\n",
       "      <th>1</th>\n",
       "      <td>238</td>\n",
       "      <td>The Godfather</td>\n",
       "      <td>[Crime,  Drama]</td>\n",
       "      <td>[Francis Ford Coppola]</td>\n",
       "      <td>[MarlonBrando, AlPacino, JamesCaan, DianeKeaton]</td>\n",
       "      <td>[Don Vito Corleone,  head of a mafia family,  ...</td>\n",
       "      <td>[175]</td>\n",
       "      <td>[1972]</td>\n",
       "      <td>[100]</td>\n",
       "      <td>[1896661]</td>\n",
       "      <td>[134.97]</td>\n",
       "      <td>[Don Vito Corleone,  head of a mafia family,  ...</td>\n",
       "    </tr>\n",
       "    <tr>\n",
       "      <th>2</th>\n",
       "      <td>537061</td>\n",
       "      <td>Ramayana: The Legend of Prince Rama</td>\n",
       "      <td>[Animation,  Action,  Adventure]</td>\n",
       "      <td>[Ram Mohan]</td>\n",
       "      <td>[YûgôSakô, KoichiSaski, ArunGovil, NikhilKapoo...</td>\n",
       "      <td>[An anime adaptation of the Hindu epic the Ram...</td>\n",
       "      <td>[87]</td>\n",
       "      <td>[1975]</td>\n",
       "      <td>[59]</td>\n",
       "      <td>[47591]</td>\n",
       "      <td>[16.94]</td>\n",
       "      <td>[An anime adaptation of the Hindu epic the Ram...</td>\n",
       "    </tr>\n",
       "    <tr>\n",
       "      <th>3</th>\n",
       "      <td>537061</td>\n",
       "      <td>Hababam Sinifi</td>\n",
       "      <td>[Comedy,  Drama]</td>\n",
       "      <td>[Ertem Egilmez]</td>\n",
       "      <td>[KemalSunal, MünirÖzkul, HalitAkçatepe, TarikA...</td>\n",
       "      <td>[Lazy,  uneducated students share a very close...</td>\n",
       "      <td>[152]</td>\n",
       "      <td>[2008]</td>\n",
       "      <td>[84]</td>\n",
       "      <td>[2701057]</td>\n",
       "      <td>[534.86]</td>\n",
       "      <td>[Lazy,  uneducated students share a very close...</td>\n",
       "    </tr>\n",
       "    <tr>\n",
       "      <th>4</th>\n",
       "      <td>155</td>\n",
       "      <td>The Dark Knight</td>\n",
       "      <td>[Action,  Crime,  Drama]</td>\n",
       "      <td>[Christopher Nolan]</td>\n",
       "      <td>[ChristianBale, HeathLedger, AaronEckhart, Mic...</td>\n",
       "      <td>[When the menace known as the Joker wreaks hav...</td>\n",
       "      <td>[195]</td>\n",
       "      <td>[1993]</td>\n",
       "      <td>[95]</td>\n",
       "      <td>[1377562]</td>\n",
       "      <td>[96.9]</td>\n",
       "      <td>[When the menace known as the Joker wreaks hav...</td>\n",
       "    </tr>\n",
       "  </tbody>\n",
       "</table>\n",
       "</div>"
      ],
      "text/plain": [
       "       id                            MovieName  \\\n",
       "0     278             The Shawshank Redemption   \n",
       "1     238                        The Godfather   \n",
       "2  537061  Ramayana: The Legend of Prince Rama   \n",
       "3  537061                       Hababam Sinifi   \n",
       "4     155                      The Dark Knight   \n",
       "\n",
       "                              Genre               Directors  \\\n",
       "0                           [Drama]        [Frank Darabont]   \n",
       "1                   [Crime,  Drama]  [Francis Ford Coppola]   \n",
       "2  [Animation,  Action,  Adventure]             [Ram Mohan]   \n",
       "3                  [Comedy,  Drama]         [Ertem Egilmez]   \n",
       "4          [Action,  Crime,  Drama]     [Christopher Nolan]   \n",
       "\n",
       "                                               Stars  \\\n",
       "0  [TimRobbins, MorganFreeman, BobGunton, William...   \n",
       "1   [MarlonBrando, AlPacino, JamesCaan, DianeKeaton]   \n",
       "2  [YûgôSakô, KoichiSaski, ArunGovil, NikhilKapoo...   \n",
       "3  [KemalSunal, MünirÖzkul, HalitAkçatepe, TarikA...   \n",
       "4  [ChristianBale, HeathLedger, AaronEckhart, Mic...   \n",
       "\n",
       "                                           Overviews Watch_time  \\\n",
       "0  [Over the course of several years,  two convic...      [142]   \n",
       "1  [Don Vito Corleone,  head of a mafia family,  ...      [175]   \n",
       "2  [An anime adaptation of the Hindu epic the Ram...       [87]   \n",
       "3  [Lazy,  uneducated students share a very close...      [152]   \n",
       "4  [When the menace known as the Joker wreaks hav...      [195]   \n",
       "\n",
       "  Year_of_Release Meta_Score      Votes Gross_Collection(M$)  \\\n",
       "0          [1994]       [82]  [2728085]              [28.34]   \n",
       "1          [1972]      [100]  [1896661]             [134.97]   \n",
       "2          [1975]       [59]    [47591]              [16.94]   \n",
       "3          [2008]       [84]  [2701057]             [534.86]   \n",
       "4          [1993]       [95]  [1377562]               [96.9]   \n",
       "\n",
       "                                                tags  \n",
       "0  [Over the course of several years,  two convic...  \n",
       "1  [Don Vito Corleone,  head of a mafia family,  ...  \n",
       "2  [An anime adaptation of the Hindu epic the Ram...  \n",
       "3  [Lazy,  uneducated students share a very close...  \n",
       "4  [When the menace known as the Joker wreaks hav...  "
      ]
     },
     "execution_count": 12,
     "metadata": {},
     "output_type": "execute_result"
    }
   ],
   "source": [
    "movies.head()"
   ]
  },
  {
   "cell_type": "code",
   "execution_count": 13,
   "metadata": {},
   "outputs": [],
   "source": [
    "new_df = movies[['id','MovieName','tags']]"
   ]
  },
  {
   "cell_type": "code",
   "execution_count": 14,
   "metadata": {
    "scrolled": true
   },
   "outputs": [
    {
     "data": {
      "text/html": [
       "<div>\n",
       "<style scoped>\n",
       "    .dataframe tbody tr th:only-of-type {\n",
       "        vertical-align: middle;\n",
       "    }\n",
       "\n",
       "    .dataframe tbody tr th {\n",
       "        vertical-align: top;\n",
       "    }\n",
       "\n",
       "    .dataframe thead th {\n",
       "        text-align: right;\n",
       "    }\n",
       "</style>\n",
       "<table border=\"1\" class=\"dataframe\">\n",
       "  <thead>\n",
       "    <tr style=\"text-align: right;\">\n",
       "      <th></th>\n",
       "      <th>id</th>\n",
       "      <th>MovieName</th>\n",
       "      <th>tags</th>\n",
       "    </tr>\n",
       "  </thead>\n",
       "  <tbody>\n",
       "    <tr>\n",
       "      <th>0</th>\n",
       "      <td>278</td>\n",
       "      <td>The Shawshank Redemption</td>\n",
       "      <td>[Over the course of several years,  two convic...</td>\n",
       "    </tr>\n",
       "    <tr>\n",
       "      <th>1</th>\n",
       "      <td>238</td>\n",
       "      <td>The Godfather</td>\n",
       "      <td>[Don Vito Corleone,  head of a mafia family,  ...</td>\n",
       "    </tr>\n",
       "    <tr>\n",
       "      <th>2</th>\n",
       "      <td>537061</td>\n",
       "      <td>Ramayana: The Legend of Prince Rama</td>\n",
       "      <td>[An anime adaptation of the Hindu epic the Ram...</td>\n",
       "    </tr>\n",
       "    <tr>\n",
       "      <th>3</th>\n",
       "      <td>537061</td>\n",
       "      <td>Hababam Sinifi</td>\n",
       "      <td>[Lazy,  uneducated students share a very close...</td>\n",
       "    </tr>\n",
       "    <tr>\n",
       "      <th>4</th>\n",
       "      <td>155</td>\n",
       "      <td>The Dark Knight</td>\n",
       "      <td>[When the menace known as the Joker wreaks hav...</td>\n",
       "    </tr>\n",
       "  </tbody>\n",
       "</table>\n",
       "</div>"
      ],
      "text/plain": [
       "       id                            MovieName  \\\n",
       "0     278             The Shawshank Redemption   \n",
       "1     238                        The Godfather   \n",
       "2  537061  Ramayana: The Legend of Prince Rama   \n",
       "3  537061                       Hababam Sinifi   \n",
       "4     155                      The Dark Knight   \n",
       "\n",
       "                                                tags  \n",
       "0  [Over the course of several years,  two convic...  \n",
       "1  [Don Vito Corleone,  head of a mafia family,  ...  \n",
       "2  [An anime adaptation of the Hindu epic the Ram...  \n",
       "3  [Lazy,  uneducated students share a very close...  \n",
       "4  [When the menace known as the Joker wreaks hav...  "
      ]
     },
     "execution_count": 14,
     "metadata": {},
     "output_type": "execute_result"
    }
   ],
   "source": [
    "new_df.head()"
   ]
  },
  {
   "cell_type": "markdown",
   "metadata": {},
   "source": [
    "### We're converting the **Tag** column into String Type So we're able to apply Bag of Word technique."
   ]
  },
  {
   "cell_type": "code",
   "execution_count": 15,
   "metadata": {},
   "outputs": [
    {
     "name": "stderr",
     "output_type": "stream",
     "text": [
      "C:\\Users\\ROG Zephyrus PC\\AppData\\Local\\Temp\\ipykernel_34796\\3089450492.py:1: SettingWithCopyWarning: \n",
      "A value is trying to be set on a copy of a slice from a DataFrame.\n",
      "Try using .loc[row_indexer,col_indexer] = value instead\n",
      "\n",
      "See the caveats in the documentation: https://pandas.pydata.org/pandas-docs/stable/user_guide/indexing.html#returning-a-view-versus-a-copy\n",
      "  new_df['tags'] = new_df['tags'].apply(lambda x:\" \".join(x))\n"
     ]
    }
   ],
   "source": [
    "new_df['tags'] = new_df['tags'].apply(lambda x:\" \".join(x))"
   ]
  },
  {
   "cell_type": "code",
   "execution_count": 16,
   "metadata": {},
   "outputs": [
    {
     "data": {
      "text/plain": [
       "'Over the course of several years  two convicts form a friendship  seeking consolation and  eventually  redemption through basic compassion. Frank Darabont Drama TimRobbins MorganFreeman BobGunton WilliamSadler 142 1994 82 2728085 28.34'"
      ]
     },
     "execution_count": 16,
     "metadata": {},
     "output_type": "execute_result"
    }
   ],
   "source": [
    "new_df.iloc[0]['tags']"
   ]
  },
  {
   "cell_type": "code",
   "execution_count": 17,
   "metadata": {},
   "outputs": [
    {
     "name": "stderr",
     "output_type": "stream",
     "text": [
      "C:\\Users\\ROG Zephyrus PC\\AppData\\Local\\Temp\\ipykernel_34796\\842480936.py:1: SettingWithCopyWarning: \n",
      "A value is trying to be set on a copy of a slice from a DataFrame.\n",
      "Try using .loc[row_indexer,col_indexer] = value instead\n",
      "\n",
      "See the caveats in the documentation: https://pandas.pydata.org/pandas-docs/stable/user_guide/indexing.html#returning-a-view-versus-a-copy\n",
      "  new_df['tags'] = new_df['tags'].apply(lambda x:x.lower())\n"
     ]
    },
    {
     "data": {
      "text/html": [
       "<div>\n",
       "<style scoped>\n",
       "    .dataframe tbody tr th:only-of-type {\n",
       "        vertical-align: middle;\n",
       "    }\n",
       "\n",
       "    .dataframe tbody tr th {\n",
       "        vertical-align: top;\n",
       "    }\n",
       "\n",
       "    .dataframe thead th {\n",
       "        text-align: right;\n",
       "    }\n",
       "</style>\n",
       "<table border=\"1\" class=\"dataframe\">\n",
       "  <thead>\n",
       "    <tr style=\"text-align: right;\">\n",
       "      <th></th>\n",
       "      <th>id</th>\n",
       "      <th>MovieName</th>\n",
       "      <th>tags</th>\n",
       "    </tr>\n",
       "  </thead>\n",
       "  <tbody>\n",
       "    <tr>\n",
       "      <th>0</th>\n",
       "      <td>278</td>\n",
       "      <td>The Shawshank Redemption</td>\n",
       "      <td>over the course of several years  two convicts...</td>\n",
       "    </tr>\n",
       "    <tr>\n",
       "      <th>1</th>\n",
       "      <td>238</td>\n",
       "      <td>The Godfather</td>\n",
       "      <td>don vito corleone  head of a mafia family  dec...</td>\n",
       "    </tr>\n",
       "    <tr>\n",
       "      <th>2</th>\n",
       "      <td>537061</td>\n",
       "      <td>Ramayana: The Legend of Prince Rama</td>\n",
       "      <td>an anime adaptation of the hindu epic the rama...</td>\n",
       "    </tr>\n",
       "    <tr>\n",
       "      <th>3</th>\n",
       "      <td>537061</td>\n",
       "      <td>Hababam Sinifi</td>\n",
       "      <td>lazy  uneducated students share a very close b...</td>\n",
       "    </tr>\n",
       "    <tr>\n",
       "      <th>4</th>\n",
       "      <td>155</td>\n",
       "      <td>The Dark Knight</td>\n",
       "      <td>when the menace known as the joker wreaks havo...</td>\n",
       "    </tr>\n",
       "  </tbody>\n",
       "</table>\n",
       "</div>"
      ],
      "text/plain": [
       "       id                            MovieName  \\\n",
       "0     278             The Shawshank Redemption   \n",
       "1     238                        The Godfather   \n",
       "2  537061  Ramayana: The Legend of Prince Rama   \n",
       "3  537061                       Hababam Sinifi   \n",
       "4     155                      The Dark Knight   \n",
       "\n",
       "                                                tags  \n",
       "0  over the course of several years  two convicts...  \n",
       "1  don vito corleone  head of a mafia family  dec...  \n",
       "2  an anime adaptation of the hindu epic the rama...  \n",
       "3  lazy  uneducated students share a very close b...  \n",
       "4  when the menace known as the joker wreaks havo...  "
      ]
     },
     "execution_count": 17,
     "metadata": {},
     "output_type": "execute_result"
    }
   ],
   "source": [
    "new_df['tags'] = new_df['tags'].apply(lambda x:x.lower())\n",
    "new_df.head()"
   ]
  },
  {
   "cell_type": "markdown",
   "metadata": {},
   "source": [
    "### Applying **PorterStemmer** on **Tags**"
   ]
  },
  {
   "cell_type": "markdown",
   "metadata": {},
   "source": [
    "This is an optional step but performing stemming using Porter Stemmer algorithm can be be benificial.\n",
    "Stemming is a technique used to reduce words to their base or root form, allowing for better grouping and normalization of words with similar meanings.\n",
    "\n",
    "Example:['Loving','Loved','Lovely']\n",
    "\n",
    "After applying Porter Stemmer: ['Love','Love','Love']        "
   ]
  },
  {
   "cell_type": "code",
   "execution_count": 18,
   "metadata": {},
   "outputs": [],
   "source": [
    "import nltk\n",
    "from nltk.stem.porter import PorterStemmer"
   ]
  },
  {
   "cell_type": "code",
   "execution_count": 19,
   "metadata": {},
   "outputs": [],
   "source": [
    "ps = PorterStemmer()"
   ]
  },
  {
   "cell_type": "code",
   "execution_count": 20,
   "metadata": {},
   "outputs": [],
   "source": [
    "def stem(text):\n",
    "    y = []\n",
    "\n",
    "    for i in text.split():\n",
    "        y.append(ps.stem(i))\n",
    "    \n",
    "    return \" \".join(y)"
   ]
  },
  {
   "cell_type": "code",
   "execution_count": 21,
   "metadata": {},
   "outputs": [
    {
     "name": "stderr",
     "output_type": "stream",
     "text": [
      "C:\\Users\\ROG Zephyrus PC\\AppData\\Local\\Temp\\ipykernel_34796\\3213734980.py:1: SettingWithCopyWarning: \n",
      "A value is trying to be set on a copy of a slice from a DataFrame.\n",
      "Try using .loc[row_indexer,col_indexer] = value instead\n",
      "\n",
      "See the caveats in the documentation: https://pandas.pydata.org/pandas-docs/stable/user_guide/indexing.html#returning-a-view-versus-a-copy\n",
      "  new_df['tags'] = new_df['tags'].apply(stem)\n"
     ]
    }
   ],
   "source": [
    "new_df['tags'] = new_df['tags'].apply(stem)"
   ]
  },
  {
   "cell_type": "code",
   "execution_count": 22,
   "metadata": {},
   "outputs": [
    {
     "data": {
      "text/plain": [
       "'don vito corleon head of a mafia famili decid to hand over hi empir to hi youngest son michael. howev hi decis unintent put the live of hi love one in grave danger. franci ford coppola crime drama marlonbrando alpacino jamescaan dianekeaton 175 1972 100 1896661 134.97'"
      ]
     },
     "execution_count": 22,
     "metadata": {},
     "output_type": "execute_result"
    }
   ],
   "source": [
    "new_df['tags'][1]"
   ]
  },
  {
   "cell_type": "markdown",
   "metadata": {},
   "source": [
    "# **<font color='yellow'>Performing Bag of Word Technique </font>** "
   ]
  },
  {
   "cell_type": "markdown",
   "metadata": {},
   "source": [
    "The Bag of Words is a representation technique commonly used in natural language processing (NLP) to transform text data into a numerical format that machine learning algorithms can understand. It simplifies a document by considering it as an unordered collection or \"bag\" of words, without considering grammar or word order. The BoW model focuses solely on the occurrence and frequency of words in the document."
   ]
  },
  {
   "cell_type": "markdown",
   "metadata": {},
   "source": [
    "**Example**: \n",
    "\n",
    "**The sentence** \n",
    "\n",
    "\"Squealing suitcase squids are not like regular squids.\" could be changed into the following BoW dictionary:\n",
    "\n",
    "{'squeal': 1, 'like': 1, 'not': 1, 'suitcase': 1, 'be': 1, 'regular': 1, 'squid': 2}"
   ]
  },
  {
   "cell_type": "markdown",
   "metadata": {},
   "source": [
    "#### **<font color='yellow'>CountVectorizer </font>** "
   ]
  },
  {
   "cell_type": "markdown",
   "metadata": {},
   "source": [
    "CountVectorizer is a feature extraction technique provided by the scikit-learn library in Python. \n",
    "\n",
    "It is specifically designed for converting text documents into numerical feature vectors. CountVectorizer transforms a collection of text documents into a matrix where each row represents a document, and each column represents a unique word\n",
    "\n",
    "The value in each cell of the matrix represents the count or frequency of the corresponding word in the document."
   ]
  },
  {
   "cell_type": "code",
   "execution_count": 23,
   "metadata": {},
   "outputs": [],
   "source": [
    "from sklearn.feature_extraction.text import CountVectorizer\n",
    "cv = CountVectorizer(max_features=40000,stop_words='english') "
   ]
  },
  {
   "cell_type": "code",
   "execution_count": 24,
   "metadata": {},
   "outputs": [],
   "source": [
    "vectors = cv.fit_transform(new_df['tags'])"
   ]
  },
  {
   "cell_type": "code",
   "execution_count": 25,
   "metadata": {},
   "outputs": [
    {
     "data": {
      "text/plain": [
       "(9497, 40000)"
      ]
     },
     "execution_count": 25,
     "metadata": {},
     "output_type": "execute_result"
    }
   ],
   "source": [
    "vectors.shape"
   ]
  },
  {
   "cell_type": "code",
   "execution_count": 26,
   "metadata": {},
   "outputs": [
    {
     "data": {
      "text/plain": [
       "array(['00', '000', '007', ..., 'øyvindhagen', 'ümmüputgül', 'ünlü'],\n",
       "      dtype=object)"
      ]
     },
     "execution_count": 26,
     "metadata": {},
     "output_type": "execute_result"
    }
   ],
   "source": [
    "cv.get_feature_names_out()"
   ]
  },
  {
   "cell_type": "markdown",
   "metadata": {},
   "source": [
    "# **<font color='yellow'>Model</font>**"
   ]
  },
  {
   "cell_type": "markdown",
   "metadata": {},
   "source": [
    "### **Performing KNN (K-Nearest Neighbors) with Cosine Similarity**"
   ]
  },
  {
   "cell_type": "markdown",
   "metadata": {},
   "source": [
    "## Cosine Similarity"
   ]
  },
  {
   "cell_type": "markdown",
   "metadata": {},
   "source": [
    "Cosine similarity is a metric used to measure the similarity between two vectors by computing the cosine of the angle between them. "
   ]
  },
  {
   "cell_type": "code",
   "execution_count": 27,
   "metadata": {},
   "outputs": [],
   "source": [
    " # Number of neighbors to consider\n",
    "k = 10\n",
    "knn_model = NearestNeighbors(n_neighbors=k, metric='cosine')\n",
    "knn_model.fit(vectors)\n",
    "distances, indices = knn_model.kneighbors(vectors)\n"
   ]
  },
  {
   "cell_type": "code",
   "execution_count": 28,
   "metadata": {},
   "outputs": [],
   "source": [
    "def recommend(movie):\n",
    "    movie_index = new_df[new_df['MovieName'] == movie].index[0]\n",
    "    target_movie = vectors[movie_index]\n",
    "\n",
    "    _, top_movie_indices = knn_model.kneighbors(target_movie)\n",
    "    distances,_= knn_model.kneighbors(target_movie)\n",
    "\n",
    "    ## Flatten the distance array andtarget_movie = vectors[movie_index] top_movie_indices array\n",
    "    distances = distances.flatten()\n",
    "    top_movie_indices = top_movie_indices.flatten()\n",
    "    top_similar_movies = new_df.iloc[top_movie_indices]['MovieName']\n",
    "\n",
    "    for i in top_similar_movies:\n",
    "        print(i)\n",
    "    \n"
   ]
  },
  {
   "cell_type": "code",
   "execution_count": 29,
   "metadata": {},
   "outputs": [
    {
     "name": "stdout",
     "output_type": "stream",
     "text": [
      "Thor\n",
      "Thor: The Dark World\n",
      "Thor: Love and Thunder\n",
      "Thor: Ragnarok\n",
      "Hannibal\n",
      "Bright\n",
      "Power Rangers\n",
      "Paranormal Activity\n",
      "Miami Vice\n",
      "Eternals\n"
     ]
    }
   ],
   "source": [
    "recommend('Thor')"
   ]
  },
  {
   "cell_type": "markdown",
   "metadata": {},
   "source": [
    "### Saving the result file into Pickle File"
   ]
  },
  {
   "cell_type": "code",
   "execution_count": 30,
   "metadata": {},
   "outputs": [],
   "source": [
    "import pickle"
   ]
  },
  {
   "cell_type": "code",
   "execution_count": 31,
   "metadata": {},
   "outputs": [],
   "source": [
    "pickle.dump(new_df,open('movielist.pkl','wb'))"
   ]
  },
  {
   "cell_type": "code",
   "execution_count": 32,
   "metadata": {},
   "outputs": [],
   "source": [
    "pickle.dump(distances,open('similarity.pkl','wb'))"
   ]
  },
  {
   "cell_type": "code",
   "execution_count": 33,
   "metadata": {},
   "outputs": [
    {
     "data": {
      "text/plain": [
       "array([[0.00000000e+00, 8.40000000e-01, 8.43107092e-01, ...,\n",
       "        8.51443729e-01, 8.53940651e-01, 8.60737875e-01],\n",
       "       [0.00000000e+00, 4.57884801e-01, 5.24443646e-01, ...,\n",
       "        5.95854812e-01, 5.98336791e-01, 5.99444830e-01],\n",
       "       [2.22044605e-16, 6.25497057e-01, 6.76710456e-01, ...,\n",
       "        7.06705770e-01, 7.08641727e-01, 7.09677419e-01],\n",
       "       ...,\n",
       "       [4.44089210e-16, 7.09828354e-01, 7.19775731e-01, ...,\n",
       "        7.54641754e-01, 7.57318664e-01, 7.61023940e-01],\n",
       "       [0.00000000e+00, 7.08079820e-01, 7.14226197e-01, ...,\n",
       "        7.38138532e-01, 7.40026527e-01, 7.40026527e-01],\n",
       "       [2.22044605e-16, 5.70227753e-01, 5.99952654e-01, ...,\n",
       "        6.58838477e-01, 6.61130503e-01, 6.61498400e-01]])"
      ]
     },
     "execution_count": 33,
     "metadata": {},
     "output_type": "execute_result"
    }
   ],
   "source": [
    "pickle.load(open('similarity.pkl','rb'))"
   ]
  },
  {
   "cell_type": "code",
   "execution_count": 34,
   "metadata": {},
   "outputs": [],
   "source": [
    "pickle.dump(vectors,open('vectors.pkl','wb'))"
   ]
  },
  {
   "cell_type": "code",
   "execution_count": 35,
   "metadata": {},
   "outputs": [
    {
     "name": "stderr",
     "output_type": "stream",
     "text": [
      "C:\\Users\\ROG Zephyrus PC\\AppData\\Local\\Temp\\ipykernel_34796\\1403378.py:1: SettingWithCopyWarning: \n",
      "A value is trying to be set on a copy of a slice from a DataFrame.\n",
      "Try using .loc[row_indexer,col_indexer] = value instead\n",
      "\n",
      "See the caveats in the documentation: https://pandas.pydata.org/pandas-docs/stable/user_guide/indexing.html#returning-a-view-versus-a-copy\n",
      "  new_df['id'] = new_df['id'].astype(int)\n"
     ]
    }
   ],
   "source": [
    "new_df['id'] = new_df['id'].astype(int)"
   ]
  },
  {
   "cell_type": "code",
   "execution_count": 36,
   "metadata": {},
   "outputs": [
    {
     "data": {
      "text/html": [
       "<div>\n",
       "<style scoped>\n",
       "    .dataframe tbody tr th:only-of-type {\n",
       "        vertical-align: middle;\n",
       "    }\n",
       "\n",
       "    .dataframe tbody tr th {\n",
       "        vertical-align: top;\n",
       "    }\n",
       "\n",
       "    .dataframe thead th {\n",
       "        text-align: right;\n",
       "    }\n",
       "</style>\n",
       "<table border=\"1\" class=\"dataframe\">\n",
       "  <thead>\n",
       "    <tr style=\"text-align: right;\">\n",
       "      <th></th>\n",
       "      <th>id</th>\n",
       "      <th>MovieName</th>\n",
       "      <th>tags</th>\n",
       "    </tr>\n",
       "  </thead>\n",
       "  <tbody>\n",
       "    <tr>\n",
       "      <th>0</th>\n",
       "      <td>278</td>\n",
       "      <td>The Shawshank Redemption</td>\n",
       "      <td>over the cours of sever year two convict form ...</td>\n",
       "    </tr>\n",
       "    <tr>\n",
       "      <th>1</th>\n",
       "      <td>238</td>\n",
       "      <td>The Godfather</td>\n",
       "      <td>don vito corleon head of a mafia famili decid ...</td>\n",
       "    </tr>\n",
       "    <tr>\n",
       "      <th>2</th>\n",
       "      <td>537061</td>\n",
       "      <td>Ramayana: The Legend of Prince Rama</td>\n",
       "      <td>an anim adapt of the hindu epic the ramayana w...</td>\n",
       "    </tr>\n",
       "    <tr>\n",
       "      <th>3</th>\n",
       "      <td>537061</td>\n",
       "      <td>Hababam Sinifi</td>\n",
       "      <td>lazi uneduc student share a veri close bond. t...</td>\n",
       "    </tr>\n",
       "    <tr>\n",
       "      <th>4</th>\n",
       "      <td>155</td>\n",
       "      <td>The Dark Knight</td>\n",
       "      <td>when the menac known as the joker wreak havoc ...</td>\n",
       "    </tr>\n",
       "    <tr>\n",
       "      <th>...</th>\n",
       "      <td>...</td>\n",
       "      <td>...</td>\n",
       "      <td>...</td>\n",
       "    </tr>\n",
       "    <tr>\n",
       "      <th>9492</th>\n",
       "      <td>676547</td>\n",
       "      <td>Visions</td>\n",
       "      <td>after move to a vineyard to start a new life w...</td>\n",
       "    </tr>\n",
       "    <tr>\n",
       "      <th>9493</th>\n",
       "      <td>340102</td>\n",
       "      <td>Housefull 2</td>\n",
       "      <td>a comedi of error wherein four men help each o...</td>\n",
       "    </tr>\n",
       "    <tr>\n",
       "      <th>9494</th>\n",
       "      <td>537061</td>\n",
       "      <td>Celtic Pride</td>\n",
       "      <td>two over-loy celtic fan kidnap their opponent'...</td>\n",
       "    </tr>\n",
       "    <tr>\n",
       "      <th>9495</th>\n",
       "      <td>537061</td>\n",
       "      <td>Wrecked</td>\n",
       "      <td>a man wake in a car wreck at the bottom of a r...</td>\n",
       "    </tr>\n",
       "    <tr>\n",
       "      <th>9496</th>\n",
       "      <td>615457</td>\n",
       "      <td>Krrish 3</td>\n",
       "      <td>krrish and hi scientist father must save the w...</td>\n",
       "    </tr>\n",
       "  </tbody>\n",
       "</table>\n",
       "<p>9497 rows × 3 columns</p>\n",
       "</div>"
      ],
      "text/plain": [
       "          id                            MovieName  \\\n",
       "0        278             The Shawshank Redemption   \n",
       "1        238                        The Godfather   \n",
       "2     537061  Ramayana: The Legend of Prince Rama   \n",
       "3     537061                       Hababam Sinifi   \n",
       "4        155                      The Dark Knight   \n",
       "...      ...                                  ...   \n",
       "9492  676547                              Visions   \n",
       "9493  340102                          Housefull 2   \n",
       "9494  537061                         Celtic Pride   \n",
       "9495  537061                              Wrecked   \n",
       "9496  615457                             Krrish 3   \n",
       "\n",
       "                                                   tags  \n",
       "0     over the cours of sever year two convict form ...  \n",
       "1     don vito corleon head of a mafia famili decid ...  \n",
       "2     an anim adapt of the hindu epic the ramayana w...  \n",
       "3     lazi uneduc student share a veri close bond. t...  \n",
       "4     when the menac known as the joker wreak havoc ...  \n",
       "...                                                 ...  \n",
       "9492  after move to a vineyard to start a new life w...  \n",
       "9493  a comedi of error wherein four men help each o...  \n",
       "9494  two over-loy celtic fan kidnap their opponent'...  \n",
       "9495  a man wake in a car wreck at the bottom of a r...  \n",
       "9496  krrish and hi scientist father must save the w...  \n",
       "\n",
       "[9497 rows x 3 columns]"
      ]
     },
     "execution_count": 36,
     "metadata": {},
     "output_type": "execute_result"
    }
   ],
   "source": [
    "pickle.load(open('movielist.pkl','rb'))"
   ]
  }
 ],
 "metadata": {
  "kernelspec": {
   "display_name": "Python 3 (ipykernel)",
   "language": "python",
   "name": "python3"
  },
  "language_info": {
   "codemirror_mode": {
    "name": "ipython",
    "version": 3
   },
   "file_extension": ".py",
   "mimetype": "text/x-python",
   "name": "python",
   "nbconvert_exporter": "python",
   "pygments_lexer": "ipython3",
   "version": "3.11.1"
  }
 },
 "nbformat": 4,
 "nbformat_minor": 2
}
